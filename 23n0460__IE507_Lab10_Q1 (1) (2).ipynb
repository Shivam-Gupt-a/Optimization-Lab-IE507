{
  "nbformat": 4,
  "nbformat_minor": 0,
  "metadata": {
    "colab": {
      "provenance": []
    },
    "kernelspec": {
      "name": "python3",
      "display_name": "Python 3"
    },
    "language_info": {
      "name": "python"
    }
  },
  "cells": [
    {
      "cell_type": "code",
      "execution_count": 1,
      "metadata": {
        "id": "Fk1va-WZhrIV",
        "colab": {
          "base_uri": "https://localhost:8080/"
        },
        "outputId": "25025aed-35cd-4370-9526-1a5264c27432"
      },
      "outputs": [
        {
          "output_type": "stream",
          "name": "stdout",
          "text": [
            "\u001b[2K     \u001b[90m━━━━━━━━━━━━━━━━━━━━━━━━━━━━━━━━━━━━━━━━\u001b[0m \u001b[32m12.7/12.7 MB\u001b[0m \u001b[31m59.4 MB/s\u001b[0m eta \u001b[36m0:00:00\u001b[0m\n",
            "\u001b[2K     \u001b[90m━━━━━━━━━━━━━━━━━━━━━━━━━━━━━━━━━━━━━━━━\u001b[0m \u001b[32m49.6/49.6 kB\u001b[0m \u001b[31m6.1 MB/s\u001b[0m eta \u001b[36m0:00:00\u001b[0m\n",
            "\u001b[?25h"
          ]
        }
      ],
      "source": [
        "!pip -q install pyomo\n",
        "from pyomo.environ import *\n",
        "import numpy as np"
      ]
    },
    {
      "cell_type": "code",
      "source": [
        "#Ans_1.1\n",
        "N = 11\n",
        "M=10\n",
        "c=np.array([3,2,6,5,5,4,6,8,8,5,4])"
      ],
      "metadata": {
        "id": "bx5u85dOk_y6"
      },
      "execution_count": 2,
      "outputs": []
    },
    {
      "cell_type": "code",
      "source": [
        "A=np.array([[-1,-1,-1,-1,-1,-1,-1,-1,-1,-1,-1],[1,1,1,1,1,1,1,1,1,1,1],[0,0,1,0,0,0,0,1,0,0,0],[0,0,0,0,1,0,0,0,0,1,0],[0,0,1,0,0,0,0,0,1,0,0],[-1,0,0,0,0,0,0,0,0,0,-1],[1,1,1,0,0,0,0,0,0,0,0],[-1,-1,-1,0,0,0,0,0,0,0,0],[0,0,0,0,0,1,1,0,0,0,0],[0,0,0,1,1,0,0,0,0,0,0,1,0]])\n",
        "b=np.array([-5,9,1,1,1,0,2,-1,1,2])\n"
      ],
      "metadata": {
        "colab": {
          "base_uri": "https://localhost:8080/"
        },
        "id": "OR3Z0CBXlRDt",
        "outputId": "34c1bb46-ba94-4156-f58d-e735d7539568"
      },
      "execution_count": 3,
      "outputs": [
        {
          "output_type": "stream",
          "name": "stderr",
          "text": [
            "<ipython-input-3-522814905b4f>:1: VisibleDeprecationWarning: Creating an ndarray from ragged nested sequences (which is a list-or-tuple of lists-or-tuples-or ndarrays with different lengths or shapes) is deprecated. If you meant to do this, you must specify 'dtype=object' when creating the ndarray.\n",
            "  A=np.array([[-1,-1,-1,-1,-1,-1,-1,-1,-1,-1,-1],[1,1,1,1,1,1,1,1,1,1,1],[0,0,1,0,0,0,0,1,0,0,0],[0,0,0,0,1,0,0,0,0,1,0],[0,0,1,0,0,0,0,0,1,0,0],[-1,0,0,0,0,0,0,0,0,0,-1],[1,1,1,0,0,0,0,0,0,0,0],[-1,-1,-1,0,0,0,0,0,0,0,0],[0,0,0,0,0,1,1,0,0,0,0],[0,0,0,1,1,0,0,0,0,0,0,1,0]])\n"
          ]
        }
      ]
    },
    {
      "cell_type": "code",
      "source": [
        "MILP_Model = ConcreteModel()"
      ],
      "metadata": {
        "id": "URk1CloFTqYk"
      },
      "execution_count": 4,
      "outputs": []
    },
    {
      "cell_type": "code",
      "source": [
        "MILP_Model.x = Var(np.arange(N), domain = Binary)"
      ],
      "metadata": {
        "id": "AC598fiFapQP"
      },
      "execution_count": 5,
      "outputs": []
    },
    {
      "cell_type": "code",
      "source": [
        "MILP_Model.constraints = ConstraintList()"
      ],
      "metadata": {
        "id": "RYyZO-TFX8sb"
      },
      "execution_count": 6,
      "outputs": []
    },
    {
      "cell_type": "code",
      "source": [
        "[MILP_Model.constraints.add(sum(A[i][j]*MILP_Model.x[j] for j in range(N)) <= b[i]) for i in range(M)]"
      ],
      "metadata": {
        "colab": {
          "base_uri": "https://localhost:8080/"
        },
        "id": "vdf4HlrWU-vR",
        "outputId": "72175751-fedf-44d1-e48e-fd8558ed1b39"
      },
      "execution_count": 7,
      "outputs": [
        {
          "output_type": "execute_result",
          "data": {
            "text/plain": [
              "[<pyomo.core.base.constraint._GeneralConstraintData at 0x78eda22c43a0>,\n",
              " <pyomo.core.base.constraint._GeneralConstraintData at 0x78eda22c45e0>,\n",
              " <pyomo.core.base.constraint._GeneralConstraintData at 0x78eda22c46a0>,\n",
              " <pyomo.core.base.constraint._GeneralConstraintData at 0x78eda22c4700>,\n",
              " <pyomo.core.base.constraint._GeneralConstraintData at 0x78eda22c4760>,\n",
              " <pyomo.core.base.constraint._GeneralConstraintData at 0x78eda22c47c0>,\n",
              " <pyomo.core.base.constraint._GeneralConstraintData at 0x78eda22c4820>,\n",
              " <pyomo.core.base.constraint._GeneralConstraintData at 0x78eda22c4880>,\n",
              " <pyomo.core.base.constraint._GeneralConstraintData at 0x78eda22c48e0>,\n",
              " <pyomo.core.base.constraint._GeneralConstraintData at 0x78eda22c4940>]"
            ]
          },
          "metadata": {},
          "execution_count": 7
        }
      ]
    },
    {
      "cell_type": "code",
      "source": [
        "MILP_Model.Objective = Objective(expr = sum(c[j]*MILP_Model.x[j] for j in range(N)), sense = maximize)"
      ],
      "metadata": {
        "id": "op1gaaxTbI7k"
      },
      "execution_count": 8,
      "outputs": []
    },
    {
      "cell_type": "code",
      "source": [
        "MILP_Model.pprint()"
      ],
      "metadata": {
        "colab": {
          "base_uri": "https://localhost:8080/"
        },
        "id": "5Rfkya8tbWSu",
        "outputId": "2c73de38-4350-415a-ba46-ff3b4fcfec12"
      },
      "execution_count": 9,
      "outputs": [
        {
          "output_type": "stream",
          "name": "stdout",
          "text": [
            "2 Set Declarations\n",
            "    constraints_index : Size=1, Index=None, Ordered=Insertion\n",
            "        Key  : Dimen : Domain : Size : Members\n",
            "        None :     1 :    Any :   10 : {1, 2, 3, 4, 5, 6, 7, 8, 9, 10}\n",
            "    x_index : Size=1, Index=None, Ordered=False\n",
            "        Key  : Dimen : Domain : Size : Members\n",
            "        None :     1 :    Any :   11 : {0, 1, 2, 3, 4, 5, 6, 7, 8, 9, 10}\n",
            "\n",
            "1 Var Declarations\n",
            "    x : Size=11, Index=x_index\n",
            "        Key : Lower : Value : Upper : Fixed : Stale : Domain\n",
            "          0 :     0 :  None :     1 : False :  True : Binary\n",
            "          1 :     0 :  None :     1 : False :  True : Binary\n",
            "          2 :     0 :  None :     1 : False :  True : Binary\n",
            "          3 :     0 :  None :     1 : False :  True : Binary\n",
            "          4 :     0 :  None :     1 : False :  True : Binary\n",
            "          5 :     0 :  None :     1 : False :  True : Binary\n",
            "          6 :     0 :  None :     1 : False :  True : Binary\n",
            "          7 :     0 :  None :     1 : False :  True : Binary\n",
            "          8 :     0 :  None :     1 : False :  True : Binary\n",
            "          9 :     0 :  None :     1 : False :  True : Binary\n",
            "         10 :     0 :  None :     1 : False :  True : Binary\n",
            "\n",
            "1 Objective Declarations\n",
            "    Objective : Size=1, Index=None, Active=True\n",
            "        Key  : Active : Sense    : Expression\n",
            "        None :   True : maximize : 3*x[0] + 2*x[1] + 6*x[2] + 5*x[3] + 5*x[4] + 4*x[5] + 6*x[6] + 8*x[7] + 8*x[8] + 5*x[9] + 4*x[10]\n",
            "\n",
            "1 Constraint Declarations\n",
            "    constraints : Size=10, Index=constraints_index, Active=True\n",
            "        Key : Lower : Body                                                                                            : Upper : Active\n",
            "          1 :  -Inf :                   - x[0] - x[1] - x[2] - x[3] - x[4] - x[5] - x[6] - x[7] - x[8] - x[9] - x[10] :  -5.0 :   True\n",
            "          2 :  -Inf :                     x[0] + x[1] + x[2] + x[3] + x[4] + x[5] + x[6] + x[7] + x[8] + x[9] + x[10] :   9.0 :   True\n",
            "          3 :  -Inf :   0*x[0] + 0*x[1] + x[2] + 0*x[3] + 0*x[4] + 0*x[5] + 0*x[6] + x[7] + 0*x[8] + 0*x[9] + 0*x[10] :   1.0 :   True\n",
            "          4 :  -Inf :   0*x[0] + 0*x[1] + 0*x[2] + 0*x[3] + x[4] + 0*x[5] + 0*x[6] + 0*x[7] + 0*x[8] + x[9] + 0*x[10] :   1.0 :   True\n",
            "          5 :  -Inf :   0*x[0] + 0*x[1] + x[2] + 0*x[3] + 0*x[4] + 0*x[5] + 0*x[6] + 0*x[7] + x[8] + 0*x[9] + 0*x[10] :   1.0 :   True\n",
            "          6 :  -Inf : - x[0] + 0*x[1] + 0*x[2] + 0*x[3] + 0*x[4] + 0*x[5] + 0*x[6] + 0*x[7] + 0*x[8] + 0*x[9] - x[10] :   0.0 :   True\n",
            "          7 :  -Inf :     x[0] + x[1] + x[2] + 0*x[3] + 0*x[4] + 0*x[5] + 0*x[6] + 0*x[7] + 0*x[8] + 0*x[9] + 0*x[10] :   2.0 :   True\n",
            "          8 :  -Inf :   - x[0] - x[1] - x[2] + 0*x[3] + 0*x[4] + 0*x[5] + 0*x[6] + 0*x[7] + 0*x[8] + 0*x[9] + 0*x[10] :  -1.0 :   True\n",
            "          9 :  -Inf :   0*x[0] + 0*x[1] + 0*x[2] + 0*x[3] + 0*x[4] + x[5] + x[6] + 0*x[7] + 0*x[8] + 0*x[9] + 0*x[10] :   1.0 :   True\n",
            "         10 :  -Inf :   0*x[0] + 0*x[1] + 0*x[2] + x[3] + x[4] + 0*x[5] + 0*x[6] + 0*x[7] + 0*x[8] + 0*x[9] + 0*x[10] :   2.0 :   True\n",
            "\n",
            "5 Declarations: x_index x constraints_index constraints Objective\n"
          ]
        }
      ]
    },
    {
      "cell_type": "code",
      "source": [
        "#Ans-1.2\n",
        "!apt-get -q install -y -qq coinor-cbc"
      ],
      "metadata": {
        "id": "ra_L_L2kbmxT",
        "colab": {
          "base_uri": "https://localhost:8080/"
        },
        "outputId": "2af777f9-4d9d-4f45-bf34-a1224a24c2c4"
      },
      "execution_count": 10,
      "outputs": [
        {
          "output_type": "stream",
          "name": "stdout",
          "text": [
            "Selecting previously unselected package coinor-libcoinutils3v5:amd64.\n",
            "(Reading database ... 120875 files and directories currently installed.)\n",
            "Preparing to unpack .../0-coinor-libcoinutils3v5_2.11.4+repack1-2_amd64.deb ...\n",
            "Unpacking coinor-libcoinutils3v5:amd64 (2.11.4+repack1-2) ...\n",
            "Selecting previously unselected package coinor-libosi1v5:amd64.\n",
            "Preparing to unpack .../1-coinor-libosi1v5_0.108.6+repack1-2_amd64.deb ...\n",
            "Unpacking coinor-libosi1v5:amd64 (0.108.6+repack1-2) ...\n",
            "Selecting previously unselected package coinor-libclp1.\n",
            "Preparing to unpack .../2-coinor-libclp1_1.17.5+repack1-1_amd64.deb ...\n",
            "Unpacking coinor-libclp1 (1.17.5+repack1-1) ...\n",
            "Selecting previously unselected package coinor-libcgl1:amd64.\n",
            "Preparing to unpack .../3-coinor-libcgl1_0.60.3+repack1-3_amd64.deb ...\n",
            "Unpacking coinor-libcgl1:amd64 (0.60.3+repack1-3) ...\n",
            "Selecting previously unselected package coinor-libcbc3:amd64.\n",
            "Preparing to unpack .../4-coinor-libcbc3_2.10.7+ds1-1_amd64.deb ...\n",
            "Unpacking coinor-libcbc3:amd64 (2.10.7+ds1-1) ...\n",
            "Selecting previously unselected package coinor-cbc.\n",
            "Preparing to unpack .../5-coinor-cbc_2.10.7+ds1-1_amd64.deb ...\n",
            "Unpacking coinor-cbc (2.10.7+ds1-1) ...\n",
            "Setting up coinor-libcoinutils3v5:amd64 (2.11.4+repack1-2) ...\n",
            "Setting up coinor-libosi1v5:amd64 (0.108.6+repack1-2) ...\n",
            "Setting up coinor-libclp1 (1.17.5+repack1-1) ...\n",
            "Setting up coinor-libcgl1:amd64 (0.60.3+repack1-3) ...\n",
            "Setting up coinor-libcbc3:amd64 (2.10.7+ds1-1) ...\n",
            "Setting up coinor-cbc (2.10.7+ds1-1) ...\n",
            "Processing triggers for man-db (2.10.2-1) ...\n",
            "Processing triggers for libc-bin (2.35-0ubuntu3.1) ...\n",
            "/sbin/ldconfig.real: /usr/local/lib/libtbbbind_2_0.so.3 is not a symbolic link\n",
            "\n",
            "/sbin/ldconfig.real: /usr/local/lib/libtbbmalloc.so.2 is not a symbolic link\n",
            "\n",
            "/sbin/ldconfig.real: /usr/local/lib/libtbbbind_2_5.so.3 is not a symbolic link\n",
            "\n",
            "/sbin/ldconfig.real: /usr/local/lib/libtbbmalloc_proxy.so.2 is not a symbolic link\n",
            "\n",
            "/sbin/ldconfig.real: /usr/local/lib/libtbb.so.12 is not a symbolic link\n",
            "\n",
            "/sbin/ldconfig.real: /usr/local/lib/libtbbbind.so.3 is not a symbolic link\n",
            "\n"
          ]
        }
      ]
    },
    {
      "cell_type": "code",
      "source": [
        "optCBC = SolverFactory('cbc')"
      ],
      "metadata": {
        "id": "6OiNXZiubz4e"
      },
      "execution_count": 11,
      "outputs": []
    },
    {
      "cell_type": "code",
      "source": [
        "resultCBC = optCBC.solve(MILP_Model)\n",
        "print(resultCBC)"
      ],
      "metadata": {
        "colab": {
          "base_uri": "https://localhost:8080/"
        },
        "id": "TyynK8R_b5RW",
        "outputId": "bab6d4d1-608c-4dac-b5dc-ed2f3a63df30"
      },
      "execution_count": 12,
      "outputs": [
        {
          "output_type": "stream",
          "name": "stdout",
          "text": [
            "\n",
            "Problem: \n",
            "- Name: unknown\n",
            "  Lower bound: 41.0\n",
            "  Upper bound: 41.0\n",
            "  Number of objectives: 1\n",
            "  Number of constraints: 8\n",
            "  Number of variables: 11\n",
            "  Number of binary variables: 11\n",
            "  Number of integer variables: 11\n",
            "  Number of nonzeros: 11\n",
            "  Sense: maximize\n",
            "Solver: \n",
            "- Status: ok\n",
            "  User time: -1.0\n",
            "  System time: 0.0\n",
            "  Wallclock time: 0.01\n",
            "  Termination condition: optimal\n",
            "  Termination message: Model was solved to optimality (subject to tolerances), and an optimal solution is available.\n",
            "  Statistics: \n",
            "    Branch and bound: \n",
            "      Number of bounded subproblems: 0\n",
            "      Number of created subproblems: 0\n",
            "    Black box: \n",
            "      Number of iterations: 0\n",
            "  Error rc: 0\n",
            "  Time: 0.07239985466003418\n",
            "Solution: \n",
            "- number of solutions: 0\n",
            "  number of solutions displayed: 0\n",
            "\n"
          ]
        }
      ]
    },
    {
      "cell_type": "code",
      "source": [],
      "metadata": {
        "id": "doc3AIgy-Kts"
      },
      "execution_count": 12,
      "outputs": []
    },
    {
      "cell_type": "code",
      "source": [
        "def OptResults(Model):\n",
        "\n",
        "  print('\\nObjective = ', Model.Objective())\n",
        "\n",
        "  print('\\nDecision Variables')\n",
        "  for i in np.arange(N):\n",
        "    print('x[',i,'] = ', Model.x[i].value)\n",
        "  print('\\nConstraints')\n",
        "  Model.constraints.display()\n",
        "\n",
        "ILP_ModelSolution = OptResults(MILP_Model)"
      ],
      "metadata": {
        "colab": {
          "base_uri": "https://localhost:8080/"
        },
        "id": "IOG622nYcFmZ",
        "outputId": "17131690-0fe0-4c38-afbf-132e1c4f6573"
      },
      "execution_count": 13,
      "outputs": [
        {
          "output_type": "stream",
          "name": "stdout",
          "text": [
            "\n",
            "Objective =  41.0\n",
            "\n",
            "Decision Variables\n",
            "x[ 0 ] =  1.0\n",
            "x[ 1 ] =  1.0\n",
            "x[ 2 ] =  0.0\n",
            "x[ 3 ] =  1.0\n",
            "x[ 4 ] =  1.0\n",
            "x[ 5 ] =  0.0\n",
            "x[ 6 ] =  1.0\n",
            "x[ 7 ] =  1.0\n",
            "x[ 8 ] =  1.0\n",
            "x[ 9 ] =  0.0\n",
            "x[ 10 ] =  1.0\n",
            "\n",
            "Constraints\n",
            "constraints : Size=10\n",
            "    Key : Lower : Body : Upper\n",
            "      1 :  None : -8.0 :  -5.0\n",
            "      2 :  None :  8.0 :   9.0\n",
            "      3 :  None :  1.0 :   1.0\n",
            "      4 :  None :  1.0 :   1.0\n",
            "      5 :  None :  1.0 :   1.0\n",
            "      6 :  None : -2.0 :   0.0\n",
            "      7 :  None :  2.0 :   2.0\n",
            "      8 :  None : -2.0 :  -1.0\n",
            "      9 :  None :  1.0 :   1.0\n",
            "     10 :  None :  2.0 :   2.0\n"
          ]
        }
      ]
    },
    {
      "cell_type": "code",
      "source": [
        "N = 11\n",
        "M=10\n",
        "c=np.array([3,2,6,5,5,4,6,8,8,5,4])\n",
        "A=np.array([[-1,-1,-1,-1,-1,-1,-1,-1,-1,-1,-1],[1,1,1,1,1,1,1,1,1,1,1],[0,0,1,0,0,0,0,1,0,0,0],[0,0,0,0,1,0,0,0,0,1,0],[0,0,1,0,0,0,0,0,1,0,0],[-1,0,0,0,0,0,0,0,0,0,-1],[1,1,1,0,0,0,0,0,0,0,0],[-1,-1,-1,0,0,0,0,0,0,0,0],[0,0,0,0,0,1,1,0,0,0,0],[0,0,0,1,1,0,0,0,0,0,0,1,0]])\n",
        "b=np.array([-5,9,1,1,1,0,2,-1,1,2])\n",
        "Model = ConcreteModel()\n",
        "\n",
        "\n",
        "Model.x = Var(np.arange(N),domain=(0,1))\n",
        "\n",
        "\n",
        "\n",
        "\n",
        "# defining constraints as list of constraints\n",
        "Model.constraints = ConstraintList()\n",
        "\n",
        "\n",
        "\n",
        "[Model.constraints.add(sum(A[i][j]*Model.x[j] for j in range(N)) <= b[i]) for i in range(M)]\n",
        "\n",
        "Model.Objective = Objective(expr = sum(c[j]*Model.x[j] for j in range(N)),sense=maximize)\n",
        "\n",
        "Model.pprint()\n",
        "!apt-get -q install -y -qq coinor-cbc\n",
        "optCBC = SolverFactory('cbc')\n",
        "\n",
        "resultCBC = optCBC.solve(Model)\n",
        "print(resultCBC)\n",
        "OptResultCBC = OptResults(Model)"
      ],
      "metadata": {
        "colab": {
          "base_uri": "https://localhost:8080/"
        },
        "id": "IIzS6xOucjdk",
        "outputId": "a6eaad51-e539-4abb-cbce-fb969a26de42"
      },
      "execution_count": 14,
      "outputs": [
        {
          "output_type": "stream",
          "name": "stdout",
          "text": [
            "2 Set Declarations\n",
            "    constraints_index : Size=1, Index=None, Ordered=Insertion\n",
            "        Key  : Dimen : Domain : Size : Members\n",
            "        None :     1 :    Any :   10 : {1, 2, 3, 4, 5, 6, 7, 8, 9, 10}\n",
            "    x_index : Size=1, Index=None, Ordered=False\n",
            "        Key  : Dimen : Domain : Size : Members\n",
            "        None :     1 :    Any :   11 : {0, 1, 2, 3, 4, 5, 6, 7, 8, 9, 10}\n",
            "\n",
            "1 Var Declarations\n",
            "    x : Size=11, Index=x_index\n",
            "        Key : Lower : Value : Upper : Fixed : Stale : Domain\n",
            "          0 :     0 :  None :     1 : False :  True : {0, 1}\n",
            "          1 :     0 :  None :     1 : False :  True : {0, 1}\n",
            "          2 :     0 :  None :     1 : False :  True : {0, 1}\n",
            "          3 :     0 :  None :     1 : False :  True : {0, 1}\n",
            "          4 :     0 :  None :     1 : False :  True : {0, 1}\n",
            "          5 :     0 :  None :     1 : False :  True : {0, 1}\n",
            "          6 :     0 :  None :     1 : False :  True : {0, 1}\n",
            "          7 :     0 :  None :     1 : False :  True : {0, 1}\n",
            "          8 :     0 :  None :     1 : False :  True : {0, 1}\n",
            "          9 :     0 :  None :     1 : False :  True : {0, 1}\n",
            "         10 :     0 :  None :     1 : False :  True : {0, 1}\n",
            "\n",
            "1 Objective Declarations\n",
            "    Objective : Size=1, Index=None, Active=True\n",
            "        Key  : Active : Sense    : Expression\n",
            "        None :   True : maximize : 3*x[0] + 2*x[1] + 6*x[2] + 5*x[3] + 5*x[4] + 4*x[5] + 6*x[6] + 8*x[7] + 8*x[8] + 5*x[9] + 4*x[10]\n",
            "\n",
            "1 Constraint Declarations\n",
            "    constraints : Size=10, Index=constraints_index, Active=True\n",
            "        Key : Lower : Body                                                                                            : Upper : Active\n",
            "          1 :  -Inf :                   - x[0] - x[1] - x[2] - x[3] - x[4] - x[5] - x[6] - x[7] - x[8] - x[9] - x[10] :  -5.0 :   True\n",
            "          2 :  -Inf :                     x[0] + x[1] + x[2] + x[3] + x[4] + x[5] + x[6] + x[7] + x[8] + x[9] + x[10] :   9.0 :   True\n",
            "          3 :  -Inf :   0*x[0] + 0*x[1] + x[2] + 0*x[3] + 0*x[4] + 0*x[5] + 0*x[6] + x[7] + 0*x[8] + 0*x[9] + 0*x[10] :   1.0 :   True\n",
            "          4 :  -Inf :   0*x[0] + 0*x[1] + 0*x[2] + 0*x[3] + x[4] + 0*x[5] + 0*x[6] + 0*x[7] + 0*x[8] + x[9] + 0*x[10] :   1.0 :   True\n",
            "          5 :  -Inf :   0*x[0] + 0*x[1] + x[2] + 0*x[3] + 0*x[4] + 0*x[5] + 0*x[6] + 0*x[7] + x[8] + 0*x[9] + 0*x[10] :   1.0 :   True\n",
            "          6 :  -Inf : - x[0] + 0*x[1] + 0*x[2] + 0*x[3] + 0*x[4] + 0*x[5] + 0*x[6] + 0*x[7] + 0*x[8] + 0*x[9] - x[10] :   0.0 :   True\n",
            "          7 :  -Inf :     x[0] + x[1] + x[2] + 0*x[3] + 0*x[4] + 0*x[5] + 0*x[6] + 0*x[7] + 0*x[8] + 0*x[9] + 0*x[10] :   2.0 :   True\n",
            "          8 :  -Inf :   - x[0] - x[1] - x[2] + 0*x[3] + 0*x[4] + 0*x[5] + 0*x[6] + 0*x[7] + 0*x[8] + 0*x[9] + 0*x[10] :  -1.0 :   True\n",
            "          9 :  -Inf :   0*x[0] + 0*x[1] + 0*x[2] + 0*x[3] + 0*x[4] + x[5] + x[6] + 0*x[7] + 0*x[8] + 0*x[9] + 0*x[10] :   1.0 :   True\n",
            "         10 :  -Inf :   0*x[0] + 0*x[1] + 0*x[2] + x[3] + x[4] + 0*x[5] + 0*x[6] + 0*x[7] + 0*x[8] + 0*x[9] + 0*x[10] :   2.0 :   True\n",
            "\n",
            "5 Declarations: x_index x constraints_index constraints Objective\n"
          ]
        },
        {
          "output_type": "stream",
          "name": "stderr",
          "text": [
            "<ipython-input-14-7bbe41e017b8>:4: VisibleDeprecationWarning: Creating an ndarray from ragged nested sequences (which is a list-or-tuple of lists-or-tuples-or ndarrays with different lengths or shapes) is deprecated. If you meant to do this, you must specify 'dtype=object' when creating the ndarray.\n",
            "  A=np.array([[-1,-1,-1,-1,-1,-1,-1,-1,-1,-1,-1],[1,1,1,1,1,1,1,1,1,1,1],[0,0,1,0,0,0,0,1,0,0,0],[0,0,0,0,1,0,0,0,0,1,0],[0,0,1,0,0,0,0,0,1,0,0],[-1,0,0,0,0,0,0,0,0,0,-1],[1,1,1,0,0,0,0,0,0,0,0],[-1,-1,-1,0,0,0,0,0,0,0,0],[0,0,0,0,0,1,1,0,0,0,0],[0,0,0,1,1,0,0,0,0,0,0,1,0]])\n"
          ]
        },
        {
          "output_type": "stream",
          "name": "stdout",
          "text": [
            "\n",
            "Problem: \n",
            "- Name: unknown\n",
            "  Lower bound: 41.0\n",
            "  Upper bound: 41.0\n",
            "  Number of objectives: 1\n",
            "  Number of constraints: 8\n",
            "  Number of variables: 11\n",
            "  Number of binary variables: 11\n",
            "  Number of integer variables: 11\n",
            "  Number of nonzeros: 11\n",
            "  Sense: maximize\n",
            "Solver: \n",
            "- Status: ok\n",
            "  User time: -1.0\n",
            "  System time: 0.0\n",
            "  Wallclock time: 0.0\n",
            "  Termination condition: optimal\n",
            "  Termination message: Model was solved to optimality (subject to tolerances), and an optimal solution is available.\n",
            "  Statistics: \n",
            "    Branch and bound: \n",
            "      Number of bounded subproblems: 0\n",
            "      Number of created subproblems: 0\n",
            "    Black box: \n",
            "      Number of iterations: 0\n",
            "  Error rc: 0\n",
            "  Time: 0.015578031539916992\n",
            "Solution: \n",
            "- number of solutions: 0\n",
            "  number of solutions displayed: 0\n",
            "\n",
            "\n",
            "Objective =  41.0\n",
            "\n",
            "Decision Variables\n",
            "x[ 0 ] =  1.0\n",
            "x[ 1 ] =  1.0\n",
            "x[ 2 ] =  0.0\n",
            "x[ 3 ] =  1.0\n",
            "x[ 4 ] =  1.0\n",
            "x[ 5 ] =  0.0\n",
            "x[ 6 ] =  1.0\n",
            "x[ 7 ] =  1.0\n",
            "x[ 8 ] =  1.0\n",
            "x[ 9 ] =  0.0\n",
            "x[ 10 ] =  1.0\n",
            "\n",
            "Constraints\n",
            "constraints : Size=10\n",
            "    Key : Lower : Body : Upper\n",
            "      1 :  None : -8.0 :  -5.0\n",
            "      2 :  None :  8.0 :   9.0\n",
            "      3 :  None :  1.0 :   1.0\n",
            "      4 :  None :  1.0 :   1.0\n",
            "      5 :  None :  1.0 :   1.0\n",
            "      6 :  None : -2.0 :   0.0\n",
            "      7 :  None :  2.0 :   2.0\n",
            "      8 :  None : -2.0 :  -1.0\n",
            "      9 :  None :  1.0 :   1.0\n",
            "     10 :  None :  2.0 :   2.0\n"
          ]
        }
      ]
    },
    {
      "cell_type": "code",
      "source": [
        "n = 12\n",
        "M=13\n",
        "c=np.array([3,2,6,5,5,4,6,8,8,5,4,9])\n",
        "A=np.array([[-1,-1,-1,-1,-1,-1,-1,-1,-1,-1,-1,0],[1,1,1,1,1,1,1,1,1,1,1,0],[0,0,1,0,0,0,0,1,0,0,0,0],[0,0,0,0,1,0,0,0,0,1,0,0],[0,0,1,0,0,0,0,0,1,0,0,0],[-1,0,0,0,0,0,0,0,0,0,-1,0],[1,1,1,0,0,0,0,0,0,0,0,0],[-1,-1,-1,0,0,0,0,0,0,0,0,0],[0,0,0,0,0,1,1,0,0,0,0,0],[0,0,0,1,1,0,0,0,0,0,0,1,0,0],[0,0,0,0,0,0,0,1,0,0,0,1],[0,0,0,0,0,0,0,0,1,0,0,1],[0,0,0,0,0,0,0,0,0,1,0,1]])\n",
        "b=np.array([-5,9,1,1,1,0,2,-1,1,2,1,1,1])\n",
        "MILP_Model1 = ConcreteModel()\n",
        "MILP_Model1.x = Var(np.arange(n), domain = Binary)\n",
        "MILP_Model1.constraints = ConstraintList()\n",
        "[MILP_Model1.constraints.add(sum(A[i][j]*MILP_Model1.x[j] for j in range(n)) <= b[i]) for i in range(M)]\n",
        "MILP_Model1.Objective = Objective(expr = sum(c[j]*MILP_Model1.x[j] for j in range(n)), sense = maximize)\n",
        "MILP_Model1.pprint()\n",
        "resultCBC1 = optCBC.solve(MILP_Model1)\n",
        "print(resultCBC1)\n",
        "def OptResults(Model):\n",
        "  # display solution\n",
        "  print('\\nObjective = ', Model.Objective())\n",
        "\n",
        "  print('\\nDecision Variables')\n",
        "  for i in np.arange(n):\n",
        "    print('x[',i,'] = ', Model.x[i].value)\n",
        "  print('\\nConstraints')\n",
        "  Model.constraints.display()\n",
        "\n",
        "ILP_ModelSolution = OptResults(MILP_Model1)"
      ],
      "metadata": {
        "colab": {
          "base_uri": "https://localhost:8080/"
        },
        "id": "aRnlvURbidal",
        "outputId": "98dec978-6466-4e59-b7aa-e38d06e721f4"
      },
      "execution_count": 15,
      "outputs": [
        {
          "output_type": "stream",
          "name": "stdout",
          "text": [
            "2 Set Declarations\n",
            "    constraints_index : Size=1, Index=None, Ordered=Insertion\n",
            "        Key  : Dimen : Domain : Size : Members\n",
            "        None :     1 :    Any :   13 : {1, 2, 3, 4, 5, 6, 7, 8, 9, 10, 11, 12, 13}\n",
            "    x_index : Size=1, Index=None, Ordered=False\n",
            "        Key  : Dimen : Domain : Size : Members\n",
            "        None :     1 :    Any :   12 : {0, 1, 2, 3, 4, 5, 6, 7, 8, 9, 10, 11}\n",
            "\n",
            "1 Var Declarations\n",
            "    x : Size=12, Index=x_index\n",
            "        Key : Lower : Value : Upper : Fixed : Stale : Domain\n",
            "          0 :     0 :  None :     1 : False :  True : Binary\n",
            "          1 :     0 :  None :     1 : False :  True : Binary\n",
            "          2 :     0 :  None :     1 : False :  True : Binary\n",
            "          3 :     0 :  None :     1 : False :  True : Binary\n",
            "          4 :     0 :  None :     1 : False :  True : Binary\n",
            "          5 :     0 :  None :     1 : False :  True : Binary\n",
            "          6 :     0 :  None :     1 : False :  True : Binary\n",
            "          7 :     0 :  None :     1 : False :  True : Binary\n",
            "          8 :     0 :  None :     1 : False :  True : Binary\n",
            "          9 :     0 :  None :     1 : False :  True : Binary\n",
            "         10 :     0 :  None :     1 : False :  True : Binary\n",
            "         11 :     0 :  None :     1 : False :  True : Binary\n",
            "\n",
            "1 Objective Declarations\n",
            "    Objective : Size=1, Index=None, Active=True\n",
            "        Key  : Active : Sense    : Expression\n",
            "        None :   True : maximize : 3*x[0] + 2*x[1] + 6*x[2] + 5*x[3] + 5*x[4] + 4*x[5] + 6*x[6] + 8*x[7] + 8*x[8] + 5*x[9] + 4*x[10] + 9*x[11]\n",
            "\n",
            "1 Constraint Declarations\n",
            "    constraints : Size=13, Index=constraints_index, Active=True\n",
            "        Key : Lower : Body                                                                                                      : Upper : Active\n",
            "          1 :  -Inf :                   - x[0] - x[1] - x[2] - x[3] - x[4] - x[5] - x[6] - x[7] - x[8] - x[9] - x[10] + 0*x[11] :  -5.0 :   True\n",
            "          2 :  -Inf :                     x[0] + x[1] + x[2] + x[3] + x[4] + x[5] + x[6] + x[7] + x[8] + x[9] + x[10] + 0*x[11] :   9.0 :   True\n",
            "          3 :  -Inf :   0*x[0] + 0*x[1] + x[2] + 0*x[3] + 0*x[4] + 0*x[5] + 0*x[6] + x[7] + 0*x[8] + 0*x[9] + 0*x[10] + 0*x[11] :   1.0 :   True\n",
            "          4 :  -Inf :   0*x[0] + 0*x[1] + 0*x[2] + 0*x[3] + x[4] + 0*x[5] + 0*x[6] + 0*x[7] + 0*x[8] + x[9] + 0*x[10] + 0*x[11] :   1.0 :   True\n",
            "          5 :  -Inf :   0*x[0] + 0*x[1] + x[2] + 0*x[3] + 0*x[4] + 0*x[5] + 0*x[6] + 0*x[7] + x[8] + 0*x[9] + 0*x[10] + 0*x[11] :   1.0 :   True\n",
            "          6 :  -Inf : - x[0] + 0*x[1] + 0*x[2] + 0*x[3] + 0*x[4] + 0*x[5] + 0*x[6] + 0*x[7] + 0*x[8] + 0*x[9] - x[10] + 0*x[11] :   0.0 :   True\n",
            "          7 :  -Inf :     x[0] + x[1] + x[2] + 0*x[3] + 0*x[4] + 0*x[5] + 0*x[6] + 0*x[7] + 0*x[8] + 0*x[9] + 0*x[10] + 0*x[11] :   2.0 :   True\n",
            "          8 :  -Inf :   - x[0] - x[1] - x[2] + 0*x[3] + 0*x[4] + 0*x[5] + 0*x[6] + 0*x[7] + 0*x[8] + 0*x[9] + 0*x[10] + 0*x[11] :  -1.0 :   True\n",
            "          9 :  -Inf :   0*x[0] + 0*x[1] + 0*x[2] + 0*x[3] + 0*x[4] + x[5] + x[6] + 0*x[7] + 0*x[8] + 0*x[9] + 0*x[10] + 0*x[11] :   1.0 :   True\n",
            "         10 :  -Inf :     0*x[0] + 0*x[1] + 0*x[2] + x[3] + x[4] + 0*x[5] + 0*x[6] + 0*x[7] + 0*x[8] + 0*x[9] + 0*x[10] + x[11] :   2.0 :   True\n",
            "         11 :  -Inf :   0*x[0] + 0*x[1] + 0*x[2] + 0*x[3] + 0*x[4] + 0*x[5] + 0*x[6] + x[7] + 0*x[8] + 0*x[9] + 0*x[10] + x[11] :   1.0 :   True\n",
            "         12 :  -Inf :   0*x[0] + 0*x[1] + 0*x[2] + 0*x[3] + 0*x[4] + 0*x[5] + 0*x[6] + 0*x[7] + x[8] + 0*x[9] + 0*x[10] + x[11] :   1.0 :   True\n",
            "         13 :  -Inf :   0*x[0] + 0*x[1] + 0*x[2] + 0*x[3] + 0*x[4] + 0*x[5] + 0*x[6] + 0*x[7] + 0*x[8] + x[9] + 0*x[10] + x[11] :   1.0 :   True\n",
            "\n",
            "5 Declarations: x_index x constraints_index constraints Objective\n",
            "\n",
            "Problem: \n",
            "- Name: unknown\n",
            "  Lower bound: 41.0\n",
            "  Upper bound: 41.0\n",
            "  Number of objectives: 1\n",
            "  Number of constraints: 12\n",
            "  Number of variables: 12\n",
            "  Number of binary variables: 12\n",
            "  Number of integer variables: 12\n",
            "  Number of nonzeros: 12\n",
            "  Sense: maximize\n",
            "Solver: \n",
            "- Status: ok\n",
            "  User time: -1.0\n",
            "  System time: 0.0\n",
            "  Wallclock time: 0.01\n",
            "  Termination condition: optimal\n",
            "  Termination message: Model was solved to optimality (subject to tolerances), and an optimal solution is available.\n",
            "  Statistics: \n",
            "    Branch and bound: \n",
            "      Number of bounded subproblems: 0\n",
            "      Number of created subproblems: 0\n",
            "    Black box: \n",
            "      Number of iterations: 0\n",
            "  Error rc: 0\n",
            "  Time: 0.038535356521606445\n",
            "Solution: \n",
            "- number of solutions: 0\n",
            "  number of solutions displayed: 0\n",
            "\n",
            "\n",
            "Objective =  41.0\n",
            "\n",
            "Decision Variables\n",
            "x[ 0 ] =  1.0\n",
            "x[ 1 ] =  1.0\n",
            "x[ 2 ] =  0.0\n",
            "x[ 3 ] =  1.0\n",
            "x[ 4 ] =  0.0\n",
            "x[ 5 ] =  0.0\n",
            "x[ 6 ] =  1.0\n",
            "x[ 7 ] =  1.0\n",
            "x[ 8 ] =  1.0\n",
            "x[ 9 ] =  1.0\n",
            "x[ 10 ] =  1.0\n",
            "x[ 11 ] =  0.0\n",
            "\n",
            "Constraints\n",
            "constraints : Size=13\n",
            "    Key : Lower : Body : Upper\n",
            "      1 :  None : -8.0 :  -5.0\n",
            "      2 :  None :  8.0 :   9.0\n",
            "      3 :  None :  1.0 :   1.0\n",
            "      4 :  None :  1.0 :   1.0\n",
            "      5 :  None :  1.0 :   1.0\n",
            "      6 :  None : -2.0 :   0.0\n",
            "      7 :  None :  2.0 :   2.0\n",
            "      8 :  None : -2.0 :  -1.0\n",
            "      9 :  None :  1.0 :   1.0\n",
            "     10 :  None :  1.0 :   2.0\n",
            "     11 :  None :  1.0 :   1.0\n",
            "     12 :  None :  1.0 :   1.0\n",
            "     13 :  None :  1.0 :   1.0\n"
          ]
        },
        {
          "output_type": "stream",
          "name": "stderr",
          "text": [
            "<ipython-input-15-a76db5b81b14>:4: VisibleDeprecationWarning: Creating an ndarray from ragged nested sequences (which is a list-or-tuple of lists-or-tuples-or ndarrays with different lengths or shapes) is deprecated. If you meant to do this, you must specify 'dtype=object' when creating the ndarray.\n",
            "  A=np.array([[-1,-1,-1,-1,-1,-1,-1,-1,-1,-1,-1,0],[1,1,1,1,1,1,1,1,1,1,1,0],[0,0,1,0,0,0,0,1,0,0,0,0],[0,0,0,0,1,0,0,0,0,1,0,0],[0,0,1,0,0,0,0,0,1,0,0,0],[-1,0,0,0,0,0,0,0,0,0,-1,0],[1,1,1,0,0,0,0,0,0,0,0,0],[-1,-1,-1,0,0,0,0,0,0,0,0,0],[0,0,0,0,0,1,1,0,0,0,0,0],[0,0,0,1,1,0,0,0,0,0,0,1,0,0],[0,0,0,0,0,0,0,1,0,0,0,1],[0,0,0,0,0,0,0,0,1,0,0,1],[0,0,0,0,0,0,0,0,0,1,0,1]])\n"
          ]
        }
      ]
    },
    {
      "cell_type": "code",
      "source": [
        "n = 12\n",
        "M=13\n",
        "c=np.array([3,2,6,5,5,4,6,8,8,5,4,9])\n",
        "A=np.array([[-1,-1,-1,-1,-1,-1,-1,-1,-1,-1,-1,0],[1,1,1,1,1,1,1,1,1,1,1,0],[0,0,1,0,0,0,0,1,0,0,0,0],[0,0,0,0,1,0,0,0,0,1,0,0],[0,0,1,0,0,0,0,0,1,0,0,0],[-1,0,0,0,0,0,0,0,0,0,-1,0],[1,1,1,0,0,0,0,0,0,0,0,0],[-1,-1,-1,0,0,0,0,0,0,0,0,0],[0,0,0,0,0,1,1,0,0,0,0,0],[0,0,0,1,1,0,0,0,0,0,0,1,0,0],[0,0,0,0,0,0,0,1,0,0,0,1],[0,0,0,0,0,0,0,0,1,0,0,1],[0,0,0,0,0,0,0,0,0,1,0,1]])\n",
        "b=np.array([-5,9,1,1,1,0,2,-1,1,2,1,1,1])\n",
        "MILP_Model1 = ConcreteModel()\n",
        "MILP_Model1.x = Var(np.arange(n), domain = (0,1))\n",
        "MILP_Model1.constraints = ConstraintList()\n",
        "[MILP_Model1.constraints.add(sum(A[i][j]*MILP_Model1.x[j] for j in range(n)) <= b[i]) for i in range(M)]\n",
        "MILP_Model1.Objective = Objective(expr = sum(c[j]*MILP_Model1.x[j] for j in range(n)), sense = maximize)\n",
        "MILP_Model1.pprint()\n",
        "resultCBC1 = optCBC.solve(MILP_Model1)\n",
        "print(resultCBC1)\n",
        "def OptResults(Model):\n",
        "\n",
        "  print('\\nObjective = ', Model.Objective())\n",
        "\n",
        "  print('\\nDecision Variables')\n",
        "  for i in np.arange(n):\n",
        "    print('x[',i,'] = ', Model.x[i].value)\n",
        "  print('\\nConstraints')\n",
        "  Model.constraints.display()\n",
        "\n",
        "ILP_ModelSolution = OptResults(MILP_Model1)"
      ],
      "metadata": {
        "id": "Nq5OHOZikLJP",
        "colab": {
          "base_uri": "https://localhost:8080/"
        },
        "outputId": "e94a707c-1b2b-40db-f36c-535351d8db28"
      },
      "execution_count": 16,
      "outputs": [
        {
          "output_type": "stream",
          "name": "stdout",
          "text": [
            "2 Set Declarations\n",
            "    constraints_index : Size=1, Index=None, Ordered=Insertion\n",
            "        Key  : Dimen : Domain : Size : Members\n",
            "        None :     1 :    Any :   13 : {1, 2, 3, 4, 5, 6, 7, 8, 9, 10, 11, 12, 13}\n",
            "    x_index : Size=1, Index=None, Ordered=False\n",
            "        Key  : Dimen : Domain : Size : Members\n",
            "        None :     1 :    Any :   12 : {0, 1, 2, 3, 4, 5, 6, 7, 8, 9, 10, 11}\n",
            "\n",
            "1 Var Declarations\n",
            "    x : Size=12, Index=x_index\n",
            "        Key : Lower : Value : Upper : Fixed : Stale : Domain\n",
            "          0 :     0 :  None :     1 : False :  True : {0, 1}\n",
            "          1 :     0 :  None :     1 : False :  True : {0, 1}\n",
            "          2 :     0 :  None :     1 : False :  True : {0, 1}\n",
            "          3 :     0 :  None :     1 : False :  True : {0, 1}\n",
            "          4 :     0 :  None :     1 : False :  True : {0, 1}\n",
            "          5 :     0 :  None :     1 : False :  True : {0, 1}\n",
            "          6 :     0 :  None :     1 : False :  True : {0, 1}\n",
            "          7 :     0 :  None :     1 : False :  True : {0, 1}\n",
            "          8 :     0 :  None :     1 : False :  True : {0, 1}\n",
            "          9 :     0 :  None :     1 : False :  True : {0, 1}\n",
            "         10 :     0 :  None :     1 : False :  True : {0, 1}\n",
            "         11 :     0 :  None :     1 : False :  True : {0, 1}\n",
            "\n",
            "1 Objective Declarations\n",
            "    Objective : Size=1, Index=None, Active=True\n",
            "        Key  : Active : Sense    : Expression\n",
            "        None :   True : maximize : 3*x[0] + 2*x[1] + 6*x[2] + 5*x[3] + 5*x[4] + 4*x[5] + 6*x[6] + 8*x[7] + 8*x[8] + 5*x[9] + 4*x[10] + 9*x[11]\n",
            "\n",
            "1 Constraint Declarations\n",
            "    constraints : Size=13, Index=constraints_index, Active=True\n",
            "        Key : Lower : Body                                                                                                      : Upper : Active\n",
            "          1 :  -Inf :                   - x[0] - x[1] - x[2] - x[3] - x[4] - x[5] - x[6] - x[7] - x[8] - x[9] - x[10] + 0*x[11] :  -5.0 :   True\n",
            "          2 :  -Inf :                     x[0] + x[1] + x[2] + x[3] + x[4] + x[5] + x[6] + x[7] + x[8] + x[9] + x[10] + 0*x[11] :   9.0 :   True\n",
            "          3 :  -Inf :   0*x[0] + 0*x[1] + x[2] + 0*x[3] + 0*x[4] + 0*x[5] + 0*x[6] + x[7] + 0*x[8] + 0*x[9] + 0*x[10] + 0*x[11] :   1.0 :   True\n",
            "          4 :  -Inf :   0*x[0] + 0*x[1] + 0*x[2] + 0*x[3] + x[4] + 0*x[5] + 0*x[6] + 0*x[7] + 0*x[8] + x[9] + 0*x[10] + 0*x[11] :   1.0 :   True\n",
            "          5 :  -Inf :   0*x[0] + 0*x[1] + x[2] + 0*x[3] + 0*x[4] + 0*x[5] + 0*x[6] + 0*x[7] + x[8] + 0*x[9] + 0*x[10] + 0*x[11] :   1.0 :   True\n",
            "          6 :  -Inf : - x[0] + 0*x[1] + 0*x[2] + 0*x[3] + 0*x[4] + 0*x[5] + 0*x[6] + 0*x[7] + 0*x[8] + 0*x[9] - x[10] + 0*x[11] :   0.0 :   True\n",
            "          7 :  -Inf :     x[0] + x[1] + x[2] + 0*x[3] + 0*x[4] + 0*x[5] + 0*x[6] + 0*x[7] + 0*x[8] + 0*x[9] + 0*x[10] + 0*x[11] :   2.0 :   True\n",
            "          8 :  -Inf :   - x[0] - x[1] - x[2] + 0*x[3] + 0*x[4] + 0*x[5] + 0*x[6] + 0*x[7] + 0*x[8] + 0*x[9] + 0*x[10] + 0*x[11] :  -1.0 :   True\n",
            "          9 :  -Inf :   0*x[0] + 0*x[1] + 0*x[2] + 0*x[3] + 0*x[4] + x[5] + x[6] + 0*x[7] + 0*x[8] + 0*x[9] + 0*x[10] + 0*x[11] :   1.0 :   True\n",
            "         10 :  -Inf :     0*x[0] + 0*x[1] + 0*x[2] + x[3] + x[4] + 0*x[5] + 0*x[6] + 0*x[7] + 0*x[8] + 0*x[9] + 0*x[10] + x[11] :   2.0 :   True\n",
            "         11 :  -Inf :   0*x[0] + 0*x[1] + 0*x[2] + 0*x[3] + 0*x[4] + 0*x[5] + 0*x[6] + x[7] + 0*x[8] + 0*x[9] + 0*x[10] + x[11] :   1.0 :   True\n",
            "         12 :  -Inf :   0*x[0] + 0*x[1] + 0*x[2] + 0*x[3] + 0*x[4] + 0*x[5] + 0*x[6] + 0*x[7] + x[8] + 0*x[9] + 0*x[10] + x[11] :   1.0 :   True\n",
            "         13 :  -Inf :   0*x[0] + 0*x[1] + 0*x[2] + 0*x[3] + 0*x[4] + 0*x[5] + 0*x[6] + 0*x[7] + 0*x[8] + x[9] + 0*x[10] + x[11] :   1.0 :   True\n",
            "\n",
            "5 Declarations: x_index x constraints_index constraints Objective\n",
            "\n",
            "Problem: \n",
            "- Name: unknown\n",
            "  Lower bound: 41.0\n",
            "  Upper bound: 41.0\n",
            "  Number of objectives: 1\n",
            "  Number of constraints: 12\n",
            "  Number of variables: 12\n",
            "  Number of binary variables: 12\n",
            "  Number of integer variables: 12\n",
            "  Number of nonzeros: 12\n",
            "  Sense: maximize\n",
            "Solver: \n",
            "- Status: ok\n",
            "  User time: -1.0\n",
            "  System time: 0.0\n",
            "  Wallclock time: 0.0\n",
            "  Termination condition: optimal\n",
            "  Termination message: Model was solved to optimality (subject to tolerances), and an optimal solution is available.\n",
            "  Statistics: \n",
            "    Branch and bound: \n",
            "      Number of bounded subproblems: 0\n",
            "      Number of created subproblems: 0\n",
            "    Black box: \n",
            "      Number of iterations: 0\n",
            "  Error rc: 0\n",
            "  Time: 0.017058849334716797\n",
            "Solution: \n",
            "- number of solutions: 0\n",
            "  number of solutions displayed: 0\n",
            "\n",
            "\n",
            "Objective =  41.0\n",
            "\n",
            "Decision Variables\n",
            "x[ 0 ] =  1.0\n",
            "x[ 1 ] =  1.0\n",
            "x[ 2 ] =  0.0\n",
            "x[ 3 ] =  1.0\n",
            "x[ 4 ] =  0.0\n",
            "x[ 5 ] =  0.0\n",
            "x[ 6 ] =  1.0\n",
            "x[ 7 ] =  1.0\n",
            "x[ 8 ] =  1.0\n",
            "x[ 9 ] =  1.0\n",
            "x[ 10 ] =  1.0\n",
            "x[ 11 ] =  0.0\n",
            "\n",
            "Constraints\n",
            "constraints : Size=13\n",
            "    Key : Lower : Body : Upper\n",
            "      1 :  None : -8.0 :  -5.0\n",
            "      2 :  None :  8.0 :   9.0\n",
            "      3 :  None :  1.0 :   1.0\n",
            "      4 :  None :  1.0 :   1.0\n",
            "      5 :  None :  1.0 :   1.0\n",
            "      6 :  None : -2.0 :   0.0\n",
            "      7 :  None :  2.0 :   2.0\n",
            "      8 :  None : -2.0 :  -1.0\n",
            "      9 :  None :  1.0 :   1.0\n",
            "     10 :  None :  1.0 :   2.0\n",
            "     11 :  None :  1.0 :   1.0\n",
            "     12 :  None :  1.0 :   1.0\n",
            "     13 :  None :  1.0 :   1.0\n"
          ]
        },
        {
          "output_type": "stream",
          "name": "stderr",
          "text": [
            "<ipython-input-16-3c4ad4c58043>:4: VisibleDeprecationWarning: Creating an ndarray from ragged nested sequences (which is a list-or-tuple of lists-or-tuples-or ndarrays with different lengths or shapes) is deprecated. If you meant to do this, you must specify 'dtype=object' when creating the ndarray.\n",
            "  A=np.array([[-1,-1,-1,-1,-1,-1,-1,-1,-1,-1,-1,0],[1,1,1,1,1,1,1,1,1,1,1,0],[0,0,1,0,0,0,0,1,0,0,0,0],[0,0,0,0,1,0,0,0,0,1,0,0],[0,0,1,0,0,0,0,0,1,0,0,0],[-1,0,0,0,0,0,0,0,0,0,-1,0],[1,1,1,0,0,0,0,0,0,0,0,0],[-1,-1,-1,0,0,0,0,0,0,0,0,0],[0,0,0,0,0,1,1,0,0,0,0,0],[0,0,0,1,1,0,0,0,0,0,0,1,0,0],[0,0,0,0,0,0,0,1,0,0,0,1],[0,0,0,0,0,0,0,0,1,0,0,1],[0,0,0,0,0,0,0,0,0,1,0,1]])\n"
          ]
        }
      ]
    }
  ]
}