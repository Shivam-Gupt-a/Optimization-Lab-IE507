{
  "nbformat": 4,
  "nbformat_minor": 0,
  "metadata": {
    "colab": {
      "provenance": []
    },
    "kernelspec": {
      "name": "python3",
      "display_name": "Python 3"
    },
    "language_info": {
      "name": "python"
    }
  },
  "cells": [
    {
      "cell_type": "code",
      "execution_count": 179,
      "metadata": {
        "id": "fgJEY0-zIRPG"
      },
      "outputs": [],
      "source": [
        "!pip install -q pyomo\n",
        "from pyomo.environ import *\n",
        "!apt-get install -y -qq glpk-utils\n",
        "!apt-get install -y -qq coinor-cbc"
      ]
    },
    {
      "cell_type": "code",
      "source": [
        "import pandas as pd\n",
        "import numpy as np\n",
        "import matplotlib.pyplot as plt\n"
      ],
      "metadata": {
        "id": "uocVjhoXQINE"
      },
      "execution_count": 180,
      "outputs": []
    },
    {
      "cell_type": "code",
      "source": [
        "!pip -q install qpsolvers[open_source_solvers]\n",
        "from qpsolvers import solve_qp"
      ],
      "metadata": {
        "id": "Htaq9X-jPzBO"
      },
      "execution_count": 181,
      "outputs": []
    },
    {
      "cell_type": "code",
      "source": [
        "!pip install -i https://pypi.gurobi.com gurobipy\n",
        "import gurobipy as gp"
      ],
      "metadata": {
        "colab": {
          "base_uri": "https://localhost:8080/"
        },
        "id": "-yfDdSX4RYeh",
        "outputId": "ef59c7e2-b902-4d05-8b2f-cf358360ce7f"
      },
      "execution_count": 182,
      "outputs": [
        {
          "output_type": "stream",
          "name": "stdout",
          "text": [
            "Looking in indexes: https://pypi.gurobi.com\n",
            "Requirement already satisfied: gurobipy in /usr/local/lib/python3.10/dist-packages (10.0.3)\n"
          ]
        }
      ]
    },
    {
      "cell_type": "code",
      "source": [
        "#Question-1\n",
        "#Approach -1\n",
        "n=5\n",
        "o1=[1,1,1,1,1]\n",
        "c1=[85,92,45,27,31]\n",
        "c2=[92,54,22,20,7]\n",
        "c3=[96,67,29,20,11]\n",
        "c4=[-91,-57,-33,-23,-12]\n",
        "c5=[-99,-75,-26,-24,-41]\n",
        "c6=[-98,-99,-57,-45,-65]\n",
        "b= [1,1,1,1,1,1]\n",
        "lst=[o1,c1,c2,c3,c4,c5,c6]\n",
        "coeffOP1=pd.DataFrame(lst)\n"
      ],
      "metadata": {
        "id": "VQ3nGzM3R2qB"
      },
      "execution_count": 183,
      "outputs": []
    },
    {
      "cell_type": "code",
      "source": [
        "coeffOP1"
      ],
      "metadata": {
        "colab": {
          "base_uri": "https://localhost:8080/",
          "height": 268
        },
        "id": "BrT2Se4HVw10",
        "outputId": "f3926bdd-0d33-4a2e-b7fc-7fca88440bfa"
      },
      "execution_count": 184,
      "outputs": [
        {
          "output_type": "execute_result",
          "data": {
            "text/plain": [
              "    0   1   2   3   4\n",
              "0   1   1   1   1   1\n",
              "1  85  92  45  27  31\n",
              "2  92  54  22  20   7\n",
              "3  96  67  29  20  11\n",
              "4 -91 -57 -33 -23 -12\n",
              "5 -99 -75 -26 -24 -41\n",
              "6 -98 -99 -57 -45 -65"
            ],
            "text/html": [
              "\n",
              "  <div id=\"df-a9426baa-08fc-470e-92f0-442c49e69833\" class=\"colab-df-container\">\n",
              "    <div>\n",
              "<style scoped>\n",
              "    .dataframe tbody tr th:only-of-type {\n",
              "        vertical-align: middle;\n",
              "    }\n",
              "\n",
              "    .dataframe tbody tr th {\n",
              "        vertical-align: top;\n",
              "    }\n",
              "\n",
              "    .dataframe thead th {\n",
              "        text-align: right;\n",
              "    }\n",
              "</style>\n",
              "<table border=\"1\" class=\"dataframe\">\n",
              "  <thead>\n",
              "    <tr style=\"text-align: right;\">\n",
              "      <th></th>\n",
              "      <th>0</th>\n",
              "      <th>1</th>\n",
              "      <th>2</th>\n",
              "      <th>3</th>\n",
              "      <th>4</th>\n",
              "    </tr>\n",
              "  </thead>\n",
              "  <tbody>\n",
              "    <tr>\n",
              "      <th>0</th>\n",
              "      <td>1</td>\n",
              "      <td>1</td>\n",
              "      <td>1</td>\n",
              "      <td>1</td>\n",
              "      <td>1</td>\n",
              "    </tr>\n",
              "    <tr>\n",
              "      <th>1</th>\n",
              "      <td>85</td>\n",
              "      <td>92</td>\n",
              "      <td>45</td>\n",
              "      <td>27</td>\n",
              "      <td>31</td>\n",
              "    </tr>\n",
              "    <tr>\n",
              "      <th>2</th>\n",
              "      <td>92</td>\n",
              "      <td>54</td>\n",
              "      <td>22</td>\n",
              "      <td>20</td>\n",
              "      <td>7</td>\n",
              "    </tr>\n",
              "    <tr>\n",
              "      <th>3</th>\n",
              "      <td>96</td>\n",
              "      <td>67</td>\n",
              "      <td>29</td>\n",
              "      <td>20</td>\n",
              "      <td>11</td>\n",
              "    </tr>\n",
              "    <tr>\n",
              "      <th>4</th>\n",
              "      <td>-91</td>\n",
              "      <td>-57</td>\n",
              "      <td>-33</td>\n",
              "      <td>-23</td>\n",
              "      <td>-12</td>\n",
              "    </tr>\n",
              "    <tr>\n",
              "      <th>5</th>\n",
              "      <td>-99</td>\n",
              "      <td>-75</td>\n",
              "      <td>-26</td>\n",
              "      <td>-24</td>\n",
              "      <td>-41</td>\n",
              "    </tr>\n",
              "    <tr>\n",
              "      <th>6</th>\n",
              "      <td>-98</td>\n",
              "      <td>-99</td>\n",
              "      <td>-57</td>\n",
              "      <td>-45</td>\n",
              "      <td>-65</td>\n",
              "    </tr>\n",
              "  </tbody>\n",
              "</table>\n",
              "</div>\n",
              "    <div class=\"colab-df-buttons\">\n",
              "\n",
              "  <div class=\"colab-df-container\">\n",
              "    <button class=\"colab-df-convert\" onclick=\"convertToInteractive('df-a9426baa-08fc-470e-92f0-442c49e69833')\"\n",
              "            title=\"Convert this dataframe to an interactive table.\"\n",
              "            style=\"display:none;\">\n",
              "\n",
              "  <svg xmlns=\"http://www.w3.org/2000/svg\" height=\"24px\" viewBox=\"0 -960 960 960\">\n",
              "    <path d=\"M120-120v-720h720v720H120Zm60-500h600v-160H180v160Zm220 220h160v-160H400v160Zm0 220h160v-160H400v160ZM180-400h160v-160H180v160Zm440 0h160v-160H620v160ZM180-180h160v-160H180v160Zm440 0h160v-160H620v160Z\"/>\n",
              "  </svg>\n",
              "    </button>\n",
              "\n",
              "  <style>\n",
              "    .colab-df-container {\n",
              "      display:flex;\n",
              "      gap: 12px;\n",
              "    }\n",
              "\n",
              "    .colab-df-convert {\n",
              "      background-color: #E8F0FE;\n",
              "      border: none;\n",
              "      border-radius: 50%;\n",
              "      cursor: pointer;\n",
              "      display: none;\n",
              "      fill: #1967D2;\n",
              "      height: 32px;\n",
              "      padding: 0 0 0 0;\n",
              "      width: 32px;\n",
              "    }\n",
              "\n",
              "    .colab-df-convert:hover {\n",
              "      background-color: #E2EBFA;\n",
              "      box-shadow: 0px 1px 2px rgba(60, 64, 67, 0.3), 0px 1px 3px 1px rgba(60, 64, 67, 0.15);\n",
              "      fill: #174EA6;\n",
              "    }\n",
              "\n",
              "    .colab-df-buttons div {\n",
              "      margin-bottom: 4px;\n",
              "    }\n",
              "\n",
              "    [theme=dark] .colab-df-convert {\n",
              "      background-color: #3B4455;\n",
              "      fill: #D2E3FC;\n",
              "    }\n",
              "\n",
              "    [theme=dark] .colab-df-convert:hover {\n",
              "      background-color: #434B5C;\n",
              "      box-shadow: 0px 1px 3px 1px rgba(0, 0, 0, 0.15);\n",
              "      filter: drop-shadow(0px 1px 2px rgba(0, 0, 0, 0.3));\n",
              "      fill: #FFFFFF;\n",
              "    }\n",
              "  </style>\n",
              "\n",
              "    <script>\n",
              "      const buttonEl =\n",
              "        document.querySelector('#df-a9426baa-08fc-470e-92f0-442c49e69833 button.colab-df-convert');\n",
              "      buttonEl.style.display =\n",
              "        google.colab.kernel.accessAllowed ? 'block' : 'none';\n",
              "\n",
              "      async function convertToInteractive(key) {\n",
              "        const element = document.querySelector('#df-a9426baa-08fc-470e-92f0-442c49e69833');\n",
              "        const dataTable =\n",
              "          await google.colab.kernel.invokeFunction('convertToInteractive',\n",
              "                                                    [key], {});\n",
              "        if (!dataTable) return;\n",
              "\n",
              "        const docLinkHtml = 'Like what you see? Visit the ' +\n",
              "          '<a target=\"_blank\" href=https://colab.research.google.com/notebooks/data_table.ipynb>data table notebook</a>'\n",
              "          + ' to learn more about interactive tables.';\n",
              "        element.innerHTML = '';\n",
              "        dataTable['output_type'] = 'display_data';\n",
              "        await google.colab.output.renderOutput(dataTable, element);\n",
              "        const docLink = document.createElement('div');\n",
              "        docLink.innerHTML = docLinkHtml;\n",
              "        element.appendChild(docLink);\n",
              "      }\n",
              "    </script>\n",
              "  </div>\n",
              "\n",
              "\n",
              "<div id=\"df-7af3fbe0-77b9-40d4-8540-856cf44d8126\">\n",
              "  <button class=\"colab-df-quickchart\" onclick=\"quickchart('df-7af3fbe0-77b9-40d4-8540-856cf44d8126')\"\n",
              "            title=\"Suggest charts.\"\n",
              "            style=\"display:none;\">\n",
              "\n",
              "<svg xmlns=\"http://www.w3.org/2000/svg\" height=\"24px\"viewBox=\"0 0 24 24\"\n",
              "     width=\"24px\">\n",
              "    <g>\n",
              "        <path d=\"M19 3H5c-1.1 0-2 .9-2 2v14c0 1.1.9 2 2 2h14c1.1 0 2-.9 2-2V5c0-1.1-.9-2-2-2zM9 17H7v-7h2v7zm4 0h-2V7h2v10zm4 0h-2v-4h2v4z\"/>\n",
              "    </g>\n",
              "</svg>\n",
              "  </button>\n",
              "\n",
              "<style>\n",
              "  .colab-df-quickchart {\n",
              "      --bg-color: #E8F0FE;\n",
              "      --fill-color: #1967D2;\n",
              "      --hover-bg-color: #E2EBFA;\n",
              "      --hover-fill-color: #174EA6;\n",
              "      --disabled-fill-color: #AAA;\n",
              "      --disabled-bg-color: #DDD;\n",
              "  }\n",
              "\n",
              "  [theme=dark] .colab-df-quickchart {\n",
              "      --bg-color: #3B4455;\n",
              "      --fill-color: #D2E3FC;\n",
              "      --hover-bg-color: #434B5C;\n",
              "      --hover-fill-color: #FFFFFF;\n",
              "      --disabled-bg-color: #3B4455;\n",
              "      --disabled-fill-color: #666;\n",
              "  }\n",
              "\n",
              "  .colab-df-quickchart {\n",
              "    background-color: var(--bg-color);\n",
              "    border: none;\n",
              "    border-radius: 50%;\n",
              "    cursor: pointer;\n",
              "    display: none;\n",
              "    fill: var(--fill-color);\n",
              "    height: 32px;\n",
              "    padding: 0;\n",
              "    width: 32px;\n",
              "  }\n",
              "\n",
              "  .colab-df-quickchart:hover {\n",
              "    background-color: var(--hover-bg-color);\n",
              "    box-shadow: 0 1px 2px rgba(60, 64, 67, 0.3), 0 1px 3px 1px rgba(60, 64, 67, 0.15);\n",
              "    fill: var(--button-hover-fill-color);\n",
              "  }\n",
              "\n",
              "  .colab-df-quickchart-complete:disabled,\n",
              "  .colab-df-quickchart-complete:disabled:hover {\n",
              "    background-color: var(--disabled-bg-color);\n",
              "    fill: var(--disabled-fill-color);\n",
              "    box-shadow: none;\n",
              "  }\n",
              "\n",
              "  .colab-df-spinner {\n",
              "    border: 2px solid var(--fill-color);\n",
              "    border-color: transparent;\n",
              "    border-bottom-color: var(--fill-color);\n",
              "    animation:\n",
              "      spin 1s steps(1) infinite;\n",
              "  }\n",
              "\n",
              "  @keyframes spin {\n",
              "    0% {\n",
              "      border-color: transparent;\n",
              "      border-bottom-color: var(--fill-color);\n",
              "      border-left-color: var(--fill-color);\n",
              "    }\n",
              "    20% {\n",
              "      border-color: transparent;\n",
              "      border-left-color: var(--fill-color);\n",
              "      border-top-color: var(--fill-color);\n",
              "    }\n",
              "    30% {\n",
              "      border-color: transparent;\n",
              "      border-left-color: var(--fill-color);\n",
              "      border-top-color: var(--fill-color);\n",
              "      border-right-color: var(--fill-color);\n",
              "    }\n",
              "    40% {\n",
              "      border-color: transparent;\n",
              "      border-right-color: var(--fill-color);\n",
              "      border-top-color: var(--fill-color);\n",
              "    }\n",
              "    60% {\n",
              "      border-color: transparent;\n",
              "      border-right-color: var(--fill-color);\n",
              "    }\n",
              "    80% {\n",
              "      border-color: transparent;\n",
              "      border-right-color: var(--fill-color);\n",
              "      border-bottom-color: var(--fill-color);\n",
              "    }\n",
              "    90% {\n",
              "      border-color: transparent;\n",
              "      border-bottom-color: var(--fill-color);\n",
              "    }\n",
              "  }\n",
              "</style>\n",
              "\n",
              "  <script>\n",
              "    async function quickchart(key) {\n",
              "      const quickchartButtonEl =\n",
              "        document.querySelector('#' + key + ' button');\n",
              "      quickchartButtonEl.disabled = true;  // To prevent multiple clicks.\n",
              "      quickchartButtonEl.classList.add('colab-df-spinner');\n",
              "      try {\n",
              "        const charts = await google.colab.kernel.invokeFunction(\n",
              "            'suggestCharts', [key], {});\n",
              "      } catch (error) {\n",
              "        console.error('Error during call to suggestCharts:', error);\n",
              "      }\n",
              "      quickchartButtonEl.classList.remove('colab-df-spinner');\n",
              "      quickchartButtonEl.classList.add('colab-df-quickchart-complete');\n",
              "    }\n",
              "    (() => {\n",
              "      let quickchartButtonEl =\n",
              "        document.querySelector('#df-7af3fbe0-77b9-40d4-8540-856cf44d8126 button');\n",
              "      quickchartButtonEl.style.display =\n",
              "        google.colab.kernel.accessAllowed ? 'block' : 'none';\n",
              "    })();\n",
              "  </script>\n",
              "</div>\n",
              "    </div>\n",
              "  </div>\n"
            ]
          },
          "metadata": {},
          "execution_count": 184
        }
      ]
    },
    {
      "cell_type": "code",
      "source": [
        "model =ConcreteModel()\n",
        "model.constraints= ConstraintList()\n",
        "model.x= Var(np.arange(n),domain=Reals)\n",
        "model.u=Var(np.arange(n),domain=Reals)\n",
        "\n",
        "model.objective = Objective(expr=sum(model.u[i]*coeffOP1[i][0] for i in range(5)), sense=minimize)\n",
        "for i in range(6):\n",
        "  model.constraints.add(sum(coeffOP1[j][i+1]*model.x[j] for j in range(5)) >= b[i])\n",
        "\n",
        "for i in range(n):\n",
        "\n",
        "\n",
        "    model.constraints.add(expr = model.u[i] >= model.x[i])\n",
        "    model.constraints.add(expr = model.u[i] >= -model.x[i])\n",
        "    model.constraints.add(expr = model.u[i]>=0)\n",
        "\n"
      ],
      "metadata": {
        "id": "sQ-8_J0TR2c2"
      },
      "execution_count": 185,
      "outputs": []
    },
    {
      "cell_type": "code",
      "source": [
        "model.pprint()"
      ],
      "metadata": {
        "colab": {
          "base_uri": "https://localhost:8080/"
        },
        "id": "CAQsu3DwZ-Dq",
        "outputId": "65b38a96-eff4-4e80-dd8e-40ef26b8555c"
      },
      "execution_count": 186,
      "outputs": [
        {
          "output_type": "stream",
          "name": "stdout",
          "text": [
            "3 Set Declarations\n",
            "    constraints_index : Size=1, Index=None, Ordered=Insertion\n",
            "        Key  : Dimen : Domain : Size : Members\n",
            "        None :     1 :    Any :   21 : {1, 2, 3, 4, 5, 6, 7, 8, 9, 10, 11, 12, 13, 14, 15, 16, 17, 18, 19, 20, 21}\n",
            "    u_index : Size=1, Index=None, Ordered=False\n",
            "        Key  : Dimen : Domain : Size : Members\n",
            "        None :     1 :    Any :    5 : {0, 1, 2, 3, 4}\n",
            "    x_index : Size=1, Index=None, Ordered=False\n",
            "        Key  : Dimen : Domain : Size : Members\n",
            "        None :     1 :    Any :    5 : {0, 1, 2, 3, 4}\n",
            "\n",
            "2 Var Declarations\n",
            "    u : Size=5, Index=u_index\n",
            "        Key : Lower : Value : Upper : Fixed : Stale : Domain\n",
            "          0 :  None :  None :  None : False :  True :  Reals\n",
            "          1 :  None :  None :  None : False :  True :  Reals\n",
            "          2 :  None :  None :  None : False :  True :  Reals\n",
            "          3 :  None :  None :  None : False :  True :  Reals\n",
            "          4 :  None :  None :  None : False :  True :  Reals\n",
            "    x : Size=5, Index=x_index\n",
            "        Key : Lower : Value : Upper : Fixed : Stale : Domain\n",
            "          0 :  None :  None :  None : False :  True :  Reals\n",
            "          1 :  None :  None :  None : False :  True :  Reals\n",
            "          2 :  None :  None :  None : False :  True :  Reals\n",
            "          3 :  None :  None :  None : False :  True :  Reals\n",
            "          4 :  None :  None :  None : False :  True :  Reals\n",
            "\n",
            "1 Objective Declarations\n",
            "    objective : Size=1, Index=None, Active=True\n",
            "        Key  : Active : Sense    : Expression\n",
            "        None :   True : minimize : u[0] + u[1] + u[2] + u[3] + u[4]\n",
            "\n",
            "1 Constraint Declarations\n",
            "    constraints : Size=21, Index=constraints_index, Active=True\n",
            "        Key : Lower : Body                                             : Upper : Active\n",
            "          1 :   1.0 :  85*x[0] + 92*x[1] + 45*x[2] + 27*x[3] + 31*x[4] :  +Inf :   True\n",
            "          2 :   1.0 :   92*x[0] + 54*x[1] + 22*x[2] + 20*x[3] + 7*x[4] :  +Inf :   True\n",
            "          3 :   1.0 :  96*x[0] + 67*x[1] + 29*x[2] + 20*x[3] + 11*x[4] :  +Inf :   True\n",
            "          4 :   1.0 : -91*x[0] - 57*x[1] - 33*x[2] - 23*x[3] - 12*x[4] :  +Inf :   True\n",
            "          5 :   1.0 : -99*x[0] - 75*x[1] - 26*x[2] - 24*x[3] - 41*x[4] :  +Inf :   True\n",
            "          6 :   1.0 : -98*x[0] - 99*x[1] - 57*x[2] - 45*x[3] - 65*x[4] :  +Inf :   True\n",
            "          7 :  -Inf :                                      x[0] - u[0] :   0.0 :   True\n",
            "          8 :  -Inf :                                    - x[0] - u[0] :   0.0 :   True\n",
            "          9 :   0.0 :                                             u[0] :  +Inf :   True\n",
            "         10 :  -Inf :                                      x[1] - u[1] :   0.0 :   True\n",
            "         11 :  -Inf :                                    - x[1] - u[1] :   0.0 :   True\n",
            "         12 :   0.0 :                                             u[1] :  +Inf :   True\n",
            "         13 :  -Inf :                                      x[2] - u[2] :   0.0 :   True\n",
            "         14 :  -Inf :                                    - x[2] - u[2] :   0.0 :   True\n",
            "         15 :   0.0 :                                             u[2] :  +Inf :   True\n",
            "         16 :  -Inf :                                      x[3] - u[3] :   0.0 :   True\n",
            "         17 :  -Inf :                                    - x[3] - u[3] :   0.0 :   True\n",
            "         18 :   0.0 :                                             u[3] :  +Inf :   True\n",
            "         19 :  -Inf :                                      x[4] - u[4] :   0.0 :   True\n",
            "         20 :  -Inf :                                    - x[4] - u[4] :   0.0 :   True\n",
            "         21 :   0.0 :                                             u[4] :  +Inf :   True\n",
            "\n",
            "7 Declarations: constraints_index constraints x_index x u_index u objective\n"
          ]
        }
      ]
    },
    {
      "cell_type": "code",
      "source": [
        "LP = SolverFactory('cbc')\n",
        "res = LP.solve(model)"
      ],
      "metadata": {
        "id": "jgepXCVPad55"
      },
      "execution_count": 187,
      "outputs": []
    },
    {
      "cell_type": "code",
      "source": [
        "print(res)"
      ],
      "metadata": {
        "colab": {
          "base_uri": "https://localhost:8080/"
        },
        "id": "OXOUEmEAa5Iu",
        "outputId": "e05cf0f1-8a2f-4ec8-9d72-97f3f58416b2"
      },
      "execution_count": 188,
      "outputs": [
        {
          "output_type": "stream",
          "name": "stdout",
          "text": [
            "\n",
            "Problem: \n",
            "- Name: unknown\n",
            "  Lower bound: 0.5479557323\n",
            "  Upper bound: 0.5479557323\n",
            "  Number of objectives: 1\n",
            "  Number of constraints: 21\n",
            "  Number of variables: 10\n",
            "  Number of nonzeros: 5\n",
            "  Sense: minimize\n",
            "Solver: \n",
            "- Status: ok\n",
            "  User time: -1.0\n",
            "  System time: 0.0\n",
            "  Wallclock time: 0.0\n",
            "  Termination condition: optimal\n",
            "  Termination message: Model was solved to optimality (subject to tolerances), and an optimal solution is available.\n",
            "  Statistics: \n",
            "    Branch and bound: \n",
            "      Number of bounded subproblems: None\n",
            "      Number of created subproblems: None\n",
            "    Black box: \n",
            "      Number of iterations: 13\n",
            "  Error rc: 0\n",
            "  Time: 0.05385112762451172\n",
            "Solution: \n",
            "- number of solutions: 0\n",
            "  number of solutions displayed: 0\n",
            "\n"
          ]
        }
      ]
    },
    {
      "cell_type": "code",
      "source": [
        "model.objective()"
      ],
      "metadata": {
        "colab": {
          "base_uri": "https://localhost:8080/"
        },
        "id": "VGDXA3iLa98-",
        "outputId": "8bc8346e-9fdb-4cf2-a66d-52cb1b35dbd6"
      },
      "execution_count": 189,
      "outputs": [
        {
          "output_type": "execute_result",
          "data": {
            "text/plain": [
              "0.547955725"
            ]
          },
          "metadata": {},
          "execution_count": 189
        }
      ]
    },
    {
      "cell_type": "code",
      "source": [
        "for i in range(5):\n",
        "  print('x',[i],model.x[i]())\n",
        "  end=''\n",
        "  print('u',[i],model.u[i]())"
      ],
      "metadata": {
        "colab": {
          "base_uri": "https://localhost:8080/"
        },
        "id": "qW-k9o5xfc4H",
        "outputId": "0490041c-2f1f-4f63-c4e8-8710aebf3253"
      },
      "execution_count": 190,
      "outputs": [
        {
          "output_type": "stream",
          "name": "stdout",
          "text": [
            "x [0] -0.046448575\n",
            "u [0] 0.046448575\n",
            "x [1] 0.18612441\n",
            "u [1] 0.18612441\n",
            "x [2] -0.17131802\n",
            "u [2] 0.17131802\n",
            "x [3] 0.0\n",
            "u [3] 0.0\n",
            "x [4] -0.14406472\n",
            "u [4] 0.14406472\n"
          ]
        }
      ]
    },
    {
      "cell_type": "code",
      "source": [
        "model2 =ConcreteModel()\n",
        "model2.constraints= ConstraintList()\n",
        "model2.a= Var(np.arange(n),domain=NonNegativeReals)\n",
        "model2.b=Var(np.arange(n),domain=NonNegativeReals)\n",
        "\n",
        "model2.objective = Objective(expr=sum(model2.b[i]+model2.a[i] for i in range(5)), sense=minimize)\n",
        "for i in range(6):\n",
        "  model2.constraints.add(sum(coeffOP1[j][i+1]*(model2.a[j]-model2.b[j]) for j in range(5)) >= b[i])\n",
        "\n"
      ],
      "metadata": {
        "id": "PDJhflmSrS5j"
      },
      "execution_count": 191,
      "outputs": []
    },
    {
      "cell_type": "code",
      "source": [
        "model2.pprint()"
      ],
      "metadata": {
        "colab": {
          "base_uri": "https://localhost:8080/"
        },
        "id": "m_iiZGZ0s8Ks",
        "outputId": "159a9112-27e1-43a8-8a79-82f31ae463fd"
      },
      "execution_count": 192,
      "outputs": [
        {
          "output_type": "stream",
          "name": "stdout",
          "text": [
            "3 Set Declarations\n",
            "    a_index : Size=1, Index=None, Ordered=False\n",
            "        Key  : Dimen : Domain : Size : Members\n",
            "        None :     1 :    Any :    5 : {0, 1, 2, 3, 4}\n",
            "    b_index : Size=1, Index=None, Ordered=False\n",
            "        Key  : Dimen : Domain : Size : Members\n",
            "        None :     1 :    Any :    5 : {0, 1, 2, 3, 4}\n",
            "    constraints_index : Size=1, Index=None, Ordered=Insertion\n",
            "        Key  : Dimen : Domain : Size : Members\n",
            "        None :     1 :    Any :    6 : {1, 2, 3, 4, 5, 6}\n",
            "\n",
            "2 Var Declarations\n",
            "    a : Size=5, Index=a_index\n",
            "        Key : Lower : Value : Upper : Fixed : Stale : Domain\n",
            "          0 :     0 :  None :  None : False :  True : NonNegativeReals\n",
            "          1 :     0 :  None :  None : False :  True : NonNegativeReals\n",
            "          2 :     0 :  None :  None : False :  True : NonNegativeReals\n",
            "          3 :     0 :  None :  None : False :  True : NonNegativeReals\n",
            "          4 :     0 :  None :  None : False :  True : NonNegativeReals\n",
            "    b : Size=5, Index=b_index\n",
            "        Key : Lower : Value : Upper : Fixed : Stale : Domain\n",
            "          0 :     0 :  None :  None : False :  True : NonNegativeReals\n",
            "          1 :     0 :  None :  None : False :  True : NonNegativeReals\n",
            "          2 :     0 :  None :  None : False :  True : NonNegativeReals\n",
            "          3 :     0 :  None :  None : False :  True : NonNegativeReals\n",
            "          4 :     0 :  None :  None : False :  True : NonNegativeReals\n",
            "\n",
            "1 Objective Declarations\n",
            "    objective : Size=1, Index=None, Active=True\n",
            "        Key  : Active : Sense    : Expression\n",
            "        None :   True : minimize : b[0] + a[0] + b[1] + a[1] + b[2] + a[2] + b[3] + a[3] + b[4] + a[4]\n",
            "\n",
            "1 Constraint Declarations\n",
            "    constraints : Size=6, Index=constraints_index, Active=True\n",
            "        Key : Lower : Body                                                                                          : Upper : Active\n",
            "          1 :   1.0 :  85*(a[0] - b[0]) + 92*(a[1] - b[1]) + 45*(a[2] - b[2]) + 27*(a[3] - b[3]) + 31*(a[4] - b[4]) :  +Inf :   True\n",
            "          2 :   1.0 :   92*(a[0] - b[0]) + 54*(a[1] - b[1]) + 22*(a[2] - b[2]) + 20*(a[3] - b[3]) + 7*(a[4] - b[4]) :  +Inf :   True\n",
            "          3 :   1.0 :  96*(a[0] - b[0]) + 67*(a[1] - b[1]) + 29*(a[2] - b[2]) + 20*(a[3] - b[3]) + 11*(a[4] - b[4]) :  +Inf :   True\n",
            "          4 :   1.0 : -91*(a[0] - b[0]) - 57*(a[1] - b[1]) - 33*(a[2] - b[2]) - 23*(a[3] - b[3]) - 12*(a[4] - b[4]) :  +Inf :   True\n",
            "          5 :   1.0 : -99*(a[0] - b[0]) - 75*(a[1] - b[1]) - 26*(a[2] - b[2]) - 24*(a[3] - b[3]) - 41*(a[4] - b[4]) :  +Inf :   True\n",
            "          6 :   1.0 : -98*(a[0] - b[0]) - 99*(a[1] - b[1]) - 57*(a[2] - b[2]) - 45*(a[3] - b[3]) - 65*(a[4] - b[4]) :  +Inf :   True\n",
            "\n",
            "7 Declarations: constraints_index constraints a_index a b_index b objective\n"
          ]
        }
      ]
    },
    {
      "cell_type": "code",
      "source": [
        "OP = SolverFactory('cbc')\n",
        "res1 = OP.solve(model2)\n",
        "print(res1)"
      ],
      "metadata": {
        "colab": {
          "base_uri": "https://localhost:8080/"
        },
        "id": "_EOidnkQtoJ0",
        "outputId": "5580c001-cdd8-4817-da53-46d127c79665"
      },
      "execution_count": 193,
      "outputs": [
        {
          "output_type": "stream",
          "name": "stdout",
          "text": [
            "\n",
            "Problem: \n",
            "- Name: unknown\n",
            "  Lower bound: 0.5479557323\n",
            "  Upper bound: 0.5479557323\n",
            "  Number of objectives: 1\n",
            "  Number of constraints: 6\n",
            "  Number of variables: 10\n",
            "  Number of nonzeros: 10\n",
            "  Sense: minimize\n",
            "Solver: \n",
            "- Status: ok\n",
            "  User time: -1.0\n",
            "  System time: 0.0\n",
            "  Wallclock time: 0.0\n",
            "  Termination condition: optimal\n",
            "  Termination message: Model was solved to optimality (subject to tolerances), and an optimal solution is available.\n",
            "  Statistics: \n",
            "    Branch and bound: \n",
            "      Number of bounded subproblems: None\n",
            "      Number of created subproblems: None\n",
            "    Black box: \n",
            "      Number of iterations: 5\n",
            "  Error rc: 0\n",
            "  Time: 0.018117189407348633\n",
            "Solution: \n",
            "- number of solutions: 0\n",
            "  number of solutions displayed: 0\n",
            "\n"
          ]
        }
      ]
    },
    {
      "cell_type": "code",
      "source": [
        "for i in range(5):\n",
        "  print('a',[i],model2.a[i]())\n",
        "  end=''\n",
        "  print('b',[i],model2.b[i]())"
      ],
      "metadata": {
        "colab": {
          "base_uri": "https://localhost:8080/"
        },
        "id": "rHQkzupLuK6U",
        "outputId": "8b0cab8b-05b8-4f51-8560-76b0ae87b745"
      },
      "execution_count": 194,
      "outputs": [
        {
          "output_type": "stream",
          "name": "stdout",
          "text": [
            "a [0] 0.0\n",
            "b [0] 0.046448575\n",
            "a [1] 0.18612441\n",
            "b [1] 0.0\n",
            "a [2] 0.0\n",
            "b [2] 0.17131802\n",
            "a [3] 0.0\n",
            "b [3] 0.0\n",
            "a [4] 0.0\n",
            "b [4] 0.14406472\n"
          ]
        }
      ]
    },
    {
      "cell_type": "code",
      "source": [
        "#Answer-1\n",
        "interest_rate = pd.read_csv('/content/Lab08_InterestRate (1).csv')\n",
        "interest_rate"
      ],
      "metadata": {
        "id": "VS-PNmZQvBaa",
        "colab": {
          "base_uri": "https://localhost:8080/",
          "height": 676
        },
        "outputId": "6cc5dfdd-0f68-4787-84df-c21d6ce81884"
      },
      "execution_count": 195,
      "outputs": [
        {
          "output_type": "execute_result",
          "data": {
            "text/plain": [
              "    Year  Interest Rate   Ratio  Rating\n",
              "0   2003         0.0416  0.3615    85.6\n",
              "1   2004         0.0312  0.2820    91.9\n",
              "2   2005         0.0354  0.3010    89.1\n",
              "3   2006         0.0331  0.3862    90.4\n",
              "4   2007         0.0399  0.3578    86.3\n",
              "5   2008         0.0501  0.4413    74.7\n",
              "6   2009         0.0421  0.6753    79.8\n",
              "7   2010         0.0507  0.6777    74.3\n",
              "8   2011         0.0431  0.6585    84.4\n",
              "9   2012         0.0437  0.6702    84.1\n",
              "10  2013         0.0398  0.3289    86.8\n",
              "11  2014         0.0274  0.2473    93.7\n",
              "12  2015         0.0298  0.2762    92.3\n",
              "13  2016         0.0261  0.3222    94.0\n",
              "14  2017         0.0358  0.2792    88.9\n",
              "15  2018         0.0504  0.3609    74.3\n",
              "16  2019         0.0478  0.6187    74.0\n",
              "17  2020         0.0549  0.6176    69.8\n",
              "18  2021         0.0468  0.6004    81.6\n",
              "19  2022         0.0478  0.6119    81.0"
            ],
            "text/html": [
              "\n",
              "  <div id=\"df-7906e645-c41d-4e73-bca3-875c4de7d23b\" class=\"colab-df-container\">\n",
              "    <div>\n",
              "<style scoped>\n",
              "    .dataframe tbody tr th:only-of-type {\n",
              "        vertical-align: middle;\n",
              "    }\n",
              "\n",
              "    .dataframe tbody tr th {\n",
              "        vertical-align: top;\n",
              "    }\n",
              "\n",
              "    .dataframe thead th {\n",
              "        text-align: right;\n",
              "    }\n",
              "</style>\n",
              "<table border=\"1\" class=\"dataframe\">\n",
              "  <thead>\n",
              "    <tr style=\"text-align: right;\">\n",
              "      <th></th>\n",
              "      <th>Year</th>\n",
              "      <th>Interest Rate</th>\n",
              "      <th>Ratio</th>\n",
              "      <th>Rating</th>\n",
              "    </tr>\n",
              "  </thead>\n",
              "  <tbody>\n",
              "    <tr>\n",
              "      <th>0</th>\n",
              "      <td>2003</td>\n",
              "      <td>0.0416</td>\n",
              "      <td>0.3615</td>\n",
              "      <td>85.6</td>\n",
              "    </tr>\n",
              "    <tr>\n",
              "      <th>1</th>\n",
              "      <td>2004</td>\n",
              "      <td>0.0312</td>\n",
              "      <td>0.2820</td>\n",
              "      <td>91.9</td>\n",
              "    </tr>\n",
              "    <tr>\n",
              "      <th>2</th>\n",
              "      <td>2005</td>\n",
              "      <td>0.0354</td>\n",
              "      <td>0.3010</td>\n",
              "      <td>89.1</td>\n",
              "    </tr>\n",
              "    <tr>\n",
              "      <th>3</th>\n",
              "      <td>2006</td>\n",
              "      <td>0.0331</td>\n",
              "      <td>0.3862</td>\n",
              "      <td>90.4</td>\n",
              "    </tr>\n",
              "    <tr>\n",
              "      <th>4</th>\n",
              "      <td>2007</td>\n",
              "      <td>0.0399</td>\n",
              "      <td>0.3578</td>\n",
              "      <td>86.3</td>\n",
              "    </tr>\n",
              "    <tr>\n",
              "      <th>5</th>\n",
              "      <td>2008</td>\n",
              "      <td>0.0501</td>\n",
              "      <td>0.4413</td>\n",
              "      <td>74.7</td>\n",
              "    </tr>\n",
              "    <tr>\n",
              "      <th>6</th>\n",
              "      <td>2009</td>\n",
              "      <td>0.0421</td>\n",
              "      <td>0.6753</td>\n",
              "      <td>79.8</td>\n",
              "    </tr>\n",
              "    <tr>\n",
              "      <th>7</th>\n",
              "      <td>2010</td>\n",
              "      <td>0.0507</td>\n",
              "      <td>0.6777</td>\n",
              "      <td>74.3</td>\n",
              "    </tr>\n",
              "    <tr>\n",
              "      <th>8</th>\n",
              "      <td>2011</td>\n",
              "      <td>0.0431</td>\n",
              "      <td>0.6585</td>\n",
              "      <td>84.4</td>\n",
              "    </tr>\n",
              "    <tr>\n",
              "      <th>9</th>\n",
              "      <td>2012</td>\n",
              "      <td>0.0437</td>\n",
              "      <td>0.6702</td>\n",
              "      <td>84.1</td>\n",
              "    </tr>\n",
              "    <tr>\n",
              "      <th>10</th>\n",
              "      <td>2013</td>\n",
              "      <td>0.0398</td>\n",
              "      <td>0.3289</td>\n",
              "      <td>86.8</td>\n",
              "    </tr>\n",
              "    <tr>\n",
              "      <th>11</th>\n",
              "      <td>2014</td>\n",
              "      <td>0.0274</td>\n",
              "      <td>0.2473</td>\n",
              "      <td>93.7</td>\n",
              "    </tr>\n",
              "    <tr>\n",
              "      <th>12</th>\n",
              "      <td>2015</td>\n",
              "      <td>0.0298</td>\n",
              "      <td>0.2762</td>\n",
              "      <td>92.3</td>\n",
              "    </tr>\n",
              "    <tr>\n",
              "      <th>13</th>\n",
              "      <td>2016</td>\n",
              "      <td>0.0261</td>\n",
              "      <td>0.3222</td>\n",
              "      <td>94.0</td>\n",
              "    </tr>\n",
              "    <tr>\n",
              "      <th>14</th>\n",
              "      <td>2017</td>\n",
              "      <td>0.0358</td>\n",
              "      <td>0.2792</td>\n",
              "      <td>88.9</td>\n",
              "    </tr>\n",
              "    <tr>\n",
              "      <th>15</th>\n",
              "      <td>2018</td>\n",
              "      <td>0.0504</td>\n",
              "      <td>0.3609</td>\n",
              "      <td>74.3</td>\n",
              "    </tr>\n",
              "    <tr>\n",
              "      <th>16</th>\n",
              "      <td>2019</td>\n",
              "      <td>0.0478</td>\n",
              "      <td>0.6187</td>\n",
              "      <td>74.0</td>\n",
              "    </tr>\n",
              "    <tr>\n",
              "      <th>17</th>\n",
              "      <td>2020</td>\n",
              "      <td>0.0549</td>\n",
              "      <td>0.6176</td>\n",
              "      <td>69.8</td>\n",
              "    </tr>\n",
              "    <tr>\n",
              "      <th>18</th>\n",
              "      <td>2021</td>\n",
              "      <td>0.0468</td>\n",
              "      <td>0.6004</td>\n",
              "      <td>81.6</td>\n",
              "    </tr>\n",
              "    <tr>\n",
              "      <th>19</th>\n",
              "      <td>2022</td>\n",
              "      <td>0.0478</td>\n",
              "      <td>0.6119</td>\n",
              "      <td>81.0</td>\n",
              "    </tr>\n",
              "  </tbody>\n",
              "</table>\n",
              "</div>\n",
              "    <div class=\"colab-df-buttons\">\n",
              "\n",
              "  <div class=\"colab-df-container\">\n",
              "    <button class=\"colab-df-convert\" onclick=\"convertToInteractive('df-7906e645-c41d-4e73-bca3-875c4de7d23b')\"\n",
              "            title=\"Convert this dataframe to an interactive table.\"\n",
              "            style=\"display:none;\">\n",
              "\n",
              "  <svg xmlns=\"http://www.w3.org/2000/svg\" height=\"24px\" viewBox=\"0 -960 960 960\">\n",
              "    <path d=\"M120-120v-720h720v720H120Zm60-500h600v-160H180v160Zm220 220h160v-160H400v160Zm0 220h160v-160H400v160ZM180-400h160v-160H180v160Zm440 0h160v-160H620v160ZM180-180h160v-160H180v160Zm440 0h160v-160H620v160Z\"/>\n",
              "  </svg>\n",
              "    </button>\n",
              "\n",
              "  <style>\n",
              "    .colab-df-container {\n",
              "      display:flex;\n",
              "      gap: 12px;\n",
              "    }\n",
              "\n",
              "    .colab-df-convert {\n",
              "      background-color: #E8F0FE;\n",
              "      border: none;\n",
              "      border-radius: 50%;\n",
              "      cursor: pointer;\n",
              "      display: none;\n",
              "      fill: #1967D2;\n",
              "      height: 32px;\n",
              "      padding: 0 0 0 0;\n",
              "      width: 32px;\n",
              "    }\n",
              "\n",
              "    .colab-df-convert:hover {\n",
              "      background-color: #E2EBFA;\n",
              "      box-shadow: 0px 1px 2px rgba(60, 64, 67, 0.3), 0px 1px 3px 1px rgba(60, 64, 67, 0.15);\n",
              "      fill: #174EA6;\n",
              "    }\n",
              "\n",
              "    .colab-df-buttons div {\n",
              "      margin-bottom: 4px;\n",
              "    }\n",
              "\n",
              "    [theme=dark] .colab-df-convert {\n",
              "      background-color: #3B4455;\n",
              "      fill: #D2E3FC;\n",
              "    }\n",
              "\n",
              "    [theme=dark] .colab-df-convert:hover {\n",
              "      background-color: #434B5C;\n",
              "      box-shadow: 0px 1px 3px 1px rgba(0, 0, 0, 0.15);\n",
              "      filter: drop-shadow(0px 1px 2px rgba(0, 0, 0, 0.3));\n",
              "      fill: #FFFFFF;\n",
              "    }\n",
              "  </style>\n",
              "\n",
              "    <script>\n",
              "      const buttonEl =\n",
              "        document.querySelector('#df-7906e645-c41d-4e73-bca3-875c4de7d23b button.colab-df-convert');\n",
              "      buttonEl.style.display =\n",
              "        google.colab.kernel.accessAllowed ? 'block' : 'none';\n",
              "\n",
              "      async function convertToInteractive(key) {\n",
              "        const element = document.querySelector('#df-7906e645-c41d-4e73-bca3-875c4de7d23b');\n",
              "        const dataTable =\n",
              "          await google.colab.kernel.invokeFunction('convertToInteractive',\n",
              "                                                    [key], {});\n",
              "        if (!dataTable) return;\n",
              "\n",
              "        const docLinkHtml = 'Like what you see? Visit the ' +\n",
              "          '<a target=\"_blank\" href=https://colab.research.google.com/notebooks/data_table.ipynb>data table notebook</a>'\n",
              "          + ' to learn more about interactive tables.';\n",
              "        element.innerHTML = '';\n",
              "        dataTable['output_type'] = 'display_data';\n",
              "        await google.colab.output.renderOutput(dataTable, element);\n",
              "        const docLink = document.createElement('div');\n",
              "        docLink.innerHTML = docLinkHtml;\n",
              "        element.appendChild(docLink);\n",
              "      }\n",
              "    </script>\n",
              "  </div>\n",
              "\n",
              "\n",
              "<div id=\"df-657bcd97-768a-442b-97fe-7ffaca7140c0\">\n",
              "  <button class=\"colab-df-quickchart\" onclick=\"quickchart('df-657bcd97-768a-442b-97fe-7ffaca7140c0')\"\n",
              "            title=\"Suggest charts.\"\n",
              "            style=\"display:none;\">\n",
              "\n",
              "<svg xmlns=\"http://www.w3.org/2000/svg\" height=\"24px\"viewBox=\"0 0 24 24\"\n",
              "     width=\"24px\">\n",
              "    <g>\n",
              "        <path d=\"M19 3H5c-1.1 0-2 .9-2 2v14c0 1.1.9 2 2 2h14c1.1 0 2-.9 2-2V5c0-1.1-.9-2-2-2zM9 17H7v-7h2v7zm4 0h-2V7h2v10zm4 0h-2v-4h2v4z\"/>\n",
              "    </g>\n",
              "</svg>\n",
              "  </button>\n",
              "\n",
              "<style>\n",
              "  .colab-df-quickchart {\n",
              "      --bg-color: #E8F0FE;\n",
              "      --fill-color: #1967D2;\n",
              "      --hover-bg-color: #E2EBFA;\n",
              "      --hover-fill-color: #174EA6;\n",
              "      --disabled-fill-color: #AAA;\n",
              "      --disabled-bg-color: #DDD;\n",
              "  }\n",
              "\n",
              "  [theme=dark] .colab-df-quickchart {\n",
              "      --bg-color: #3B4455;\n",
              "      --fill-color: #D2E3FC;\n",
              "      --hover-bg-color: #434B5C;\n",
              "      --hover-fill-color: #FFFFFF;\n",
              "      --disabled-bg-color: #3B4455;\n",
              "      --disabled-fill-color: #666;\n",
              "  }\n",
              "\n",
              "  .colab-df-quickchart {\n",
              "    background-color: var(--bg-color);\n",
              "    border: none;\n",
              "    border-radius: 50%;\n",
              "    cursor: pointer;\n",
              "    display: none;\n",
              "    fill: var(--fill-color);\n",
              "    height: 32px;\n",
              "    padding: 0;\n",
              "    width: 32px;\n",
              "  }\n",
              "\n",
              "  .colab-df-quickchart:hover {\n",
              "    background-color: var(--hover-bg-color);\n",
              "    box-shadow: 0 1px 2px rgba(60, 64, 67, 0.3), 0 1px 3px 1px rgba(60, 64, 67, 0.15);\n",
              "    fill: var(--button-hover-fill-color);\n",
              "  }\n",
              "\n",
              "  .colab-df-quickchart-complete:disabled,\n",
              "  .colab-df-quickchart-complete:disabled:hover {\n",
              "    background-color: var(--disabled-bg-color);\n",
              "    fill: var(--disabled-fill-color);\n",
              "    box-shadow: none;\n",
              "  }\n",
              "\n",
              "  .colab-df-spinner {\n",
              "    border: 2px solid var(--fill-color);\n",
              "    border-color: transparent;\n",
              "    border-bottom-color: var(--fill-color);\n",
              "    animation:\n",
              "      spin 1s steps(1) infinite;\n",
              "  }\n",
              "\n",
              "  @keyframes spin {\n",
              "    0% {\n",
              "      border-color: transparent;\n",
              "      border-bottom-color: var(--fill-color);\n",
              "      border-left-color: var(--fill-color);\n",
              "    }\n",
              "    20% {\n",
              "      border-color: transparent;\n",
              "      border-left-color: var(--fill-color);\n",
              "      border-top-color: var(--fill-color);\n",
              "    }\n",
              "    30% {\n",
              "      border-color: transparent;\n",
              "      border-left-color: var(--fill-color);\n",
              "      border-top-color: var(--fill-color);\n",
              "      border-right-color: var(--fill-color);\n",
              "    }\n",
              "    40% {\n",
              "      border-color: transparent;\n",
              "      border-right-color: var(--fill-color);\n",
              "      border-top-color: var(--fill-color);\n",
              "    }\n",
              "    60% {\n",
              "      border-color: transparent;\n",
              "      border-right-color: var(--fill-color);\n",
              "    }\n",
              "    80% {\n",
              "      border-color: transparent;\n",
              "      border-right-color: var(--fill-color);\n",
              "      border-bottom-color: var(--fill-color);\n",
              "    }\n",
              "    90% {\n",
              "      border-color: transparent;\n",
              "      border-bottom-color: var(--fill-color);\n",
              "    }\n",
              "  }\n",
              "</style>\n",
              "\n",
              "  <script>\n",
              "    async function quickchart(key) {\n",
              "      const quickchartButtonEl =\n",
              "        document.querySelector('#' + key + ' button');\n",
              "      quickchartButtonEl.disabled = true;  // To prevent multiple clicks.\n",
              "      quickchartButtonEl.classList.add('colab-df-spinner');\n",
              "      try {\n",
              "        const charts = await google.colab.kernel.invokeFunction(\n",
              "            'suggestCharts', [key], {});\n",
              "      } catch (error) {\n",
              "        console.error('Error during call to suggestCharts:', error);\n",
              "      }\n",
              "      quickchartButtonEl.classList.remove('colab-df-spinner');\n",
              "      quickchartButtonEl.classList.add('colab-df-quickchart-complete');\n",
              "    }\n",
              "    (() => {\n",
              "      let quickchartButtonEl =\n",
              "        document.querySelector('#df-657bcd97-768a-442b-97fe-7ffaca7140c0 button');\n",
              "      quickchartButtonEl.style.display =\n",
              "        google.colab.kernel.accessAllowed ? 'block' : 'none';\n",
              "    })();\n",
              "  </script>\n",
              "</div>\n",
              "    </div>\n",
              "  </div>\n"
            ]
          },
          "metadata": {},
          "execution_count": 195
        }
      ]
    },
    {
      "cell_type": "code",
      "source": [
        "interest_rate.iloc[0][1]"
      ],
      "metadata": {
        "colab": {
          "base_uri": "https://localhost:8080/"
        },
        "id": "7L3RO3owV6nr",
        "outputId": "446014d5-c8bf-4bf3-8240-a20e9ffedd39"
      },
      "execution_count": 196,
      "outputs": [
        {
          "output_type": "execute_result",
          "data": {
            "text/plain": [
              "0.0416"
            ]
          },
          "metadata": {},
          "execution_count": 196
        }
      ]
    },
    {
      "cell_type": "code",
      "source": [
        "initial_Rate=[]\n",
        "for i in range(20):\n",
        "  initial_Rate.append(interest_rate.iloc[i][1])\n",
        "\n",
        "initial_Rate=np.array(initial_Rate)"
      ],
      "metadata": {
        "id": "8wgtzeaBW0Qw"
      },
      "execution_count": 197,
      "outputs": []
    },
    {
      "cell_type": "code",
      "source": [
        "L=[]\n",
        "for i in range(20):\n",
        "  l=[]\n",
        "  l.append(1)\n",
        "  l.append(interest_rate.iloc[i][2])\n",
        "  l.append(interest_rate.iloc[i][3])\n",
        "  L.append(l)\n",
        "L=np.array(L)\n",
        "L"
      ],
      "metadata": {
        "id": "NJh4VJ5JvBz4",
        "colab": {
          "base_uri": "https://localhost:8080/"
        },
        "outputId": "2709ed07-46bf-49dc-ed4b-1bbbff9bb841"
      },
      "execution_count": 198,
      "outputs": [
        {
          "output_type": "execute_result",
          "data": {
            "text/plain": [
              "array([[ 1.    ,  0.3615, 85.6   ],\n",
              "       [ 1.    ,  0.282 , 91.9   ],\n",
              "       [ 1.    ,  0.301 , 89.1   ],\n",
              "       [ 1.    ,  0.3862, 90.4   ],\n",
              "       [ 1.    ,  0.3578, 86.3   ],\n",
              "       [ 1.    ,  0.4413, 74.7   ],\n",
              "       [ 1.    ,  0.6753, 79.8   ],\n",
              "       [ 1.    ,  0.6777, 74.3   ],\n",
              "       [ 1.    ,  0.6585, 84.4   ],\n",
              "       [ 1.    ,  0.6702, 84.1   ],\n",
              "       [ 1.    ,  0.3289, 86.8   ],\n",
              "       [ 1.    ,  0.2473, 93.7   ],\n",
              "       [ 1.    ,  0.2762, 92.3   ],\n",
              "       [ 1.    ,  0.3222, 94.    ],\n",
              "       [ 1.    ,  0.2792, 88.9   ],\n",
              "       [ 1.    ,  0.3609, 74.3   ],\n",
              "       [ 1.    ,  0.6187, 74.    ],\n",
              "       [ 1.    ,  0.6176, 69.8   ],\n",
              "       [ 1.    ,  0.6004, 81.6   ],\n",
              "       [ 1.    ,  0.6119, 81.    ]])"
            ]
          },
          "metadata": {},
          "execution_count": 198
        }
      ]
    },
    {
      "cell_type": "code",
      "source": [
        "p=2*np.matmul(L.transpose(),L)\n",
        "p\n",
        "\n"
      ],
      "metadata": {
        "id": "EBlBxMcRgryL",
        "colab": {
          "base_uri": "https://localhost:8080/"
        },
        "outputId": "9b99900b-9fee-4682-a5f2-71f2168b933c"
      },
      "execution_count": 199,
      "outputs": [
        {
          "output_type": "execute_result",
          "data": {
            "text/plain": [
              "array([[4.00000000e+01, 1.81496000e+01, 3.35400000e+03],\n",
              "       [1.81496000e+01, 9.25515268e+00, 1.49040692e+03],\n",
              "       [3.35400000e+03, 1.49040692e+03, 2.83313880e+05]])"
            ]
          },
          "metadata": {},
          "execution_count": 199
        }
      ]
    },
    {
      "cell_type": "code",
      "source": [
        "q=-2*np.matmul(initial_Rate.transpose(),L)\n",
        "q"
      ],
      "metadata": {
        "colab": {
          "base_uri": "https://localhost:8080/"
        },
        "id": "bWUCTGCPbH7K",
        "outputId": "36ef3cae-1dc4-448e-90d0-7e85dcf6c0ee"
      },
      "execution_count": 200,
      "outputs": [
        {
          "output_type": "execute_result",
          "data": {
            "text/plain": [
              "array([  -1.635     ,   -0.77927632, -134.82612   ])"
            ]
          },
          "metadata": {},
          "execution_count": 200
        }
      ]
    },
    {
      "cell_type": "code",
      "source": [
        "result=solve_qp(p,q,G=None,h=None,A=None,b=None,lb=None,ub=None,solver='osqp')\n",
        "result"
      ],
      "metadata": {
        "id": "uOTdEv1gewc8",
        "colab": {
          "base_uri": "https://localhost:8080/"
        },
        "outputId": "b56d2e0b-b7a4-430b-f5c8-a873be955d94"
      },
      "execution_count": 201,
      "outputs": [
        {
          "output_type": "stream",
          "name": "stderr",
          "text": [
            "/usr/local/lib/python3.10/dist-packages/qpsolvers/conversions/ensure_sparse_matrices.py:38: UserWarning: Converted P to scipy.sparse.csc.csc_matrix\n",
            "For best performance, build P as a scipy.sparse.csc_matrix rather than as a numpy.ndarray\n",
            "  warnings.warn(\n"
          ]
        },
        {
          "output_type": "execute_result",
          "data": {
            "text/plain": [
              "array([ 0.12237613,  0.00576031, -0.00100316])"
            ]
          },
          "metadata": {},
          "execution_count": 201
        }
      ]
    },
    {
      "cell_type": "code",
      "source": [
        "import seaborn as sns"
      ],
      "metadata": {
        "id": "E9GesJwqeY8-"
      },
      "execution_count": 202,
      "outputs": []
    },
    {
      "cell_type": "code",
      "source": [
        "x=np.array(result)\n",
        "forecast=np.matmul(L,x)\n",
        "years = interest_rate.Year.to_list()\n",
        "sns.lineplot(x = years, y= initial_Rate, palette='pastel', marker='o',color = 'green', label = 'initial_rate')\n",
        "sns.lineplot(x = years, y = forecast, palette = 'pastel', marker='s', color = 'black', label = 'Predicted')\n",
        "plt.xticks(years, rotation = 90)"
      ],
      "metadata": {
        "colab": {
          "base_uri": "https://localhost:8080/",
          "height": 1000
        },
        "id": "wyJbfmBud0xq",
        "outputId": "a77521d7-6b05-4b92-f751-9c905f8e8a6e"
      },
      "execution_count": 203,
      "outputs": [
        {
          "output_type": "stream",
          "name": "stderr",
          "text": [
            "<ipython-input-203-d7240417d72d>:4: UserWarning: Ignoring `palette` because no `hue` variable has been assigned.\n",
            "  sns.lineplot(x = years, y= initial_Rate, palette='pastel', marker='o',color = 'green', label = 'initial_rate')\n",
            "<ipython-input-203-d7240417d72d>:5: UserWarning: Ignoring `palette` because no `hue` variable has been assigned.\n",
            "  sns.lineplot(x = years, y = forecast, palette = 'pastel', marker='s', color = 'black', label = 'Predicted')\n"
          ]
        },
        {
          "output_type": "execute_result",
          "data": {
            "text/plain": [
              "([<matplotlib.axis.XTick at 0x7d034e302740>,\n",
              "  <matplotlib.axis.XTick at 0x7d034e3002b0>,\n",
              "  <matplotlib.axis.XTick at 0x7d034e319a50>,\n",
              "  <matplotlib.axis.XTick at 0x7d034e2bab60>,\n",
              "  <matplotlib.axis.XTick at 0x7d034e2baad0>,\n",
              "  <matplotlib.axis.XTick at 0x7d034e2b9c90>,\n",
              "  <matplotlib.axis.XTick at 0x7d034e2bb430>,\n",
              "  <matplotlib.axis.XTick at 0x7d034e2b8f70>,\n",
              "  <matplotlib.axis.XTick at 0x7d034e40f5b0>,\n",
              "  <matplotlib.axis.XTick at 0x7d034e2ba8f0>,\n",
              "  <matplotlib.axis.XTick at 0x7d034e15ce20>,\n",
              "  <matplotlib.axis.XTick at 0x7d034e303ca0>,\n",
              "  <matplotlib.axis.XTick at 0x7d034e149de0>,\n",
              "  <matplotlib.axis.XTick at 0x7d034e14aef0>,\n",
              "  <matplotlib.axis.XTick at 0x7d034e14b6d0>,\n",
              "  <matplotlib.axis.XTick at 0x7d034e14beb0>,\n",
              "  <matplotlib.axis.XTick at 0x7d034e14b490>,\n",
              "  <matplotlib.axis.XTick at 0x7d034e2b99c0>,\n",
              "  <matplotlib.axis.XTick at 0x7d034e184ac0>,\n",
              "  <matplotlib.axis.XTick at 0x7d034e1852a0>],\n",
              " [Text(2003, 0, '2003'),\n",
              "  Text(2004, 0, '2004'),\n",
              "  Text(2005, 0, '2005'),\n",
              "  Text(2006, 0, '2006'),\n",
              "  Text(2007, 0, '2007'),\n",
              "  Text(2008, 0, '2008'),\n",
              "  Text(2009, 0, '2009'),\n",
              "  Text(2010, 0, '2010'),\n",
              "  Text(2011, 0, '2011'),\n",
              "  Text(2012, 0, '2012'),\n",
              "  Text(2013, 0, '2013'),\n",
              "  Text(2014, 0, '2014'),\n",
              "  Text(2015, 0, '2015'),\n",
              "  Text(2016, 0, '2016'),\n",
              "  Text(2017, 0, '2017'),\n",
              "  Text(2018, 0, '2018'),\n",
              "  Text(2019, 0, '2019'),\n",
              "  Text(2020, 0, '2020'),\n",
              "  Text(2021, 0, '2021'),\n",
              "  Text(2022, 0, '2022')])"
            ]
          },
          "metadata": {},
          "execution_count": 203
        },
        {
          "output_type": "display_data",
          "data": {
            "text/plain": [
              "<Figure size 640x480 with 1 Axes>"
            ],
            "image/png": "[encoded data removed]"
          },
          "metadata": {}
        }
      ]
    },
    {
      "cell_type": "code",
      "source": [
        "#with lower bound of b0\n",
        "d=np.array([0,-np.Inf,-np.Inf])\n",
        "res_d=solve_qp(p,q,G=None,h=None,A=None,b=None,lb=d,ub=None,solver='osqp')\n",
        "res_d"
      ],
      "metadata": {
        "colab": {
          "base_uri": "https://localhost:8080/"
        },
        "id": "Ay24hPjHd0eY",
        "outputId": "53731fdd-88e5-4801-8291-a0773d9c50c3"
      },
      "execution_count": 204,
      "outputs": [
        {
          "output_type": "stream",
          "name": "stderr",
          "text": [
            "/usr/local/lib/python3.10/dist-packages/qpsolvers/conversions/ensure_sparse_matrices.py:38: UserWarning: Converted P to scipy.sparse.csc.csc_matrix\n",
            "For best performance, build P as a scipy.sparse.csc_matrix rather than as a numpy.ndarray\n",
            "  warnings.warn(\n",
            "/usr/local/lib/python3.10/dist-packages/osqp/utils.py:122: UserWarning: Converting sparse A to a CSC (compressed sparse column) matrix. (It may take a while...)\n",
            "  warn(\"Converting sparse A to a CSC \" +\n"
          ]
        },
        {
          "output_type": "execute_result",
          "data": {
            "text/plain": [
              "array([ 0.09128332,  0.01686998, -0.00069351])"
            ]
          },
          "metadata": {},
          "execution_count": 204
        }
      ]
    },
    {
      "cell_type": "code",
      "source": [
        "x1=np.array(res_d)\n",
        "forecast=np.matmul(L,x1)\n",
        "years = interest_rate.Year.to_list()\n",
        "sns.lineplot(x = years, y= initial_Rate, palette='pastel', marker='o',color = 'green', label = 'Actual_rate')\n",
        "sns.lineplot(x = years, y = forecast, palette = 'pastel', marker='s', color = 'black', label = 'Predicted')\n",
        "plt.xticks(years, rotation = 90)"
      ],
      "metadata": {
        "colab": {
          "base_uri": "https://localhost:8080/",
          "height": 1000
        },
        "id": "-l3rpvcWnmf2",
        "outputId": "eb6611fa-5481-4179-e5ba-d2116476e2aa"
      },
      "execution_count": 205,
      "outputs": [
        {
          "output_type": "stream",
          "name": "stderr",
          "text": [
            "<ipython-input-205-23fe043be389>:4: UserWarning: Ignoring `palette` because no `hue` variable has been assigned.\n",
            "  sns.lineplot(x = years, y= initial_Rate, palette='pastel', marker='o',color = 'green', label = 'Actual_rate')\n",
            "<ipython-input-205-23fe043be389>:5: UserWarning: Ignoring `palette` because no `hue` variable has been assigned.\n",
            "  sns.lineplot(x = years, y = forecast, palette = 'pastel', marker='s', color = 'black', label = 'Predicted')\n"
          ]
        },
        {
          "output_type": "execute_result",
          "data": {
            "text/plain": [
              "([<matplotlib.axis.XTick at 0x7d034e186e90>,\n",
              "  <matplotlib.axis.XTick at 0x7d034e187280>,\n",
              "  <matplotlib.axis.XTick at 0x7d034e2bb010>,\n",
              "  <matplotlib.axis.XTick at 0x7d034e1ec880>,\n",
              "  <matplotlib.axis.XTick at 0x7d034e1ed330>,\n",
              "  <matplotlib.axis.XTick at 0x7d034e1edcc0>,\n",
              "  <matplotlib.axis.XTick at 0x7d034e1ee4a0>,\n",
              "  <matplotlib.axis.XTick at 0x7d034e1eec80>,\n",
              "  <matplotlib.axis.XTick at 0x7d034e1ee020>,\n",
              "  <matplotlib.axis.XTick at 0x7d034e1ef100>,\n",
              "  <matplotlib.axis.XTick at 0x7d034e1ef8e0>,\n",
              "  <matplotlib.axis.XTick at 0x7d034e187880>,\n",
              "  <matplotlib.axis.XTick at 0x7d034e15ddb0>,\n",
              "  <matplotlib.axis.XTick at 0x7d034e231b40>,\n",
              "  <matplotlib.axis.XTick at 0x7d034e232320>,\n",
              "  <matplotlib.axis.XTick at 0x7d034e232b00>,\n",
              "  <matplotlib.axis.XTick at 0x7d034e2326b0>,\n",
              "  <matplotlib.axis.XTick at 0x7d034e232ef0>,\n",
              "  <matplotlib.axis.XTick at 0x7d034e2336d0>,\n",
              "  <matplotlib.axis.XTick at 0x7d034e233eb0>],\n",
              " [Text(2003, 0, '2003'),\n",
              "  Text(2004, 0, '2004'),\n",
              "  Text(2005, 0, '2005'),\n",
              "  Text(2006, 0, '2006'),\n",
              "  Text(2007, 0, '2007'),\n",
              "  Text(2008, 0, '2008'),\n",
              "  Text(2009, 0, '2009'),\n",
              "  Text(2010, 0, '2010'),\n",
              "  Text(2011, 0, '2011'),\n",
              "  Text(2012, 0, '2012'),\n",
              "  Text(2013, 0, '2013'),\n",
              "  Text(2014, 0, '2014'),\n",
              "  Text(2015, 0, '2015'),\n",
              "  Text(2016, 0, '2016'),\n",
              "  Text(2017, 0, '2017'),\n",
              "  Text(2018, 0, '2018'),\n",
              "  Text(2019, 0, '2019'),\n",
              "  Text(2020, 0, '2020'),\n",
              "  Text(2021, 0, '2021'),\n",
              "  Text(2022, 0, '2022')])"
            ]
          },
          "metadata": {},
          "execution_count": 205
        },
        {
          "output_type": "display_data",
          "data": {
            "text/plain": [
              "<Figure size 640x480 with 1 Axes>"
            ],
            "image/png": "[encoded data removed]"
          },
          "metadata": {}
        }
      ]
    },
    {
      "cell_type": "code",
      "source": [
        "forecast"
      ],
      "metadata": {
        "colab": {
          "base_uri": "https://localhost:8080/"
        },
        "id": "6fvgVLMYxOLl",
        "outputId": "0d36baa5-06c5-48db-db93-9659f6aeead3"
      },
      "execution_count": 206,
      "outputs": [
        {
          "output_type": "execute_result",
          "data": {
            "text/plain": [
              "array([0.0380174 , 0.03230713, 0.03456948, 0.03510524, 0.03746952,\n",
              "       0.04692288, 0.04733355, 0.05118835, 0.04385999, 0.04426543,\n",
              "       0.03663523, 0.03047342, 0.03193188, 0.03152893, 0.03434042,\n",
              "       0.04584394, 0.05040107, 0.05329525, 0.04482168, 0.04543179])"
            ]
          },
          "metadata": {},
          "execution_count": 206
        }
      ]
    },
    {
      "cell_type": "code",
      "source": [
        "initial_Rate[1]"
      ],
      "metadata": {
        "colab": {
          "base_uri": "https://localhost:8080/"
        },
        "id": "CPytD1XqyLfH",
        "outputId": "e2afa11b-9168-4cd3-e62d-1167db0b8592"
      },
      "execution_count": 207,
      "outputs": [
        {
          "output_type": "execute_result",
          "data": {
            "text/plain": [
              "0.0312"
            ]
          },
          "metadata": {},
          "execution_count": 207
        }
      ]
    },
    {
      "cell_type": "code",
      "source": [
        "model_2 =ConcreteModel()\n",
        "model_2.constraints= ConstraintList()\n",
        "model_2.x= Var(np.arange(3),domain=Reals)\n",
        "model_2.u=Var(np.arange(3),domain=Reals)\n",
        "\n",
        "model_2.objective = Objective(expr=sum(initial_Rate[i]-(1*model_2.u[0]+interest_rate.iloc[i][2]*model_2.u[1]+interest_rate.iloc[i][3]*model_2.u[2]) for i in range(20)), sense=minimize)\n",
        "for i in range(20):\n",
        "  model_2.constraints.add(expr=initial_Rate[i]-(1*model_2.u[0]+interest_rate.iloc[i][2]*model_2.u[1]+interest_rate.iloc[i][3]*model_2.u[2])>=0)\n",
        "for i in range(3):\n",
        "\n",
        "\n",
        "    model_2.constraints.add(expr = model_2.u[i] >= model_2.x[i])\n",
        "    model_2.constraints.add(expr = model_2.u[i] >= -model_2.x[i])\n",
        "    model_2.constraints.add(expr = model_2.u[i]>=0)\n",
        "\n"
      ],
      "metadata": {
        "id": "9LWbSvvVoVEX"
      },
      "execution_count": 208,
      "outputs": []
    },
    {
      "cell_type": "code",
      "source": [
        "model_2.pprint()"
      ],
      "metadata": {
        "colab": {
          "base_uri": "https://localhost:8080/"
        },
        "id": "toblW4eaxYof",
        "outputId": "2321eb33-a66b-45e8-dc7a-41cb37f4a429"
      },
      "execution_count": 209,
      "outputs": [
        {
          "output_type": "stream",
          "name": "stdout",
          "text": [
            "3 Set Declarations\n",
            "    constraints_index : Size=1, Index=None, Ordered=Insertion\n",
            "        Key  : Dimen : Domain : Size : Members\n",
            "        None :     1 :    Any :   29 : {1, 2, 3, 4, 5, 6, 7, 8, 9, 10, 11, 12, 13, 14, 15, 16, 17, 18, 19, 20, 21, 22, 23, 24, 25, 26, 27, 28, 29}\n",
            "    u_index : Size=1, Index=None, Ordered=False\n",
            "        Key  : Dimen : Domain : Size : Members\n",
            "        None :     1 :    Any :    3 : {0, 1, 2}\n",
            "    x_index : Size=1, Index=None, Ordered=False\n",
            "        Key  : Dimen : Domain : Size : Members\n",
            "        None :     1 :    Any :    3 : {0, 1, 2}\n",
            "\n",
            "2 Var Declarations\n",
            "    u : Size=3, Index=u_index\n",
            "        Key : Lower : Value : Upper : Fixed : Stale : Domain\n",
            "          0 :  None :  None :  None : False :  True :  Reals\n",
            "          1 :  None :  None :  None : False :  True :  Reals\n",
            "          2 :  None :  None :  None : False :  True :  Reals\n",
            "    x : Size=3, Index=x_index\n",
            "        Key : Lower : Value : Upper : Fixed : Stale : Domain\n",
            "          0 :  None :  None :  None : False :  True :  Reals\n",
            "          1 :  None :  None :  None : False :  True :  Reals\n",
            "          2 :  None :  None :  None : False :  True :  Reals\n",
            "\n",
            "1 Objective Declarations\n",
            "    objective : Size=1, Index=None, Active=True\n",
            "        Key  : Active : Sense    : Expression\n",
            "        None :   True : minimize : 0.0416 - (u[0] + 0.3615*u[1] + 85.6*u[2]) + 0.0312 - (u[0] + 0.282*u[1] + 91.9*u[2]) + 0.0354 - (u[0] + 0.301*u[1] + 89.1*u[2]) + 0.0331 - (u[0] + 0.3862*u[1] + 90.4*u[2]) + 0.0399 - (u[0] + 0.3578*u[1] + 86.3*u[2]) + 0.0501 - (u[0] + 0.4413*u[1] + 74.7*u[2]) + 0.0421 - (u[0] + 0.6753*u[1] + 79.8*u[2]) + 0.0507 - (u[0] + 0.6777*u[1] + 74.3*u[2]) + 0.0431 - (u[0] + 0.6585*u[1] + 84.4*u[2]) + 0.0437 - (u[0] + 0.6702*u[1] + 84.1*u[2]) + 0.0398 - (u[0] + 0.3289*u[1] + 86.8*u[2]) + 0.0274 - (u[0] + 0.2473*u[1] + 93.7*u[2]) + 0.0298 - (u[0] + 0.2762*u[1] + 92.3*u[2]) + 0.0261 - (u[0] + 0.3222*u[1] + 94.0*u[2]) + 0.0358 - (u[0] + 0.2792*u[1] + 88.9*u[2]) + 0.0504 - (u[0] + 0.3609*u[1] + 74.3*u[2]) + 0.0478 - (u[0] + 0.6187*u[1] + 74.0*u[2]) + 0.0549 - (u[0] + 0.6176*u[1] + 69.8*u[2]) + 0.0468 - (u[0] + 0.6004*u[1] + 81.6*u[2]) + 0.0478 - (u[0] + 0.6119*u[1] + 81.0*u[2])\n",
            "\n",
            "1 Constraint Declarations\n",
            "    constraints : Size=29, Index=constraints_index, Active=True\n",
            "        Key : Lower : Body                                      : Upper : Active\n",
            "          1 :   0.0 : 0.0416 - (u[0] + 0.3615*u[1] + 85.6*u[2]) :  +Inf :   True\n",
            "          2 :   0.0 :  0.0312 - (u[0] + 0.282*u[1] + 91.9*u[2]) :  +Inf :   True\n",
            "          3 :   0.0 :  0.0354 - (u[0] + 0.301*u[1] + 89.1*u[2]) :  +Inf :   True\n",
            "          4 :   0.0 : 0.0331 - (u[0] + 0.3862*u[1] + 90.4*u[2]) :  +Inf :   True\n",
            "          5 :   0.0 : 0.0399 - (u[0] + 0.3578*u[1] + 86.3*u[2]) :  +Inf :   True\n",
            "          6 :   0.0 : 0.0501 - (u[0] + 0.4413*u[1] + 74.7*u[2]) :  +Inf :   True\n",
            "          7 :   0.0 : 0.0421 - (u[0] + 0.6753*u[1] + 79.8*u[2]) :  +Inf :   True\n",
            "          8 :   0.0 : 0.0507 - (u[0] + 0.6777*u[1] + 74.3*u[2]) :  +Inf :   True\n",
            "          9 :   0.0 : 0.0431 - (u[0] + 0.6585*u[1] + 84.4*u[2]) :  +Inf :   True\n",
            "         10 :   0.0 : 0.0437 - (u[0] + 0.6702*u[1] + 84.1*u[2]) :  +Inf :   True\n",
            "         11 :   0.0 : 0.0398 - (u[0] + 0.3289*u[1] + 86.8*u[2]) :  +Inf :   True\n",
            "         12 :   0.0 : 0.0274 - (u[0] + 0.2473*u[1] + 93.7*u[2]) :  +Inf :   True\n",
            "         13 :   0.0 : 0.0298 - (u[0] + 0.2762*u[1] + 92.3*u[2]) :  +Inf :   True\n",
            "         14 :   0.0 : 0.0261 - (u[0] + 0.3222*u[1] + 94.0*u[2]) :  +Inf :   True\n",
            "         15 :   0.0 : 0.0358 - (u[0] + 0.2792*u[1] + 88.9*u[2]) :  +Inf :   True\n",
            "         16 :   0.0 : 0.0504 - (u[0] + 0.3609*u[1] + 74.3*u[2]) :  +Inf :   True\n",
            "         17 :   0.0 : 0.0478 - (u[0] + 0.6187*u[1] + 74.0*u[2]) :  +Inf :   True\n",
            "         18 :   0.0 : 0.0549 - (u[0] + 0.6176*u[1] + 69.8*u[2]) :  +Inf :   True\n",
            "         19 :   0.0 : 0.0468 - (u[0] + 0.6004*u[1] + 81.6*u[2]) :  +Inf :   True\n",
            "         20 :   0.0 : 0.0478 - (u[0] + 0.6119*u[1] + 81.0*u[2]) :  +Inf :   True\n",
            "         21 :  -Inf :                               x[0] - u[0] :   0.0 :   True\n",
            "         22 :  -Inf :                             - x[0] - u[0] :   0.0 :   True\n",
            "         23 :   0.0 :                                      u[0] :  +Inf :   True\n",
            "         24 :  -Inf :                               x[1] - u[1] :   0.0 :   True\n",
            "         25 :  -Inf :                             - x[1] - u[1] :   0.0 :   True\n",
            "         26 :   0.0 :                                      u[1] :  +Inf :   True\n",
            "         27 :  -Inf :                               x[2] - u[2] :   0.0 :   True\n",
            "         28 :  -Inf :                             - x[2] - u[2] :   0.0 :   True\n",
            "         29 :   0.0 :                                      u[2] :  +Inf :   True\n",
            "\n",
            "7 Declarations: constraints_index constraints x_index x u_index u objective\n"
          ]
        }
      ]
    },
    {
      "cell_type": "code",
      "source": [
        "optOP = SolverFactory('cbc')\n",
        "result_1 = optOP.solve(model_2)\n",
        "print(result_1)"
      ],
      "metadata": {
        "colab": {
          "base_uri": "https://localhost:8080/"
        },
        "id": "1Wm3sfMGy2dP",
        "outputId": "d8f8e893-889d-47c0-e7f7-9df4c3fd4e65"
      },
      "execution_count": 210,
      "outputs": [
        {
          "output_type": "stream",
          "name": "stdout",
          "text": [
            "\n",
            "Problem: \n",
            "- Name: unknown\n",
            "  Lower bound: 0.1762907108\n",
            "  Upper bound: 0.1762907108\n",
            "  Number of objectives: 1\n",
            "  Number of constraints: 29\n",
            "  Number of variables: 7\n",
            "  Number of nonzeros: 3\n",
            "  Sense: minimize\n",
            "Solver: \n",
            "- Status: ok\n",
            "  User time: -1.0\n",
            "  System time: 0.0\n",
            "  Wallclock time: 0.0\n",
            "  Termination condition: optimal\n",
            "  Termination message: Model was solved to optimality (subject to tolerances), and an optimal solution is available.\n",
            "  Statistics: \n",
            "    Branch and bound: \n",
            "      Number of bounded subproblems: None\n",
            "      Number of created subproblems: None\n",
            "    Black box: \n",
            "      Number of iterations: 4\n",
            "  Error rc: 0\n",
            "  Time: 0.02637767791748047\n",
            "Solution: \n",
            "- number of solutions: 0\n",
            "  number of solutions displayed: 0\n",
            "\n"
          ]
        }
      ]
    },
    {
      "cell_type": "code",
      "source": [
        "for i in range(3):\n",
        "  print('x',[i],model_2.x[i]())\n",
        "  end=''\n",
        "  print('u',[i],model_2.u[i]())"
      ],
      "metadata": {
        "colab": {
          "base_uri": "https://localhost:8080/"
        },
        "id": "82P5EZGMyY3q",
        "outputId": "9347b1ad-16f2-4ca2-9a54-edb9fd2818c6"
      },
      "execution_count": 211,
      "outputs": [
        {
          "output_type": "stream",
          "name": "stdout",
          "text": [
            "x [0] 0.01150017\n",
            "u [0] 0.01150017\n",
            "x [1] 0.045312943\n",
            "u [1] 0.045312943\n",
            "x [2] 0.0\n",
            "u [2] 0.0\n"
          ]
        }
      ]
    },
    {
      "cell_type": "code",
      "source": [
        "print(model_2.objective())\n"
      ],
      "metadata": {
        "colab": {
          "base_uri": "https://localhost:8080/"
        },
        "id": "GmYswAmp4ayq",
        "outputId": "723adb51-8262-48c9-dbfd-cc3b15cf438f"
      },
      "execution_count": 212,
      "outputs": [
        {
          "output_type": "stream",
          "name": "stdout",
          "text": [
            "0.17629070486360002\n"
          ]
        }
      ]
    },
    {
      "cell_type": "code",
      "source": [
        "#Answer-3\n"
      ],
      "metadata": {
        "id": "1-jE3hsD0Wgg"
      },
      "execution_count": 216,
      "outputs": []
    },
    {
      "cell_type": "code",
      "source": [
        "#Op-1\n",
        "model_op1 = ConcreteModel()\n",
        "n = 20\n",
        "model_op1.z = Var(np.arange(n))\n",
        "model_op1.b= Var(np.arange(3))\n",
        "model_op1.obj = Objective(expr = sum(model_op1.z[i] for i in range(n)), sense = minimize)\n",
        "model_op1.constraints = ConstraintList()\n",
        "for i in range(n):\n",
        "  model_op1.constraints.add( expr = initial_Rate[i] - model_op1.b[0] - model_op1.b[1]*interest_rate.iloc[i][2] - model_op1.b[2]*interest_rate.iloc[i][3] <= model_op1.z[i])\n",
        "  model_op1.constraints.add( expr = -initial_Rate[i] + model_op1.b[0] + model_op1.b[1]*interest_rate.iloc[i][2] + model_op1.b[2]*interest_rate.iloc[i][3] <= model_op1.z[i])\n",
        "  model_op1.constraints.add(expr = model_op1.z[i]>=0)\n",
        "model_op1.constraints.add(expr = model_op1.b[0] >= 0)\n",
        "model_op1.pprint()"
      ],
      "metadata": {
        "id": "zLJm5x1jxiwF",
        "colab": {
          "base_uri": "https://localhost:8080/"
        },
        "outputId": "12b0325e-495c-483d-a7b8-41565b7c3850"
      },
      "execution_count": 217,
      "outputs": [
        {
          "output_type": "stream",
          "name": "stdout",
          "text": [
            "3 Set Declarations\n",
            "    b_index : Size=1, Index=None, Ordered=False\n",
            "        Key  : Dimen : Domain : Size : Members\n",
            "        None :     1 :    Any :    3 : {0, 1, 2}\n",
            "    constraints_index : Size=1, Index=None, Ordered=Insertion\n",
            "        Key  : Dimen : Domain : Size : Members\n",
            "        None :     1 :    Any :   61 : {1, 2, 3, 4, 5, 6, 7, 8, 9, 10, 11, 12, 13, 14, 15, 16, 17, 18, 19, 20, 21, 22, 23, 24, 25, 26, 27, 28, 29, 30, 31, 32, 33, 34, 35, 36, 37, 38, 39, 40, 41, 42, 43, 44, 45, 46, 47, 48, 49, 50, 51, 52, 53, 54, 55, 56, 57, 58, 59, 60, 61}\n",
            "    z_index : Size=1, Index=None, Ordered=False\n",
            "        Key  : Dimen : Domain : Size : Members\n",
            "        None :     1 :    Any :   20 : {0, 1, 2, 3, 4, 5, 6, 7, 8, 9, 10, 11, 12, 13, 14, 15, 16, 17, 18, 19}\n",
            "\n",
            "2 Var Declarations\n",
            "    b : Size=3, Index=b_index\n",
            "        Key : Lower : Value : Upper : Fixed : Stale : Domain\n",
            "          0 :  None :  None :  None : False :  True :  Reals\n",
            "          1 :  None :  None :  None : False :  True :  Reals\n",
            "          2 :  None :  None :  None : False :  True :  Reals\n",
            "    z : Size=20, Index=z_index\n",
            "        Key : Lower : Value : Upper : Fixed : Stale : Domain\n",
            "          0 :  None :  None :  None : False :  True :  Reals\n",
            "          1 :  None :  None :  None : False :  True :  Reals\n",
            "          2 :  None :  None :  None : False :  True :  Reals\n",
            "          3 :  None :  None :  None : False :  True :  Reals\n",
            "          4 :  None :  None :  None : False :  True :  Reals\n",
            "          5 :  None :  None :  None : False :  True :  Reals\n",
            "          6 :  None :  None :  None : False :  True :  Reals\n",
            "          7 :  None :  None :  None : False :  True :  Reals\n",
            "          8 :  None :  None :  None : False :  True :  Reals\n",
            "          9 :  None :  None :  None : False :  True :  Reals\n",
            "         10 :  None :  None :  None : False :  True :  Reals\n",
            "         11 :  None :  None :  None : False :  True :  Reals\n",
            "         12 :  None :  None :  None : False :  True :  Reals\n",
            "         13 :  None :  None :  None : False :  True :  Reals\n",
            "         14 :  None :  None :  None : False :  True :  Reals\n",
            "         15 :  None :  None :  None : False :  True :  Reals\n",
            "         16 :  None :  None :  None : False :  True :  Reals\n",
            "         17 :  None :  None :  None : False :  True :  Reals\n",
            "         18 :  None :  None :  None : False :  True :  Reals\n",
            "         19 :  None :  None :  None : False :  True :  Reals\n",
            "\n",
            "1 Objective Declarations\n",
            "    obj : Size=1, Index=None, Active=True\n",
            "        Key  : Active : Sense    : Expression\n",
            "        None :   True : minimize : z[0] + z[1] + z[2] + z[3] + z[4] + z[5] + z[6] + z[7] + z[8] + z[9] + z[10] + z[11] + z[12] + z[13] + z[14] + z[15] + z[16] + z[17] + z[18] + z[19]\n",
            "\n",
            "1 Constraint Declarations\n",
            "    constraints : Size=61, Index=constraints_index, Active=True\n",
            "        Key : Lower : Body                                             : Upper : Active\n",
            "          1 :  -Inf :   0.0416 - b[0] - 0.3615*b[1] - 85.6*b[2] - z[0] :   0.0 :   True\n",
            "          2 :  -Inf :  -0.0416 + b[0] + 0.3615*b[1] + 85.6*b[2] - z[0] :   0.0 :   True\n",
            "          3 :   0.0 :                                             z[0] :  +Inf :   True\n",
            "          4 :  -Inf :    0.0312 - b[0] - 0.282*b[1] - 91.9*b[2] - z[1] :   0.0 :   True\n",
            "          5 :  -Inf :   -0.0312 + b[0] + 0.282*b[1] + 91.9*b[2] - z[1] :   0.0 :   True\n",
            "          6 :   0.0 :                                             z[1] :  +Inf :   True\n",
            "          7 :  -Inf :    0.0354 - b[0] - 0.301*b[1] - 89.1*b[2] - z[2] :   0.0 :   True\n",
            "          8 :  -Inf :   -0.0354 + b[0] + 0.301*b[1] + 89.1*b[2] - z[2] :   0.0 :   True\n",
            "          9 :   0.0 :                                             z[2] :  +Inf :   True\n",
            "         10 :  -Inf :   0.0331 - b[0] - 0.3862*b[1] - 90.4*b[2] - z[3] :   0.0 :   True\n",
            "         11 :  -Inf :  -0.0331 + b[0] + 0.3862*b[1] + 90.4*b[2] - z[3] :   0.0 :   True\n",
            "         12 :   0.0 :                                             z[3] :  +Inf :   True\n",
            "         13 :  -Inf :   0.0399 - b[0] - 0.3578*b[1] - 86.3*b[2] - z[4] :   0.0 :   True\n",
            "         14 :  -Inf :  -0.0399 + b[0] + 0.3578*b[1] + 86.3*b[2] - z[4] :   0.0 :   True\n",
            "         15 :   0.0 :                                             z[4] :  +Inf :   True\n",
            "         16 :  -Inf :   0.0501 - b[0] - 0.4413*b[1] - 74.7*b[2] - z[5] :   0.0 :   True\n",
            "         17 :  -Inf :  -0.0501 + b[0] + 0.4413*b[1] + 74.7*b[2] - z[5] :   0.0 :   True\n",
            "         18 :   0.0 :                                             z[5] :  +Inf :   True\n",
            "         19 :  -Inf :   0.0421 - b[0] - 0.6753*b[1] - 79.8*b[2] - z[6] :   0.0 :   True\n",
            "         20 :  -Inf :  -0.0421 + b[0] + 0.6753*b[1] + 79.8*b[2] - z[6] :   0.0 :   True\n",
            "         21 :   0.0 :                                             z[6] :  +Inf :   True\n",
            "         22 :  -Inf :   0.0507 - b[0] - 0.6777*b[1] - 74.3*b[2] - z[7] :   0.0 :   True\n",
            "         23 :  -Inf :  -0.0507 + b[0] + 0.6777*b[1] + 74.3*b[2] - z[7] :   0.0 :   True\n",
            "         24 :   0.0 :                                             z[7] :  +Inf :   True\n",
            "         25 :  -Inf :   0.0431 - b[0] - 0.6585*b[1] - 84.4*b[2] - z[8] :   0.0 :   True\n",
            "         26 :  -Inf :  -0.0431 + b[0] + 0.6585*b[1] + 84.4*b[2] - z[8] :   0.0 :   True\n",
            "         27 :   0.0 :                                             z[8] :  +Inf :   True\n",
            "         28 :  -Inf :   0.0437 - b[0] - 0.6702*b[1] - 84.1*b[2] - z[9] :   0.0 :   True\n",
            "         29 :  -Inf :  -0.0437 + b[0] + 0.6702*b[1] + 84.1*b[2] - z[9] :   0.0 :   True\n",
            "         30 :   0.0 :                                             z[9] :  +Inf :   True\n",
            "         31 :  -Inf :  0.0398 - b[0] - 0.3289*b[1] - 86.8*b[2] - z[10] :   0.0 :   True\n",
            "         32 :  -Inf : -0.0398 + b[0] + 0.3289*b[1] + 86.8*b[2] - z[10] :   0.0 :   True\n",
            "         33 :   0.0 :                                            z[10] :  +Inf :   True\n",
            "         34 :  -Inf :  0.0274 - b[0] - 0.2473*b[1] - 93.7*b[2] - z[11] :   0.0 :   True\n",
            "         35 :  -Inf : -0.0274 + b[0] + 0.2473*b[1] + 93.7*b[2] - z[11] :   0.0 :   True\n",
            "         36 :   0.0 :                                            z[11] :  +Inf :   True\n",
            "         37 :  -Inf :  0.0298 - b[0] - 0.2762*b[1] - 92.3*b[2] - z[12] :   0.0 :   True\n",
            "         38 :  -Inf : -0.0298 + b[0] + 0.2762*b[1] + 92.3*b[2] - z[12] :   0.0 :   True\n",
            "         39 :   0.0 :                                            z[12] :  +Inf :   True\n",
            "         40 :  -Inf :  0.0261 - b[0] - 0.3222*b[1] - 94.0*b[2] - z[13] :   0.0 :   True\n",
            "         41 :  -Inf : -0.0261 + b[0] + 0.3222*b[1] + 94.0*b[2] - z[13] :   0.0 :   True\n",
            "         42 :   0.0 :                                            z[13] :  +Inf :   True\n",
            "         43 :  -Inf :  0.0358 - b[0] - 0.2792*b[1] - 88.9*b[2] - z[14] :   0.0 :   True\n",
            "         44 :  -Inf : -0.0358 + b[0] + 0.2792*b[1] + 88.9*b[2] - z[14] :   0.0 :   True\n",
            "         45 :   0.0 :                                            z[14] :  +Inf :   True\n",
            "         46 :  -Inf :  0.0504 - b[0] - 0.3609*b[1] - 74.3*b[2] - z[15] :   0.0 :   True\n",
            "         47 :  -Inf : -0.0504 + b[0] + 0.3609*b[1] + 74.3*b[2] - z[15] :   0.0 :   True\n",
            "         48 :   0.0 :                                            z[15] :  +Inf :   True\n",
            "         49 :  -Inf :  0.0478 - b[0] - 0.6187*b[1] - 74.0*b[2] - z[16] :   0.0 :   True\n",
            "         50 :  -Inf : -0.0478 + b[0] + 0.6187*b[1] + 74.0*b[2] - z[16] :   0.0 :   True\n",
            "         51 :   0.0 :                                            z[16] :  +Inf :   True\n",
            "         52 :  -Inf :  0.0549 - b[0] - 0.6176*b[1] - 69.8*b[2] - z[17] :   0.0 :   True\n",
            "         53 :  -Inf : -0.0549 + b[0] + 0.6176*b[1] + 69.8*b[2] - z[17] :   0.0 :   True\n",
            "         54 :   0.0 :                                            z[17] :  +Inf :   True\n",
            "         55 :  -Inf :  0.0468 - b[0] - 0.6004*b[1] - 81.6*b[2] - z[18] :   0.0 :   True\n",
            "         56 :  -Inf : -0.0468 + b[0] + 0.6004*b[1] + 81.6*b[2] - z[18] :   0.0 :   True\n",
            "         57 :   0.0 :                                            z[18] :  +Inf :   True\n",
            "         58 :  -Inf :  0.0478 - b[0] - 0.6119*b[1] - 81.0*b[2] - z[19] :   0.0 :   True\n",
            "         59 :  -Inf : -0.0478 + b[0] + 0.6119*b[1] + 81.0*b[2] - z[19] :   0.0 :   True\n",
            "         60 :   0.0 :                                            z[19] :  +Inf :   True\n",
            "         61 :   0.0 :                                             b[0] :  +Inf :   True\n",
            "\n",
            "7 Declarations: z_index z b_index b obj constraints_index constraints\n"
          ]
        }
      ]
    },
    {
      "cell_type": "code",
      "source": [
        "#OP2:\n",
        "model_op2 = ConcreteModel()\n",
        "n = 20\n",
        "model_op2.x = Var(np.arange(n))\n",
        "model_op2.y= Var(np.arange(n))\n",
        "model_op2.b = Var(np.arange(3))\n",
        "model_op2.obj = Objective(expr = sum(model_op2.x[i] + model_op2.y[i] for i in range(n)), sense = minimize)\n",
        "model_op2.constraints = ConstraintList()\n",
        "for i in range(n):\n",
        "  model_op2.constraints.add( expr = initial_Rate[i] - model_op2.b[0] - model_op2.b[1]*interest_rate.iloc[i][2] - model_op2.b[2]*interest_rate.iloc[i][3] == model_op2.x[i]- model_op2.y[i])\n",
        "  model_op2.constraints.add(expr = model_op2.x[i]>=0)\n",
        "  model_op2.constraints.add(expr = model_op2.y[i]>=0)\n",
        "model_op2.constraints.add(expr = model_op2.b[0] >= 0)\n",
        "model_op2.pprint()"
      ],
      "metadata": {
        "colab": {
          "base_uri": "https://localhost:8080/"
        },
        "id": "pv_VMT2KV64x",
        "outputId": "4c864552-c746-4816-d707-b602a6b2f475"
      },
      "execution_count": 218,
      "outputs": [
        {
          "output_type": "stream",
          "name": "stdout",
          "text": [
            "4 Set Declarations\n",
            "    b_index : Size=1, Index=None, Ordered=False\n",
            "        Key  : Dimen : Domain : Size : Members\n",
            "        None :     1 :    Any :    3 : {0, 1, 2}\n",
            "    constraints_index : Size=1, Index=None, Ordered=Insertion\n",
            "        Key  : Dimen : Domain : Size : Members\n",
            "        None :     1 :    Any :   61 : {1, 2, 3, 4, 5, 6, 7, 8, 9, 10, 11, 12, 13, 14, 15, 16, 17, 18, 19, 20, 21, 22, 23, 24, 25, 26, 27, 28, 29, 30, 31, 32, 33, 34, 35, 36, 37, 38, 39, 40, 41, 42, 43, 44, 45, 46, 47, 48, 49, 50, 51, 52, 53, 54, 55, 56, 57, 58, 59, 60, 61}\n",
            "    x_index : Size=1, Index=None, Ordered=False\n",
            "        Key  : Dimen : Domain : Size : Members\n",
            "        None :     1 :    Any :   20 : {0, 1, 2, 3, 4, 5, 6, 7, 8, 9, 10, 11, 12, 13, 14, 15, 16, 17, 18, 19}\n",
            "    y_index : Size=1, Index=None, Ordered=False\n",
            "        Key  : Dimen : Domain : Size : Members\n",
            "        None :     1 :    Any :   20 : {0, 1, 2, 3, 4, 5, 6, 7, 8, 9, 10, 11, 12, 13, 14, 15, 16, 17, 18, 19}\n",
            "\n",
            "3 Var Declarations\n",
            "    b : Size=3, Index=b_index\n",
            "        Key : Lower : Value : Upper : Fixed : Stale : Domain\n",
            "          0 :  None :  None :  None : False :  True :  Reals\n",
            "          1 :  None :  None :  None : False :  True :  Reals\n",
            "          2 :  None :  None :  None : False :  True :  Reals\n",
            "    x : Size=20, Index=x_index\n",
            "        Key : Lower : Value : Upper : Fixed : Stale : Domain\n",
            "          0 :  None :  None :  None : False :  True :  Reals\n",
            "          1 :  None :  None :  None : False :  True :  Reals\n",
            "          2 :  None :  None :  None : False :  True :  Reals\n",
            "          3 :  None :  None :  None : False :  True :  Reals\n",
            "          4 :  None :  None :  None : False :  True :  Reals\n",
            "          5 :  None :  None :  None : False :  True :  Reals\n",
            "          6 :  None :  None :  None : False :  True :  Reals\n",
            "          7 :  None :  None :  None : False :  True :  Reals\n",
            "          8 :  None :  None :  None : False :  True :  Reals\n",
            "          9 :  None :  None :  None : False :  True :  Reals\n",
            "         10 :  None :  None :  None : False :  True :  Reals\n",
            "         11 :  None :  None :  None : False :  True :  Reals\n",
            "         12 :  None :  None :  None : False :  True :  Reals\n",
            "         13 :  None :  None :  None : False :  True :  Reals\n",
            "         14 :  None :  None :  None : False :  True :  Reals\n",
            "         15 :  None :  None :  None : False :  True :  Reals\n",
            "         16 :  None :  None :  None : False :  True :  Reals\n",
            "         17 :  None :  None :  None : False :  True :  Reals\n",
            "         18 :  None :  None :  None : False :  True :  Reals\n",
            "         19 :  None :  None :  None : False :  True :  Reals\n",
            "    y : Size=20, Index=y_index\n",
            "        Key : Lower : Value : Upper : Fixed : Stale : Domain\n",
            "          0 :  None :  None :  None : False :  True :  Reals\n",
            "          1 :  None :  None :  None : False :  True :  Reals\n",
            "          2 :  None :  None :  None : False :  True :  Reals\n",
            "          3 :  None :  None :  None : False :  True :  Reals\n",
            "          4 :  None :  None :  None : False :  True :  Reals\n",
            "          5 :  None :  None :  None : False :  True :  Reals\n",
            "          6 :  None :  None :  None : False :  True :  Reals\n",
            "          7 :  None :  None :  None : False :  True :  Reals\n",
            "          8 :  None :  None :  None : False :  True :  Reals\n",
            "          9 :  None :  None :  None : False :  True :  Reals\n",
            "         10 :  None :  None :  None : False :  True :  Reals\n",
            "         11 :  None :  None :  None : False :  True :  Reals\n",
            "         12 :  None :  None :  None : False :  True :  Reals\n",
            "         13 :  None :  None :  None : False :  True :  Reals\n",
            "         14 :  None :  None :  None : False :  True :  Reals\n",
            "         15 :  None :  None :  None : False :  True :  Reals\n",
            "         16 :  None :  None :  None : False :  True :  Reals\n",
            "         17 :  None :  None :  None : False :  True :  Reals\n",
            "         18 :  None :  None :  None : False :  True :  Reals\n",
            "         19 :  None :  None :  None : False :  True :  Reals\n",
            "\n",
            "1 Objective Declarations\n",
            "    obj : Size=1, Index=None, Active=True\n",
            "        Key  : Active : Sense    : Expression\n",
            "        None :   True : minimize : x[0] + y[0] + x[1] + y[1] + x[2] + y[2] + x[3] + y[3] + x[4] + y[4] + x[5] + y[5] + x[6] + y[6] + x[7] + y[7] + x[8] + y[8] + x[9] + y[9] + x[10] + y[10] + x[11] + y[11] + x[12] + y[12] + x[13] + y[13] + x[14] + y[14] + x[15] + y[15] + x[16] + y[16] + x[17] + y[17] + x[18] + y[18] + x[19] + y[19]\n",
            "\n",
            "1 Constraint Declarations\n",
            "    constraints : Size=61, Index=constraints_index, Active=True\n",
            "        Key : Lower : Body                                                      : Upper : Active\n",
            "          1 :   0.0 :   0.0416 - b[0] - 0.3615*b[1] - 85.6*b[2] - (x[0] - y[0]) :   0.0 :   True\n",
            "          2 :   0.0 :                                                      x[0] :  +Inf :   True\n",
            "          3 :   0.0 :                                                      y[0] :  +Inf :   True\n",
            "          4 :   0.0 :    0.0312 - b[0] - 0.282*b[1] - 91.9*b[2] - (x[1] - y[1]) :   0.0 :   True\n",
            "          5 :   0.0 :                                                      x[1] :  +Inf :   True\n",
            "          6 :   0.0 :                                                      y[1] :  +Inf :   True\n",
            "          7 :   0.0 :    0.0354 - b[0] - 0.301*b[1] - 89.1*b[2] - (x[2] - y[2]) :   0.0 :   True\n",
            "          8 :   0.0 :                                                      x[2] :  +Inf :   True\n",
            "          9 :   0.0 :                                                      y[2] :  +Inf :   True\n",
            "         10 :   0.0 :   0.0331 - b[0] - 0.3862*b[1] - 90.4*b[2] - (x[3] - y[3]) :   0.0 :   True\n",
            "         11 :   0.0 :                                                      x[3] :  +Inf :   True\n",
            "         12 :   0.0 :                                                      y[3] :  +Inf :   True\n",
            "         13 :   0.0 :   0.0399 - b[0] - 0.3578*b[1] - 86.3*b[2] - (x[4] - y[4]) :   0.0 :   True\n",
            "         14 :   0.0 :                                                      x[4] :  +Inf :   True\n",
            "         15 :   0.0 :                                                      y[4] :  +Inf :   True\n",
            "         16 :   0.0 :   0.0501 - b[0] - 0.4413*b[1] - 74.7*b[2] - (x[5] - y[5]) :   0.0 :   True\n",
            "         17 :   0.0 :                                                      x[5] :  +Inf :   True\n",
            "         18 :   0.0 :                                                      y[5] :  +Inf :   True\n",
            "         19 :   0.0 :   0.0421 - b[0] - 0.6753*b[1] - 79.8*b[2] - (x[6] - y[6]) :   0.0 :   True\n",
            "         20 :   0.0 :                                                      x[6] :  +Inf :   True\n",
            "         21 :   0.0 :                                                      y[6] :  +Inf :   True\n",
            "         22 :   0.0 :   0.0507 - b[0] - 0.6777*b[1] - 74.3*b[2] - (x[7] - y[7]) :   0.0 :   True\n",
            "         23 :   0.0 :                                                      x[7] :  +Inf :   True\n",
            "         24 :   0.0 :                                                      y[7] :  +Inf :   True\n",
            "         25 :   0.0 :   0.0431 - b[0] - 0.6585*b[1] - 84.4*b[2] - (x[8] - y[8]) :   0.0 :   True\n",
            "         26 :   0.0 :                                                      x[8] :  +Inf :   True\n",
            "         27 :   0.0 :                                                      y[8] :  +Inf :   True\n",
            "         28 :   0.0 :   0.0437 - b[0] - 0.6702*b[1] - 84.1*b[2] - (x[9] - y[9]) :   0.0 :   True\n",
            "         29 :   0.0 :                                                      x[9] :  +Inf :   True\n",
            "         30 :   0.0 :                                                      y[9] :  +Inf :   True\n",
            "         31 :   0.0 : 0.0398 - b[0] - 0.3289*b[1] - 86.8*b[2] - (x[10] - y[10]) :   0.0 :   True\n",
            "         32 :   0.0 :                                                     x[10] :  +Inf :   True\n",
            "         33 :   0.0 :                                                     y[10] :  +Inf :   True\n",
            "         34 :   0.0 : 0.0274 - b[0] - 0.2473*b[1] - 93.7*b[2] - (x[11] - y[11]) :   0.0 :   True\n",
            "         35 :   0.0 :                                                     x[11] :  +Inf :   True\n",
            "         36 :   0.0 :                                                     y[11] :  +Inf :   True\n",
            "         37 :   0.0 : 0.0298 - b[0] - 0.2762*b[1] - 92.3*b[2] - (x[12] - y[12]) :   0.0 :   True\n",
            "         38 :   0.0 :                                                     x[12] :  +Inf :   True\n",
            "         39 :   0.0 :                                                     y[12] :  +Inf :   True\n",
            "         40 :   0.0 : 0.0261 - b[0] - 0.3222*b[1] - 94.0*b[2] - (x[13] - y[13]) :   0.0 :   True\n",
            "         41 :   0.0 :                                                     x[13] :  +Inf :   True\n",
            "         42 :   0.0 :                                                     y[13] :  +Inf :   True\n",
            "         43 :   0.0 : 0.0358 - b[0] - 0.2792*b[1] - 88.9*b[2] - (x[14] - y[14]) :   0.0 :   True\n",
            "         44 :   0.0 :                                                     x[14] :  +Inf :   True\n",
            "         45 :   0.0 :                                                     y[14] :  +Inf :   True\n",
            "         46 :   0.0 : 0.0504 - b[0] - 0.3609*b[1] - 74.3*b[2] - (x[15] - y[15]) :   0.0 :   True\n",
            "         47 :   0.0 :                                                     x[15] :  +Inf :   True\n",
            "         48 :   0.0 :                                                     y[15] :  +Inf :   True\n",
            "         49 :   0.0 : 0.0478 - b[0] - 0.6187*b[1] - 74.0*b[2] - (x[16] - y[16]) :   0.0 :   True\n",
            "         50 :   0.0 :                                                     x[16] :  +Inf :   True\n",
            "         51 :   0.0 :                                                     y[16] :  +Inf :   True\n",
            "         52 :   0.0 : 0.0549 - b[0] - 0.6176*b[1] - 69.8*b[2] - (x[17] - y[17]) :   0.0 :   True\n",
            "         53 :   0.0 :                                                     x[17] :  +Inf :   True\n",
            "         54 :   0.0 :                                                     y[17] :  +Inf :   True\n",
            "         55 :   0.0 : 0.0468 - b[0] - 0.6004*b[1] - 81.6*b[2] - (x[18] - y[18]) :   0.0 :   True\n",
            "         56 :   0.0 :                                                     x[18] :  +Inf :   True\n",
            "         57 :   0.0 :                                                     y[18] :  +Inf :   True\n",
            "         58 :   0.0 : 0.0478 - b[0] - 0.6119*b[1] - 81.0*b[2] - (x[19] - y[19]) :   0.0 :   True\n",
            "         59 :   0.0 :                                                     x[19] :  +Inf :   True\n",
            "         60 :   0.0 :                                                     y[19] :  +Inf :   True\n",
            "         61 :   0.0 :                                                      b[0] :  +Inf :   True\n",
            "\n",
            "9 Declarations: x_index x y_index y b_index b obj constraints_index constraints\n"
          ]
        }
      ]
    },
    {
      "cell_type": "code",
      "source": [
        "optOP = SolverFactory('cbc')\n",
        "result_op1 = optOP.solve(model_op1)\n",
        "print(result_op1)"
      ],
      "metadata": {
        "colab": {
          "base_uri": "https://localhost:8080/"
        },
        "id": "MZJjASauWV2T",
        "outputId": "eab51340-795d-4132-ba5c-541899f6fcee"
      },
      "execution_count": 219,
      "outputs": [
        {
          "output_type": "stream",
          "name": "stdout",
          "text": [
            "\n",
            "Problem: \n",
            "- Name: unknown\n",
            "  Lower bound: 0.0379290902\n",
            "  Upper bound: 0.0379290902\n",
            "  Number of objectives: 1\n",
            "  Number of constraints: 61\n",
            "  Number of variables: 23\n",
            "  Number of nonzeros: 20\n",
            "  Sense: minimize\n",
            "Solver: \n",
            "- Status: ok\n",
            "  User time: -1.0\n",
            "  System time: 0.0\n",
            "  Wallclock time: 0.0\n",
            "  Termination condition: optimal\n",
            "  Termination message: Model was solved to optimality (subject to tolerances), and an optimal solution is available.\n",
            "  Statistics: \n",
            "    Branch and bound: \n",
            "      Number of bounded subproblems: None\n",
            "      Number of created subproblems: None\n",
            "    Black box: \n",
            "      Number of iterations: 22\n",
            "  Error rc: 0\n",
            "  Time: 0.05602836608886719\n",
            "Solution: \n",
            "- number of solutions: 0\n",
            "  number of solutions displayed: 0\n",
            "\n"
          ]
        }
      ]
    },
    {
      "cell_type": "code",
      "source": [
        "model_op1.obj()"
      ],
      "metadata": {
        "colab": {
          "base_uri": "https://localhost:8080/"
        },
        "id": "wtP-hyeKX0C8",
        "outputId": "bb560539-44ae-48ea-b7ab-5290871e64fb"
      },
      "execution_count": 220,
      "outputs": [
        {
          "output_type": "execute_result",
          "data": {
            "text/plain": [
              "0.0379290903"
            ]
          },
          "metadata": {},
          "execution_count": 220
        }
      ]
    },
    {
      "cell_type": "code",
      "source": [
        "aoptOP = SolverFactory('cbc')\n",
        "result_op2= optOP.solve(model_op2)\n",
        "print(result_op2)"
      ],
      "metadata": {
        "colab": {
          "base_uri": "https://localhost:8080/"
        },
        "id": "B5qUCvEoX4qU",
        "outputId": "3a619222-a633-42a9-f562-292a9d0b8079"
      },
      "execution_count": 221,
      "outputs": [
        {
          "output_type": "stream",
          "name": "stdout",
          "text": [
            "\n",
            "Problem: \n",
            "- Name: unknown\n",
            "  Lower bound: 0.0379290902\n",
            "  Upper bound: 0.0379290902\n",
            "  Number of objectives: 1\n",
            "  Number of constraints: 61\n",
            "  Number of variables: 43\n",
            "  Number of nonzeros: 40\n",
            "  Sense: minimize\n",
            "Solver: \n",
            "- Status: ok\n",
            "  User time: -1.0\n",
            "  System time: 0.0\n",
            "  Wallclock time: 0.0\n",
            "  Termination condition: optimal\n",
            "  Termination message: Model was solved to optimality (subject to tolerances), and an optimal solution is available.\n",
            "  Statistics: \n",
            "    Branch and bound: \n",
            "      Number of bounded subproblems: None\n",
            "      Number of created subproblems: None\n",
            "    Black box: \n",
            "      Number of iterations: 20\n",
            "  Error rc: 0\n",
            "  Time: 0.06438469886779785\n",
            "Solution: \n",
            "- number of solutions: 0\n",
            "  number of solutions displayed: 0\n",
            "\n"
          ]
        }
      ]
    },
    {
      "cell_type": "code",
      "source": [
        "model_op2.obj()"
      ],
      "metadata": {
        "colab": {
          "base_uri": "https://localhost:8080/"
        },
        "id": "jdfEQm28Xz0e",
        "outputId": "3a0762fd-8295-4368-9faa-23ef78a28fd8"
      },
      "execution_count": 222,
      "outputs": [
        {
          "output_type": "execute_result",
          "data": {
            "text/plain": [
              "0.0379290903"
            ]
          },
          "metadata": {},
          "execution_count": 222
        }
      ]
    },
    {
      "cell_type": "code",
      "source": [
        "bi=[]\n",
        "for i in range(3):\n",
        "  a=model_op1.b[i]()\n",
        "  bi.append(a)\n",
        "bi"
      ],
      "metadata": {
        "colab": {
          "base_uri": "https://localhost:8080/"
        },
        "id": "L-yuZIzoZrv6",
        "outputId": "f6f36e21-4bf4-4c8d-a8a3-91c76bb09603"
      },
      "execution_count": 223,
      "outputs": [
        {
          "output_type": "execute_result",
          "data": {
            "text/plain": [
              "[0.11547155, 0.0093102734, -0.00093012282]"
            ]
          },
          "metadata": {},
          "execution_count": 223
        }
      ]
    },
    {
      "cell_type": "code",
      "source": [
        "forecast_linear=[]\n",
        "for i in range(20):\n",
        "  forecast_linear.append(bi[0]+interest_rate.iloc[i][2]*bi[1]+interest_rate.iloc[i][3]*bi[2])\n",
        "forecast_linear=np.array(forecast_linear)\n",
        "forecast_linear"
      ],
      "metadata": {
        "colab": {
          "base_uri": "https://localhost:8080/"
        },
        "id": "jFX3h5NOaZFq",
        "outputId": "39e88b41-531f-47b8-cd7c-a5c0b1493562"
      },
      "execution_count": 224,
      "outputs": [
        {
          "output_type": "execute_result",
          "data": {
            "text/plain": [
              "array([0.0392187 , 0.03261876, 0.0354    , 0.03498407, 0.03853317,\n",
              "       0.0501    , 0.04753498, 0.052673  , 0.0431    , 0.04348797,\n",
              "       0.03779904, 0.03062147, 0.03219271, 0.03103978, 0.03538306,\n",
              "       0.0497235 , 0.05240273, 0.056299  , 0.04516342, 0.04582856])"
            ]
          },
          "metadata": {},
          "execution_count": 224
        }
      ]
    },
    {
      "cell_type": "code",
      "source": [
        "\n",
        "years = interest_rate.Year.to_list()\n",
        "sns.lineplot(x = years, y= initial_Rate, palette='pastel', marker='o',color = 'black', label = 'Actual_rate')\n",
        "sns.lineplot(x = years, y = forecast, palette = 'pastel', marker='s', color = 'yellow', label = 'Forecast')\n",
        "sns.lineplot(x = years, y = forecast_linear, palette = 'pastel', marker='d', color = 'pink', label = 'Forecast_linear')\n",
        "plt.xticks(years, rotation = 90)"
      ],
      "metadata": {
        "colab": {
          "base_uri": "https://localhost:8080/",
          "height": 1000
        },
        "id": "0cDpFicpZKOi",
        "outputId": "e7159f71-a5e4-447a-a979-f4a2a1b3aab7"
      },
      "execution_count": 225,
      "outputs": [
        {
          "output_type": "stream",
          "name": "stderr",
          "text": [
            "<ipython-input-225-7728ffda1775>:2: UserWarning: Ignoring `palette` because no `hue` variable has been assigned.\n",
            "  sns.lineplot(x = years, y= initial_Rate, palette='pastel', marker='o',color = 'black', label = 'Actual_rate')\n",
            "<ipython-input-225-7728ffda1775>:3: UserWarning: Ignoring `palette` because no `hue` variable has been assigned.\n",
            "  sns.lineplot(x = years, y = forecast, palette = 'pastel', marker='s', color = 'yellow', label = 'Forecast')\n",
            "<ipython-input-225-7728ffda1775>:4: UserWarning: Ignoring `palette` because no `hue` variable has been assigned.\n",
            "  sns.lineplot(x = years, y = forecast_linear, palette = 'pastel', marker='d', color = 'pink', label = 'Forecast_linear')\n"
          ]
        },
        {
          "output_type": "execute_result",
          "data": {
            "text/plain": [
              "([<matplotlib.axis.XTick at 0x7d034e09f700>,\n",
              "  <matplotlib.axis.XTick at 0x7d034e09f910>,\n",
              "  <matplotlib.axis.XTick at 0x7d034e0ebbe0>,\n",
              "  <matplotlib.axis.XTick at 0x7d034e082350>,\n",
              "  <matplotlib.axis.XTick at 0x7d034e055e10>,\n",
              "  <matplotlib.axis.XTick at 0x7d034e055330>,\n",
              "  <matplotlib.axis.XTick at 0x7d034e081540>,\n",
              "  <matplotlib.axis.XTick at 0x7d034e11b820>,\n",
              "  <matplotlib.axis.XTick at 0x7d034e1195a0>,\n",
              "  <matplotlib.axis.XTick at 0x7d034e1195d0>,\n",
              "  <matplotlib.axis.XTick at 0x7d034e057f10>,\n",
              "  <matplotlib.axis.XTick at 0x7d034e09f370>,\n",
              "  <matplotlib.axis.XTick at 0x7d034df45e40>,\n",
              "  <matplotlib.axis.XTick at 0x7d034df46fb0>,\n",
              "  <matplotlib.axis.XTick at 0x7d034df47790>,\n",
              "  <matplotlib.axis.XTick at 0x7d034df47f70>,\n",
              "  <matplotlib.axis.XTick at 0x7d034df68790>,\n",
              "  <matplotlib.axis.XTick at 0x7d034df47610>,\n",
              "  <matplotlib.axis.XTick at 0x7d034df44490>,\n",
              "  <matplotlib.axis.XTick at 0x7d034e0d6fb0>],\n",
              " [Text(2003, 0, '2003'),\n",
              "  Text(2004, 0, '2004'),\n",
              "  Text(2005, 0, '2005'),\n",
              "  Text(2006, 0, '2006'),\n",
              "  Text(2007, 0, '2007'),\n",
              "  Text(2008, 0, '2008'),\n",
              "  Text(2009, 0, '2009'),\n",
              "  Text(2010, 0, '2010'),\n",
              "  Text(2011, 0, '2011'),\n",
              "  Text(2012, 0, '2012'),\n",
              "  Text(2013, 0, '2013'),\n",
              "  Text(2014, 0, '2014'),\n",
              "  Text(2015, 0, '2015'),\n",
              "  Text(2016, 0, '2016'),\n",
              "  Text(2017, 0, '2017'),\n",
              "  Text(2018, 0, '2018'),\n",
              "  Text(2019, 0, '2019'),\n",
              "  Text(2020, 0, '2020'),\n",
              "  Text(2021, 0, '2021'),\n",
              "  Text(2022, 0, '2022')])"
            ]
          },
          "metadata": {},
          "execution_count": 225
        },
        {
          "output_type": "display_data",
          "data": {
            "text/plain": [
              "<Figure size 640x480 with 1 Axes>"
            ],
            "image/png": "[encoded data removed]"
          },
          "metadata": {}
        }
      ]
    },
    {
      "cell_type": "code",
      "source": [],
      "metadata": {
        "id": "2zmz8_BbqkY4"
      },
      "execution_count": null,
      "outputs": []
    },
    {
      "cell_type": "markdown",
      "source": [
        "# Answer 2"
      ],
      "metadata": {
        "id": "93chQpHzqkxO"
      }
    },
    {
      "cell_type": "code",
      "source": [],
      "metadata": {
        "id": "tF3IpB4wqmne"
      },
      "execution_count": null,
      "outputs": []
    },
    {
      "cell_type": "code",
      "source": [
        "!pip -q install qpsolvers[open_source_solvers]\n",
        "from qpsolvers import solve_qp\n",
        "import numpy as np\n",
        "\n",
        "\n",
        "P = np.array([[12.982, 0, 0, 0],\n",
        "            [0, 2.4, 0, 0],\n",
        "            [0, 0, 0.44, -0.051],\n",
        "            [0, 0, -0.051,0.068]])\n",
        "\n",
        "q = np.array([-6748, -1184, -420.625, -70.41])\n",
        "\n",
        "\n",
        "# G matrix representation of coefficients of inequality constraints\n",
        "G = np.array([[-25.964, -96, -7.08, 0.025],\n",
        "            [-58.419, -2.4, -5.56, 17.39],\n",
        "            [1, 0, 0, 0],\n",
        "            [0, 1, 0, 0],\n",
        "            [0, 0, 0.22, -0.025],\n",
        "            [0, 0, -0.026,0.034]])\n",
        "# h vector representation of capacity bounds for inequality constraints\n",
        "h = np.array([59861805, 74921464, 1039.59, 986.66, 420.625,70.41])\n",
        "\n",
        "p=solve_qp(P, q, G, h, None, None, None, None,solver=\"osqp\")"
      ],
      "metadata": {
        "colab": {
          "base_uri": "https://localhost:8080/"
        },
        "outputId": "ffa7b0d8-22bf-4780-d906-e0006a16702e",
        "id": "UMb4QvV6qnBX"
      },
      "execution_count": 226,
      "outputs": [
        {
          "output_type": "stream",
          "name": "stderr",
          "text": [
            "/usr/local/lib/python3.10/dist-packages/qpsolvers/conversions/ensure_sparse_matrices.py:38: UserWarning: Converted P to scipy.sparse.csc.csc_matrix\n",
            "For best performance, build P as a scipy.sparse.csc_matrix rather than as a numpy.ndarray\n",
            "  warnings.warn(\n",
            "/usr/local/lib/python3.10/dist-packages/qpsolvers/conversions/ensure_sparse_matrices.py:38: UserWarning: Converted G to scipy.sparse.csc.csc_matrix\n",
            "For best performance, build G as a scipy.sparse.csc_matrix rather than as a numpy.ndarray\n",
            "  warnings.warn(\n"
          ]
        }
      ]
    },
    {
      "cell_type": "code",
      "source": [],
      "metadata": {
        "id": "tY7Abnl5q0Td"
      },
      "execution_count": null,
      "outputs": []
    },
    {
      "cell_type": "code",
      "source": [
        "import numpy as np\n",
        "import matplotlib.pyplot as plt\n",
        "\n",
        "\n",
        "prices = p\n",
        "\n",
        "# Define the range of change in disposable income (-10% to 10%)\n",
        "income_change = np.arange(-0.10, 0.06, 0.05)\n",
        "\n",
        "# Calculate revenue for each change in disposable income\n",
        "revenues = []\n",
        "for change in income_change:\n",
        "    # Calculate new prices based on the change in disposable income\n",
        "    new_prices = prices * (1 + change)\n",
        "    # Calculate revenue using the new prices and last year's consumption data\n",
        "    revenue = np.dot(new_prices, np.array([4820, 320, 210,70]))  # Assuming last year's consumption data for P1, P2, P3\n",
        "    revenues.append(revenue)\n",
        "\n",
        "\n",
        "plt.figure(figsize=(8, 6))\n",
        "plt.plot(income_change * 100, revenues, marker='o', color='b', linestyle='-', linewidth=3, markersize=5)\n",
        "plt.xlabel('Change in disposable income (%)')\n",
        "plt.ylabel('Revenue')\n",
        "plt.title('Sensitivity of revenue to changes in disposable income')\n",
        "plt.grid(True)\n",
        "plt.show()"
      ],
      "metadata": {
        "colab": {
          "base_uri": "https://localhost:8080/",
          "height": 564
        },
        "id": "qtrkGf-0MH1F",
        "outputId": "afb6e4bf-b492-47c2-8601-8929814fd7e9"
      },
      "execution_count": 227,
      "outputs": [
        {
          "output_type": "display_data",
          "data": {
            "text/plain": [
              "<Figure size 800x600 with 1 Axes>"
            ],
            "image/png": "[encoded data removed]"
          },
          "metadata": {}
        }
      ]
    },
    {
      "cell_type": "code",
      "source": [],
      "metadata": {
        "id": "Ohfp_C_Bq757"
      },
      "execution_count": null,
      "outputs": []
    }
  ]
}