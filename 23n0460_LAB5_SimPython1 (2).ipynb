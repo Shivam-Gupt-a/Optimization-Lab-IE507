{
  "nbformat": 4,
  "nbformat_minor": 0,
  "metadata": {
    "colab": {
      "provenance": []
    },
    "kernelspec": {
      "name": "python3",
      "display_name": "Python 3"
    }
  },
  "cells": [
    {
      "cell_type": "markdown",
      "metadata": {
        "id": "uT_cmDH4VNUW"
      },
      "source": [
        "# Simulation using Python 1\n",
        "### Using Numpy's random package\n",
        "\n",
        "[Numpy Random website](https://docs.scipy.org/doc/numpy-1.14.1/reference/routines.random.html)"
      ]
    },
    {
      "cell_type": "markdown",
      "metadata": {
        "id": "L7CjxntgVigf"
      },
      "source": [
        "**import packages**"
      ]
    },
    {
      "cell_type": "code",
      "metadata": {
        "id": "xZ6aaRKXV4PY"
      },
      "source": [
        "#run this code first\n",
        "import numpy.random as rnd\n",
        "import numpy as np"
      ],
      "execution_count": null,
      "outputs": []
    },
    {
      "cell_type": "markdown",
      "metadata": {
        "id": "YNR-O4lWhEyf"
      },
      "source": [
        "**Example 1a: Roll a die 10 times and observe output**\n",
        "\n",
        "We will use randint() function for this"
      ]
    },
    {
      "cell_type": "code",
      "metadata": {
        "id": "6_A7ygliYCBZ",
        "colab": {
          "base_uri": "https://localhost:8080/"
        },
        "outputId": "e13f5b98-f1ba-4091-b4e5-c7bfc65736e8"
      },
      "source": [
        "#run this code.  Click play multiple times to simulate multiple dice throws\n",
        "rnd.randint(1,6+1)"
      ],
      "execution_count": null,
      "outputs": [
        {
          "output_type": "execute_result",
          "data": {
            "text/plain": [
              "2"
            ]
          },
          "metadata": {},
          "execution_count": 2
        }
      ]
    },
    {
      "cell_type": "code",
      "metadata": {
        "id": "zsKvSPgnYEm6",
        "colab": {
          "base_uri": "https://localhost:8080/"
        },
        "outputId": "f2a9252b-61d5-45c4-c4d5-a1f7288e5ae5"
      },
      "source": [
        "#insert code here to simulate 10 rolls of a die, and print the output.\n",
        "for i in range(10):\n",
        "  x=rnd.randint(1,6+1)\n",
        "  print(rnd.randint(1,6+1)  ,end=', ')\n",
        "\n",
        "\n"
      ],
      "execution_count": null,
      "outputs": [
        {
          "output_type": "stream",
          "name": "stdout",
          "text": [
            "2, 2, 2, 6, 3, 1, 1, 5, 5, 2, "
          ]
        }
      ]
    },
    {
      "cell_type": "markdown",
      "metadata": {
        "id": "kMa9iXXOhYMz"
      },
      "source": [
        "**Example 1b: Roll a pair of dice N times, and plot histogram**\n",
        "\n",
        "We will use randint() function for this; use matplotlib.pyplot for plotting"
      ]
    },
    {
      "cell_type": "code",
      "metadata": {
        "id": "4uVftSjiYj5C",
        "colab": {
          "base_uri": "https://localhost:8080/"
        },
        "outputId": "f8ed5b42-9923-42c3-fe05-544e567223eb"
      },
      "source": [
        "#Code adds the output of two 'dice throws'. Run code multiple times.\n",
        "rnd.randint(1,6+1) + rnd.randint(1,6+1)"
      ],
      "execution_count": null,
      "outputs": [
        {
          "output_type": "execute_result",
          "data": {
            "text/plain": [
              "6"
            ]
          },
          "metadata": {},
          "execution_count": 7
        }
      ]
    },
    {
      "cell_type": "code",
      "metadata": {
        "id": "Q3Ou0-00YOKB",
        "colab": {
          "base_uri": "https://localhost:8080/"
        },
        "outputId": "9000eabd-100e-4267-a826-2b4bc0531005"
      },
      "source": [
        "#Code here simulates 10 dice throws.\n",
        "for i in range(10):\n",
        "  x=rnd.randint(1,6+1) + rnd.randint(1,6+1)\n",
        "  print( x , end=', ')\n"
      ],
      "execution_count": null,
      "outputs": [
        {
          "output_type": "stream",
          "name": "stdout",
          "text": [
            "11, 8, 6, 7, 6, 5, 11, 5, 4, 7, "
          ]
        }
      ]
    },
    {
      "cell_type": "code",
      "metadata": {
        "id": "Jw-6fA9zYoRB"
      },
      "source": [
        "#Required for plotting.\n",
        "import matplotlib.pyplot as plt"
      ],
      "execution_count": null,
      "outputs": []
    },
    {
      "cell_type": "code",
      "metadata": {
        "id": "I1qr9mvzY479",
        "colab": {
          "base_uri": "https://localhost:8080/",
          "height": 482
        },
        "outputId": "7932604e-a22d-4056-849d-3a371cc8f4f9"
      },
      "source": [
        "# Simulate N throws of pair of dice, and plot histogram\n",
        "n=1000\n",
        "x=[]\n",
        "for i in range(n):\n",
        "  x.append( rnd.randint(1,6+1) + rnd.randint(1,6+1) )\n",
        "\n",
        "plt.hist( x )"
      ],
      "execution_count": null,
      "outputs": [
        {
          "output_type": "execute_result",
          "data": {
            "text/plain": [
              "(array([ 34.,  62.,  80., 112., 145., 140., 159., 105.,  86.,  77.]),\n",
              " array([ 2.,  3.,  4.,  5.,  6.,  7.,  8.,  9., 10., 11., 12.]),\n",
              " <BarContainer object of 10 artists>)"
            ]
          },
          "metadata": {},
          "execution_count": 20
        },
        {
          "output_type": "display_data",
          "data": {
            "text/plain": [
              "<Figure size 640x480 with 1 Axes>"
            ],
            "image/png": "[encoded data removed]"
          },
          "metadata": {}
        }
      ]
    },
    {
      "cell_type": "markdown",
      "metadata": {
        "id": "TycNwmAPiEux"
      },
      "source": [
        "**Example 1c,1d: Toss a fair/unfair coin 10 times**\n",
        "\n",
        "Use choice() function"
      ]
    },
    {
      "cell_type": "code",
      "metadata": {
        "id": "Eo-lMDhvZHY9",
        "colab": {
          "base_uri": "https://localhost:8080/"
        },
        "outputId": "53f63a0c-2d53-43dd-aa8a-7872c961d990"
      },
      "source": [
        "#insert code here to simulate toss a fair coin, choice(coin)\n",
        "coin=['Heads', 'Tails']\n",
        "for i in range(10):\n",
        " print(rnd.choice(coin)   )"
      ],
      "execution_count": null,
      "outputs": [
        {
          "output_type": "stream",
          "name": "stdout",
          "text": [
            "Heads\n",
            "Heads\n",
            "Tails\n",
            "Heads\n",
            "Heads\n",
            "Heads\n",
            "Heads\n",
            "Tails\n",
            "Heads\n",
            "Heads\n"
          ]
        }
      ]
    },
    {
      "cell_type": "code",
      "metadata": {
        "id": "DKQ4dfi0aFi0",
        "colab": {
          "base_uri": "https://localhost:8080/"
        },
        "outputId": "a114d539-a9e2-4e18-b9d6-00b534344fc9"
      },
      "source": [
        "#insert code here to simulate toss an unfair coin, with P{H}=0.8.\n",
        "#use choice(coin, p=[0.8, 0.2])\n",
        "coin=['Heads', 'Tails']\n",
        "for i in range(10):\n",
        " print( rnd.choice(coin,p=[0.8,0.2]) )"
      ],
      "execution_count": null,
      "outputs": [
        {
          "output_type": "stream",
          "name": "stdout",
          "text": [
            "Heads\n",
            "Heads\n",
            "Heads\n",
            "Tails\n",
            "Heads\n",
            "Heads\n",
            "Heads\n",
            "Heads\n",
            "Heads\n",
            "Heads\n"
          ]
        }
      ]
    },
    {
      "cell_type": "code",
      "metadata": {
        "id": "SRqkKjQmco-A",
        "colab": {
          "base_uri": "https://localhost:8080/"
        },
        "outputId": "498458b8-58ab-46e8-fd54-0b36795e7eba"
      },
      "source": [
        "#A more compact code. Use  choice(coin, p=[0.8, 0.2], size=10)\n",
        "coin=['Heads', 'Tails']\n",
        "rnd.choice(coin,p=[0.8,0.2],size=10)"
      ],
      "execution_count": null,
      "outputs": [
        {
          "output_type": "execute_result",
          "data": {
            "text/plain": [
              "array(['Heads', 'Heads', 'Heads', 'Heads', 'Heads', 'Tails', 'Heads',\n",
              "       'Heads', 'Tails', 'Heads'], dtype='<U5')"
            ]
          },
          "metadata": {},
          "execution_count": 38
        }
      ]
    },
    {
      "cell_type": "markdown",
      "metadata": {
        "id": "dt0uVvF-ifKy"
      },
      "source": [
        "**Example 1e: Sample 3 balls from a box with 5 red and 3 blue balls, without replacement**\n",
        "\n",
        "Use sample() function"
      ]
    },
    {
      "cell_type": "code",
      "metadata": {
        "id": "dPFuBcCDc7Dm",
        "colab": {
          "base_uri": "https://localhost:8080/",
          "height": 35
        },
        "outputId": "0cf7ace7-f3cd-464d-f4dc-5fbdd8aade4a"
      },
      "source": [
        "#insert code here to simulate sampling without replacement. Use replace='False' in choice.\n",
        "box=['red','red','red','red','red','blue','blue','blue']\n",
        "rnd.choice( box,replace=False )"
      ],
      "execution_count": null,
      "outputs": [
        {
          "output_type": "execute_result",
          "data": {
            "text/plain": [
              "'red'"
            ],
            "application/vnd.google.colaboratory.intrinsic+json": {
              "type": "string"
            }
          },
          "metadata": {},
          "execution_count": 24
        }
      ]
    },
    {
      "cell_type": "markdown",
      "metadata": {
        "id": "fywJnj-hiwqt"
      },
      "source": [
        "**Example 1f: Randomly shuffle a list of students**\n",
        "\n",
        "Use shuffle() function"
      ]
    },
    {
      "cell_type": "code",
      "metadata": {
        "id": "eduuS73peSiu",
        "colab": {
          "base_uri": "https://localhost:8080/"
        },
        "outputId": "0c12e809-7268-4c2a-d420-cb3acca0b8ee"
      },
      "source": [
        "#insert code here to shuffle a list\n",
        "students=['bhanu','shyam','radha','vijay','manu','deepak','meena','latha', 'alex', 'sania']\n",
        "rnd.shuffle( students )\n",
        "print(students)"
      ],
      "execution_count": null,
      "outputs": [
        {
          "output_type": "stream",
          "name": "stdout",
          "text": [
            "['shyam', 'alex', 'vijay', 'meena', 'deepak', 'radha', 'bhanu', 'sania', 'latha', 'manu']\n"
          ]
        }
      ]
    },
    {
      "cell_type": "markdown",
      "metadata": {
        "id": "Sfe_K2ekyK9X"
      },
      "source": [
        "**Example 1g: Probability Distributions**\n",
        "\n",
        "Use random(), uniform(), triangular(), exponential()"
      ]
    },
    {
      "cell_type": "code",
      "metadata": {
        "id": "mr_GHbBQyX6C",
        "colab": {
          "base_uri": "https://localhost:8080/"
        },
        "outputId": "67727c37-00c9-4bea-915e-4031a4fc6d3d"
      },
      "source": [
        "# Use random() function to generate numbers between 0 and 1\n",
        "# Use uniform(a,b) function to generate numbers between a=1 and b=6\n",
        "# Use triangular(low, mode, high) function to generate numbers triangular(1,2,6)\n",
        "# Use exponential(scale) function to generate numbers exponential(scale=2); scale = 1/lambda\n",
        "print('From random', rnd.random())\n",
        "print('from uniform', rnd.uniform(1,6))\n",
        "print('from tria(1,6,2)', rnd.triangular(1,2,6))\n",
        "print('from exponential(2)', rnd.exponential(2))"
      ],
      "execution_count": null,
      "outputs": [
        {
          "output_type": "stream",
          "name": "stdout",
          "text": [
            "From random 0.36984916857361616\n",
            "from uniform 5.694412183405056\n",
            "from tria(1,6,2) 1.7771015109786283\n",
            "from exponential(2) 0.869810503394336\n"
          ]
        }
      ]
    },
    {
      "cell_type": "markdown",
      "metadata": {
        "id": "gqI7nLL80Vh_"
      },
      "source": [
        "Next: Let's generate say 1000 samples from a distribution and plot the histogram to see the distribution"
      ]
    },
    {
      "cell_type": "code",
      "metadata": {
        "id": "ACtJnev40e1X",
        "colab": {
          "base_uri": "https://localhost:8080/",
          "height": 534
        },
        "outputId": "db9de5fd-cca8-4926-e086-5228754109ad"
      },
      "source": [
        "#Let's try uniform distribution\n",
        "y=[]\n",
        "n=10000\n",
        "for i in range(n):\n",
        "  y.append(rnd.uniform(1,6)  )\n",
        "\n",
        "plt.hist(y)"
      ],
      "execution_count": null,
      "outputs": [
        {
          "output_type": "execute_result",
          "data": {
            "text/plain": [
              "(array([ 996.,  963.,  955., 1035.,  998., 1031., 1034.,  951., 1027.,\n",
              "        1010.]),\n",
              " array([1.00022487, 1.50015174, 2.0000786 , 2.50000546, 2.99993233,\n",
              "        3.49985919, 3.99978605, 4.49971292, 4.99963978, 5.49956664,\n",
              "        5.9994935 ]),\n",
              " <BarContainer object of 10 artists>)"
            ]
          },
          "metadata": {},
          "execution_count": 30
        },
        {
          "output_type": "display_data",
          "data": {
            "text/plain": [
              "<Figure size 640x480 with 1 Axes>"
            ],
            "image/png": "[encoded data removed]"
          },
          "metadata": {}
        }
      ]
    },
    {
      "cell_type": "code",
      "metadata": {
        "id": "T5rf4ueP0w25",
        "colab": {
          "base_uri": "https://localhost:8080/",
          "height": 517
        },
        "outputId": "a7dda375-1812-4918-ca42-c23bbf1e8df8"
      },
      "source": [
        "#Let's try expo(2) distribution\n",
        "z=[]\n",
        "n=1000\n",
        "for i in range(n):\n",
        "  z.append( rnd.exponential(2) )\n",
        "\n",
        "plt.hist(z)"
      ],
      "execution_count": null,
      "outputs": [
        {
          "output_type": "execute_result",
          "data": {
            "text/plain": [
              "(array([521., 231., 114.,  72.,  33.,  16.,   3.,   3.,   3.,   4.]),\n",
              " array([2.80876429e-03, 1.33906791e+00, 2.67532706e+00, 4.01158621e+00,\n",
              "        5.34784536e+00, 6.68410451e+00, 8.02036365e+00, 9.35662280e+00,\n",
              "        1.06928820e+01, 1.20291411e+01, 1.33654002e+01]),\n",
              " <BarContainer object of 10 artists>)"
            ]
          },
          "metadata": {},
          "execution_count": 31
        },
        {
          "output_type": "display_data",
          "data": {
            "text/plain": [
              "<Figure size 640x480 with 1 Axes>"
            ],
            "image/png": "[encoded data removed]"
          },
          "metadata": {}
        }
      ]
    },
    {
      "cell_type": "code",
      "metadata": {
        "id": "XKBzsEZ5PW2m",
        "colab": {
          "base_uri": "https://localhost:8080/",
          "height": 517
        },
        "outputId": "f37ecea0-c6c5-4df7-911d-8423a46086ab"
      },
      "source": [
        "# We can write a more compact code using \"size\" input inside the distribution function\n",
        "n=1000\n",
        "z=rnd.exponential(2,size=n)\n",
        "plt.hist(z)"
      ],
      "execution_count": null,
      "outputs": [
        {
          "output_type": "execute_result",
          "data": {
            "text/plain": [
              "(array([448., 238., 151.,  73.,  37.,  28.,  12.,   6.,   4.,   3.]),\n",
              " array([1.01106935e-03, 1.17325136e+00, 2.34549164e+00, 3.51773193e+00,\n",
              "        4.68997222e+00, 5.86221250e+00, 7.03445279e+00, 8.20669308e+00,\n",
              "        9.37893337e+00, 1.05511737e+01, 1.17234139e+01]),\n",
              " <BarContainer object of 10 artists>)"
            ]
          },
          "metadata": {},
          "execution_count": 39
        },
        {
          "output_type": "display_data",
          "data": {
            "text/plain": [
              "<Figure size 640x480 with 1 Axes>"
            ],
            "image/png": "[encoded data removed]"
          },
          "metadata": {}
        }
      ]
    },
    {
      "cell_type": "markdown",
      "metadata": {
        "id": "eaQ-jxQH2v4Z"
      },
      "source": [
        "Next: Let's try simple probability exercises, compute P{X>=3}, where X ~ expo(mean=2)"
      ]
    },
    {
      "cell_type": "code",
      "metadata": {
        "id": "owSVOBcK1crb",
        "colab": {
          "base_uri": "https://localhost:8080/"
        },
        "outputId": "fb0790c3-b6b3-43fe-a8b1-331495b04b06"
      },
      "source": [
        "# Suppose X ~Expo(mean=2), what is P(X>=8)? Rerun with different values of n (sample size) and observe the output\n",
        "count=0\n",
        "n=100000\n",
        "rnd.seed(3)\n",
        "for i in range(n):\n",
        "  if ( rnd.exponential(2) >= 8):\n",
        "    count = count+1\n",
        "\n",
        "print('P{X>=8} is ', count/n)"
      ],
      "execution_count": null,
      "outputs": [
        {
          "output_type": "stream",
          "name": "stdout",
          "text": [
            "P{X>=8} is  0.01829\n"
          ]
        }
      ]
    },
    {
      "cell_type": "markdown",
      "metadata": {
        "id": "C58ouJl927rR"
      },
      "source": [
        "In the above code, you see that the Prob. value keeps changing when you run it multiple times. To keep it the same, we need the simulator to use the same set of random numbers each time.  We can do that using ```seed()``` function.\n",
        "\n",
        "In the above code, before the ```for-loop ```, insert ```rnd.seed(3)``` and rerun the code"
      ]
    },
    {
      "cell_type": "markdown",
      "metadata": {
        "id": "gcJUwt8E3sXB"
      },
      "source": [
        "**Example 1h: Central limit Theorem**\n",
        "If $X_1, X_2, ..X_n$ are i.i.d random samples each of size $n$ taken from a population. Then the sample mean $\\bar{X}$ is Normally distributed."
      ]
    },
    {
      "cell_type": "code",
      "metadata": {
        "id": "E7riElZe3XNT",
        "colab": {
          "base_uri": "https://localhost:8080/",
          "height": 656
        },
        "outputId": "6e734833-9a7e-4ae6-ab7e-5aaab1c4a0c7"
      },
      "source": [
        "# We can going to generate m sets of data, where each set has n data points.\n",
        "# From each set, we will take the sample mean, and plot the histogram of the sample means\n",
        "# let's generate samples from Expo(2)\n",
        "m=20000\n",
        "n=100\n",
        "sample_means=[]\n",
        "rnd.seed(3)\n",
        "for i in range(m):\n",
        "  x=[]\n",
        "\n",
        "  for j in range(n):\n",
        "    x.append(rnd.exponential(2))\n",
        "  sample_means.append(np.mean(x))\n",
        "\n",
        "\n",
        "\n",
        "\n",
        "plt.hist(sample_means,bins=30)"
      ],
      "execution_count": null,
      "outputs": [
        {
          "output_type": "execute_result",
          "data": {
            "text/plain": [
              "(array([1.000e+00, 2.000e+00, 1.100e+01, 2.900e+01, 7.800e+01, 1.910e+02,\n",
              "        3.610e+02, 6.700e+02, 1.097e+03, 1.456e+03, 1.916e+03, 2.306e+03,\n",
              "        2.302e+03, 2.308e+03, 2.112e+03, 1.646e+03, 1.249e+03, 8.780e+02,\n",
              "        5.860e+02, 3.710e+02, 2.020e+02, 1.170e+02, 6.100e+01, 2.200e+01,\n",
              "        1.400e+01, 8.000e+00, 4.000e+00, 1.000e+00, 0.000e+00, 1.000e+00]),\n",
              " array([1.23810827, 1.29735966, 1.35661105, 1.41586244, 1.47511384,\n",
              "        1.53436523, 1.59361662, 1.65286801, 1.7121194 , 1.77137079,\n",
              "        1.83062219, 1.88987358, 1.94912497, 2.00837636, 2.06762775,\n",
              "        2.12687914, 2.18613054, 2.24538193, 2.30463332, 2.36388471,\n",
              "        2.4231361 , 2.48238749, 2.54163889, 2.60089028, 2.66014167,\n",
              "        2.71939306, 2.77864445, 2.83789584, 2.89714724, 2.95639863,\n",
              "        3.01565002]),\n",
              " <BarContainer object of 30 artists>)"
            ]
          },
          "metadata": {},
          "execution_count": 52
        },
        {
          "output_type": "display_data",
          "data": {
            "text/plain": [
              "<Figure size 640x480 with 1 Axes>"
            ],
            "image/png": "[encoded data removed]"
          },
          "metadata": {}
        }
      ]
    },
    {
      "cell_type": "markdown",
      "metadata": {
        "id": "u3USDWsK7f5V"
      },
      "source": [
        "***Note: The Above construct of ```inner for-loop``` for the samples, and the ```outer for-loop``` for the sample means is common in simulation***"
      ]
    },
    {
      "cell_type": "code",
      "metadata": {
        "id": "eIBANT3hNHd7",
        "colab": {
          "base_uri": "https://localhost:8080/",
          "height": 604
        },
        "outputId": "2cb461f5-de69-4045-dbc6-eaa5e5544dc4"
      },
      "source": [
        "# However, we can write a compact code using list comprehension\n",
        "n=100\n",
        "m=20\n",
        "rnd.seed(3)\n",
        "sample_means = [np.mean(rnd.exponential(2,n)) for i in range(m)]\n",
        "\n",
        "plt.hist(sample_means, bins=30)"
      ],
      "execution_count": null,
      "outputs": [
        {
          "output_type": "execute_result",
          "data": {
            "text/plain": [
              "(array([2., 0., 1., 0., 1., 1., 0., 2., 2., 1., 1., 1., 2., 0., 1., 0., 1.,\n",
              "        0., 1., 2., 0., 0., 0., 0., 0., 0., 0., 0., 0., 1.]),\n",
              " array([1.71516653, 1.74179849, 1.76843045, 1.79506242, 1.82169438,\n",
              "        1.84832634, 1.87495831, 1.90159027, 1.92822223, 1.9548542 ,\n",
              "        1.98148616, 2.00811812, 2.03475009, 2.06138205, 2.08801402,\n",
              "        2.11464598, 2.14127794, 2.16790991, 2.19454187, 2.22117383,\n",
              "        2.2478058 , 2.27443776, 2.30106972, 2.32770169, 2.35433365,\n",
              "        2.38096561, 2.40759758, 2.43422954, 2.46086151, 2.48749347,\n",
              "        2.51412543]),\n",
              " <BarContainer object of 30 artists>)"
            ]
          },
          "metadata": {},
          "execution_count": 53
        },
        {
          "output_type": "display_data",
          "data": {
            "text/plain": [
              "<Figure size 640x480 with 1 Axes>"
            ],
            "image/png": "[encoded data removed]"
          },
          "metadata": {}
        }
      ]
    },
    {
      "cell_type": "markdown",
      "metadata": {
        "id": "6aCnd7u878a5"
      },
      "source": [
        "##Exercise to try\n",
        "**P1: Compute P{2X+Y} <= 10, where X ~ triangular(1,3,8) and Y ~ discrete uniform[1,6] (i.e., sampling Y is like rolling a die)**\n",
        "\n",
        "Compute probability with at least 4 decimal place accuracy"
      ]
    },
    {
      "cell_type": "code",
      "metadata": {
        "id": "tsQo2L3J6dnw",
        "colab": {
          "base_uri": "https://localhost:8080/"
        },
        "outputId": "5a87d0b0-95f8-4e7f-9437-882506a6c197"
      },
      "source": [
        "\n",
        "\n",
        "count=0\n",
        "n=10000\n",
        "rnd.seed(3)\n",
        "for i in range(n):\n",
        "  if ( 2*rnd.triangular(1,3,8)+rnd.randint(1,6+1)<=10):\n",
        "    count = count+1\n",
        "\n",
        "print('P{2x+y<=10} is ', count/n)"
      ],
      "execution_count": null,
      "outputs": [
        {
          "output_type": "stream",
          "name": "stdout",
          "text": [
            "P{2x+y<=10} is  0.3517\n"
          ]
        }
      ]
    },
    {
      "cell_type": "markdown",
      "source": [
        "**P2:** The binomial distribution converges towards the Poisson distribution as the number of trials goes to infinity while the product np converges to a finite limit. Therefore, the Poisson distribution with parameter λ = np can be used as an approximation to B(n, p) of the binomial distribution if n is sufficiently large and p is sufficiently small.\n",
        "\n",
        "Generate samples from B(n, p) and construct a histogram.  Generate samples from Poisson(λ = np) and construct a histogram. Compare the two histrograms (see if you can get 2 histograms in a single figure).\n",
        "Try for different combinations of $n$ and $p$ to see if the theory is true."
      ],
      "metadata": {
        "id": "DNCVaktI9XjH"
      }
    },
    {
      "cell_type": "code",
      "source": [
        "n=100000\n",
        "p=.2\n",
        "x=[]\n",
        "y=[]\n",
        "for i in range(n):\n",
        "   x.append(rnd.binomial(n,p))\n",
        "for j in range(n):\n",
        "  y.append(rnd.poisson(n*p))\n",
        "plt.hist(x)\n",
        "plt.hist(y)"
      ],
      "metadata": {
        "id": "O-yL6RWa_Nrr",
        "colab": {
          "base_uri": "https://localhost:8080/",
          "height": 517
        },
        "outputId": "41d532c0-570b-42f1-fdcd-183ea35c2a75"
      },
      "execution_count": null,
      "outputs": [
        {
          "output_type": "execute_result",
          "data": {
            "text/plain": [
              "(array([2.6000e+01, 4.8200e+02, 4.1440e+03, 1.6997e+04, 3.2730e+04,\n",
              "        3.0111e+04, 1.2700e+04, 2.5370e+03, 2.6300e+02, 1.0000e+01]),\n",
              " array([19385. , 19511.2, 19637.4, 19763.6, 19889.8, 20016. , 20142.2,\n",
              "        20268.4, 20394.6, 20520.8, 20647. ]),\n",
              " <BarContainer object of 10 artists>)"
            ]
          },
          "metadata": {},
          "execution_count": 77
        },
        {
          "output_type": "display_data",
          "data": {
            "text/plain": [
              "<Figure size 640x480 with 1 Axes>"
            ],
            "image/png": "[encoded data removed]"
          },
          "metadata": {}
        }
      ]
    },
    {
      "cell_type": "code",
      "source": [
        "z1=rnd.poisson(n*p)\n",
        "plt.hist(z1)"
      ],
      "metadata": {
        "colab": {
          "base_uri": "https://localhost:8080/",
          "height": 482
        },
        "id": "FRC3RoCq6rmI",
        "outputId": "2b1c289b-d340-4ae6-c384-2382394cdb6c"
      },
      "execution_count": null,
      "outputs": [
        {
          "output_type": "execute_result",
          "data": {
            "text/plain": [
              "(array([0., 0., 0., 0., 0., 1., 0., 0., 0., 0.]),\n",
              " array([44.5, 44.6, 44.7, 44.8, 44.9, 45. , 45.1, 45.2, 45.3, 45.4, 45.5]),\n",
              " <BarContainer object of 10 artists>)"
            ]
          },
          "metadata": {},
          "execution_count": 69
        },
        {
          "output_type": "display_data",
          "data": {
            "text/plain": [
              "<Figure size 640x480 with 1 Axes>"
            ],
            "image/png": "[encoded data removed]"
          },
          "metadata": {}
        }
      ]
    }
  ]
}